{
 "cells": [
  {
   "cell_type": "markdown",
   "id": "57652bef-8cbf-496c-842c-657aff795774",
   "metadata": {
    "id": "57652bef-8cbf-496c-842c-657aff795774"
   },
   "source": [
    "<h1>Временные ряды PySpark</h1>"
   ]
  },
  {
   "cell_type": "markdown",
   "id": "77312f7f-72d9-43e7-a8a5-3a5ead70cc27",
   "metadata": {
    "id": "77312f7f-72d9-43e7-a8a5-3a5ead70cc27"
   },
   "source": [
    "## Техническое задание"
   ]
  },
  {
   "cell_type": "markdown",
   "id": "538f863a-9508-43a7-b3ae-e7861457575b",
   "metadata": {
    "id": "538f863a-9508-43a7-b3ae-e7861457575b"
   },
   "source": [
    "По имеющимся данным необходимо создать модель(-и) предсказания количества заказов такси на последующий час.\n",
    "Данные предоставлены Department of Business Affairs & Consumer Protection."
   ]
  },
  {
   "cell_type": "markdown",
   "id": "5cd27bba-28f7-4a35-b1c0-87d45fa13471",
   "metadata": {
    "id": "5cd27bba-28f7-4a35-b1c0-87d45fa13471"
   },
   "source": [
    "### Цель"
   ]
  },
  {
   "cell_type": "markdown",
   "id": "e9890faa-27e5-41a0-a603-6a2c8af5285d",
   "metadata": {
    "id": "e9890faa-27e5-41a0-a603-6a2c8af5285d"
   },
   "source": [
    "По предоставленным данным от 20022 и 2023 года требуется научиться определять спрос на такси в разных районах Чикаго. Для этого: <br>\n",
    "1. Загрузим датасеты используя библиотеку PySpark.\n",
    "2. Изучим пропуски и отберем необходимые данные для исследования. Проведём ресемплировани.   \n",
    "3. Исследуем как меняется спрос на такси на разных временных промежутках во всём городе и в самых востребованных районах.\n",
    "4. Выделим временные признаки и выделим дополнительные, которые могут повлиять на спрос.\n",
    "5. Обучим несколько моделей предсказаний и выделим самую эффективную, а затем протестируем на заранее выбранной тестовой выборке.\n",
    "5. Оценивать результат будем метрикой MAE и MAPE."
   ]
  },
  {
   "cell_type": "markdown",
   "id": "7edd250d-377d-4baf-b689-be664ae6c7c0",
   "metadata": {
    "id": "7edd250d-377d-4baf-b689-be664ae6c7c0"
   },
   "source": [
    "## Предоставленные данные"
   ]
  },
  {
   "cell_type": "markdown",
   "id": "8784f0ec-a5ec-4f58-8874-e5a8c8953e71",
   "metadata": {
    "id": "8784f0ec-a5ec-4f58-8874-e5a8c8953e71"
   },
   "source": [
    "<b>Taxi_Trips_-_2022.csv</b> - датасет с отчётом о поездках на такси в Чикаго за 2022 год.<br>\n",
    "<b>Taxi_Trips_-_2023.csv</b> - датасет с отчётом о поездках за 2023 год."
   ]
  },
  {
   "cell_type": "markdown",
   "id": "760e64e8-3be9-4a06-b19e-0769e53053db",
   "metadata": {
    "id": "760e64e8-3be9-4a06-b19e-0769e53053db"
   },
   "source": [
    "### Структура датасета"
   ]
  },
  {
   "cell_type": "markdown",
   "id": "d113e400-11c3-4e67-8f10-6090a2883b46",
   "metadata": {
    "id": "d113e400-11c3-4e67-8f10-6090a2883b46"
   },
   "source": [
    "<b>Trip ID</b>\t- уникальный идентификатор поездки<br>\n",
    "<b>Taxi ID</b>\t- уникальный идентификатор такси.<br>\n",
    "<b>Trip Start Timestamp</b> - время начала поездки с округлением до 15 минут.<br>\n",
    "<b>Trip End Timestamp</b> - время окончания поездки<br>\n",
    "<b>Trip Seconds</b> - длительность поездки в секундах\t<br>\n",
    "<b>Trip Miles</b> - дальность поездки в милях. <br>\n",
    "<b>Pickup Census Tract</b> - переписной участок начала поездки.<br>\n",
    "<b>Dropoff Census Tract</b> - переписной участок окончания поездки.<br>\n",
    "<b>Pickup Community Area</b> - район начала поездки (пусто если вне города)<br>\n",
    "<b>Dropoff Community Area</b> - район окончания поездки (пусто если вне города)<br>\n",
    "<b>Fare</b> - стоимость поездки<br>\n",
    "<b>Tips</b> - размер чаевых (наличные не учитываются)<br>\n",
    "<b>Tolls</b> - плата за проезд<br>\n",
    "<b>Extras</b> - дополнительные траты за поездку<br>\n",
    "<b>Trip Total</b> - общая стоимость поездкис\t<br>\n",
    "<b>Payment Type</b> - способ оплаты\t<br>\n",
    "<b>Company</b>\t- компания-перевозчик<br>\n",
    "<b>Pickup Centroid Latitude</b> - широта начала поездки<br>\n",
    "<b>Pickup Centroid Longitude</b> - долгота начала поездки\t<br>\n",
    "<b>Pickup Centroid Location</b> - координаты начала поездки<br>\n",
    "<b>Dropoff Centroid Latitude</b> - широта окончания поездки\t<br>\n",
    "<b>Dropoff Centroid Longitude</b> - долгота окончания поездки\t<br>\n",
    "<b>Dropoff Centroid Location</b> - координаты окончания поездки<br>"
   ]
  },
  {
   "cell_type": "markdown",
   "id": "8c5e1eaa-484a-4084-ace9-11b7e3dfb262",
   "metadata": {
    "id": "8c5e1eaa-484a-4084-ace9-11b7e3dfb262"
   },
   "source": [
    "## План"
   ]
  },
  {
   "cell_type": "markdown",
   "id": "2026120b-e78a-4d14-a068-f396a066096a",
   "metadata": {
    "id": "2026120b-e78a-4d14-a068-f396a066096a"
   },
   "source": [
    "1) Изучение технического задания проекта.\n",
    "\n",
    "2) Загрузка, группировка, предобработка данных.\n",
    "\n",
    "3) Исследовательский анализ. Выявление закономерностей.\n",
    "\n",
    "4) Подготовка данных к созданию и обучению моделей.\n",
    "\n",
    "5) Выбор моделей машинного обучения. Тестирование.\n",
    "\n",
    "6) Итоговый вывод."
   ]
  },
  {
   "cell_type": "markdown",
   "id": "80cc3cdc-0983-41c6-abc8-3e851d9c2362",
   "metadata": {
    "id": "80cc3cdc-0983-41c6-abc8-3e851d9c2362"
   },
   "source": [
    "## Установка необходимых пакетов. Импорт библиотек."
   ]
  },
  {
   "cell_type": "code",
   "execution_count": null,
   "id": "c40274b4-b1b7-4eb5-bf7f-93be86667417",
   "metadata": {
    "id": "c40274b4-b1b7-4eb5-bf7f-93be86667417"
   },
   "outputs": [],
   "source": [
    "#!pip install pyspark\n",
    "#!pip install geopandas\n",
    "#!pip install catboost_spark\n",
    "#!pip install tsfresh"
   ]
  },
  {
   "cell_type": "code",
   "execution_count": null,
   "id": "2957d6de-133b-4833-8712-b960051bf350",
   "metadata": {
    "id": "2957d6de-133b-4833-8712-b960051bf350"
   },
   "outputs": [],
   "source": [
    "from pyspark.sql import SparkSession\n",
    "import pyspark.sql.functions as f\n",
    "from pyspark.sql.functions import *\n",
    "from pyspark.sql.types import *\n",
    "from pyspark.sql import Window\n",
    "\n",
    "import pandas as pd\n",
    "import matplotlib.pyplot as plt\n",
    "import matplotlib.colors as colors\n",
    "import matplotlib.cm as cmx\n",
    "\n",
    "from pyspark.ml.feature import StandardScaler, OneHotEncoder, VectorAssembler\n",
    "from pyspark.ml import Pipeline\n",
    "from pyspark.ml.regression import LinearRegression, GBTRegressor\n",
    "from pyspark.ml.evaluation import RegressionEvaluator\n",
    "\n",
    "from sklearn.metrics import mean_absolute_percentage_error, mean_absolute_error\n",
    "\n",
    "import calendar\n",
    "import time\n",
    "\n",
    "from statsmodels.tsa.stattools import adfuller"
   ]
  },
  {
   "cell_type": "code",
   "execution_count": null,
   "id": "0eab3064-adb9-497f-be2d-505b8c87dc89",
   "metadata": {
    "id": "0eab3064-adb9-497f-be2d-505b8c87dc89"
   },
   "outputs": [],
   "source": [
    "#spark.stop()\n",
    "SPARK_MASTER_IP = '172.19.0.2'\n",
    "spark = (SparkSession.builder.appName(\"pyspark-taxi-forecasting\")\n",
    "                     .master(f\"spark://{SPARK_MASTER_IP}:7077\")\n",
    "                     .config(\"spark.executor.cores\", 1)\n",
    "                     .config(\"spark.task.cpus\", 1)\n",
    "                     .getOrCreate())"
   ]
  },
  {
   "cell_type": "code",
   "execution_count": null,
   "id": "e802a0f6-1274-41c2-9255-3a0c63e603fa",
   "metadata": {
    "id": "e802a0f6-1274-41c2-9255-3a0c63e603fa",
    "outputId": "d258bc5f-4a2c-40b7-9af4-b889a75a6434"
   },
   "outputs": [
    {
     "data": {
      "text/html": [
       "\n",
       "            <div>\n",
       "                <p><b>SparkSession - in-memory</b></p>\n",
       "                \n",
       "        <div>\n",
       "            <p><b>SparkContext</b></p>\n",
       "\n",
       "            <p><a href=\"http://26402ede035d:4040\">Spark UI</a></p>\n",
       "\n",
       "            <dl>\n",
       "              <dt>Version</dt>\n",
       "                <dd><code>v3.4.1</code></dd>\n",
       "              <dt>Master</dt>\n",
       "                <dd><code>spark://172.19.0.2:7077</code></dd>\n",
       "              <dt>AppName</dt>\n",
       "                <dd><code>pyspark-taxi-forecasting</code></dd>\n",
       "            </dl>\n",
       "        </div>\n",
       "        \n",
       "            </div>\n",
       "        "
      ],
      "text/plain": [
       "<pyspark.sql.session.SparkSession at 0x7fc7380148d0>"
      ]
     },
     "execution_count": 6,
     "metadata": {},
     "output_type": "execute_result"
    }
   ],
   "source": [
    "spark\n"
   ]
  },
  {
   "cell_type": "markdown",
   "id": "9481f031-0614-4029-b016-306bd4216140",
   "metadata": {
    "id": "9481f031-0614-4029-b016-306bd4216140"
   },
   "source": [
    "## Блок функций"
   ]
  },
  {
   "cell_type": "code",
   "execution_count": null,
   "id": "72c63acf-632e-4772-8f72-820a5a7db1c3",
   "metadata": {
    "id": "72c63acf-632e-4772-8f72-820a5a7db1c3"
   },
   "outputs": [],
   "source": [
    "def time_bars(df, area, color):\n",
    "    data_area = df[area]\n",
    "    color = list(np.random.choice(range(1,257), size=3)/256)\n",
    "    label = 'Район №' + area\n",
    "\n",
    "    data_area = data_ts[[area]].iloc[:-1]\n",
    "\n",
    "    tmp_data = data_area.resample('1M').sum()\n",
    "    tmp_data['month'] = tmp_data.index.month\n",
    "    tmp_data.groupby('month').median().round().plot(kind='bar',\n",
    "                                                    figsize=(10,5),\n",
    "                                                    color=color)\n",
    "    title='Среднее колчиество заказов за определенные ' + 'месяцы'\n",
    "    plt.legend([label], loc='upper left')\n",
    "    plt.title(title)\n",
    "    plt.ylabel('Количество заказов')\n",
    "    plt.xlabel('месяцы')\n",
    "    #plt.show()\n",
    "\n",
    "    tmp_data = data_area.resample('1D').sum()\n",
    "    tmp_data['day'] = tmp_data.index.day\n",
    "\n",
    "    tmp_data.groupby('day').median().round().plot(kind='bar',\n",
    "                                                    figsize=(10,5),\n",
    "                                                    color=color)\n",
    "    title='Среднее колчиество заказов за определенные ' + 'дни'\n",
    "    plt.legend([label], loc='upper left')\n",
    "    plt.title(title)\n",
    "    plt.ylabel('Количество заказов')\n",
    "    plt.xlabel('Дни')\n",
    "    plt.show()\n",
    "\n",
    "    tmp_data = data_area.resample('1D').sum()\n",
    "    tmp_data['dayofweek'] = tmp_data.index.dayofweek\n",
    "    tmp_data.groupby('dayofweek').median().round().plot(kind='bar',\n",
    "                                                    figsize=(10,5),\n",
    "                                                    color=color)\n",
    "    title='Среднее колчиество заказов за определенные ' + 'дни недели'\n",
    "    plt.legend([label], loc='upper left')\n",
    "    plt.title(title)\n",
    "    plt.ylabel('Количество заказов')\n",
    "    plt.xlabel('Дни недели')\n",
    "    plt.show()\n",
    "\n",
    "    tmp_data = data_area\n",
    "    tmp_data['hour'] = tmp_data.index.hour\n",
    "    tmp_data.groupby('hour').median().round().plot(kind='bar',\n",
    "                                                   figsize=(10,5),\n",
    "                                                   color=color)\n",
    "    title='Среднее колчиество заказов за определенные ' + 'часы'\n",
    "    plt.legend([label], loc='upper left')\n",
    "    plt.title(title)\n",
    "    plt.ylabel('Количество заказов')\n",
    "    plt.xlabel('Часы')\n",
    "    plt.show()\n",
    "\n",
    "def stationarity_plot(df, area_num, roll=10):\n",
    "    title = 'Изменение количества заказов, скользящего среднего и стандартного отклонения в районе №' + area_num\n",
    "    label_name = 'Количество заказов'\n",
    "    roll_label = 'Скользящее среднее с окном ' + str(roll)\n",
    "    data_ts['rolling_mean'] = data_ts[area_num].shift().rolling(roll).mean()\n",
    "    data_ts['std'] = data_ts[area_num].rolling(roll).std()\n",
    "    data_ts[[area_num, 'rolling_mean', 'std']].dropna()\\\n",
    "                                              .rename({area_num: label_name,\n",
    "                                                       'rolling_mean': roll_label,\n",
    "                                                       'std': 'Отклонение'}, axis=1)\\\n",
    "                                              .plot(figsize=(16,7));\n",
    "    plt.title(title)\n",
    "    plt.ylabel('Количество заказов')\n",
    "    plt.xlabel('Временная шкала')\n",
    "    plt.show()\n",
    "    data_ts.drop(columns=['rolling_mean', 'std'], inplace=True)\n",
    "\n",
    "#разделение на данных на тестовую и валидационную\n",
    "def ts_split(data, train_size, val=False):\n",
    "    max = data.agg({'Trip Start Timestamp': 'max'}).collect()[0][0]\n",
    "    data = data.filter(col('Trip Start Timestamp') != max)\n",
    "    if val:\n",
    "        max = data.agg({'Trip Start Timestamp': 'max'}).collect()[0][0]\n",
    "        test = data.filter(col('Trip Start Timestamp') == max)\n",
    "        data = data.filter(col('Trip Start Timestamp') != max)\n",
    "    train = data.withColumn('id', percent_rank().over(\n",
    "                                    Window.partitionBy().orderBy('Trip Start Timestamp')))\\\n",
    "                .filter(col('id') <= train_size).drop('id')\n",
    "    valid = data.withColumn('id', percent_rank().over(\n",
    "                                    Window.partitionBy().orderBy('Trip Start Timestamp')))\\\n",
    "               .filter(col('id') > train_size).drop('id')\n",
    "    if val:\n",
    "        return train, valid, test\n",
    "    else:\n",
    "        return train, valid\n",
    "\n",
    "#расчёт MAE MDAPE\n",
    "def mae_mdape (predictions, target='orders'):\n",
    "    mdape = predictions.select(round(median(abs(col('orders') - col('pred_orders'))/\\\n",
    "                                            col('orders')), 3).alias('MDAPE'))\\\n",
    "                       .collect()[0].MDAPE\n",
    "    mae = predictions.select(round(mean(abs(col('orders') - col('pred_orders'))), 2).alias('MAE'))\\\n",
    "                     .collect()[0].MAE\n",
    "    return (mae, mdape)\n",
    "\n",
    "# скользящее среднее и лаги\n",
    "def lag_avg (dff, area='orders', lags=5, roll=5):\n",
    "    num_columns = []\n",
    "    df_ts_lag = dff\n",
    "    w = Window.orderBy('Trip Start Timestamp')\n",
    "    for i in range(1,lags+1):\n",
    "        df_ts_lag = df_ts_lag.withColumn('lag_'+str(i), lag(area, i).over(w))\n",
    "        num_columns.append('lag_'+str(i))\n",
    "    w = Window.rowsBetween(-roll, Window.currentRow-1)\n",
    "    df_ts_lag = df_ts_lag.withColumn('rolling_avg',  round(avg(area).over(w))).dropna(how='any')\n",
    "    num_columns.append('rolling_avg')\n",
    "    return df_ts_lag, num_columns\n",
    "\n",
    "#скользящее среднее и лаги для прибывших\n",
    "def droplag (dff, area, lags=9, roll=7):\n",
    "    num_columns = []\n",
    "    df_ts_lag = dff\n",
    "    w = Window.orderBy('Trip Start Timestamp')\n",
    "    for i in range(1,lags+1):\n",
    "        df_ts_lag = df_ts_lag.withColumn('droplag_'+str(i), lag(area, i).over(w))\n",
    "        num_columns.append('droplag_'+str(i))\n",
    "    w = Window.rowsBetween(1-roll, Window.currentRow)\n",
    "    df_ts_lag = df_ts_lag.withColumn('drop_rolling_avg',  round(avg(area).over(w))).dropna(how='any')\n",
    "    num_columns.append('drop_rolling_avg')\n",
    "    return df_ts_lag, num_columns\n",
    "\n",
    "# создание пайплайна\n",
    "def make_pipe (ml_method, num_cols=[], cat_cols=['month', 'day', 'dayofweek', 'hour']):\n",
    "    ohe = OneHotEncoder(inputCols=cat_cols,\n",
    "                        outputCols=[cols + '_ohe' for cols in cat_cols],\n",
    "                        handleInvalid='keep')\n",
    "    if len(num_cols) == 0:\n",
    "        cat_vector = VectorAssembler(inputCols=ohe.getOutputCols(),\n",
    "                             outputCol='features')\n",
    "        return Pipeline(stages=[ohe, cat_vector, ml_method])\n",
    "    else:\n",
    "        num_vector = VectorAssembler(inputCols=num_cols,\n",
    "                                     outputCol='num_v')\n",
    "        scaler = StandardScaler(inputCol=num_vector.getOutputCol(),\n",
    "                                outputCol='num_v_scaled')\n",
    "        f_vector = VectorAssembler(inputCols=[*ohe.getOutputCols(), scaler.getOutputCol()],\n",
    "                                   outputCol='features')\n",
    "        return Pipeline(stages=[ohe, num_vector, scaler, f_vector, ml_method])\n",
    "\n",
    "def const_model (data, area):\n",
    "    data_train, data_valid, data_test = ts_split(data[['Trip Start Timestamp', str(area)]], .8, val=True)\n",
    "    value = data_train.select(f.round(mean(col(str(area)))).alias('pred_orders'))\n",
    "    predict = data_test.select(col(str(area)).alias('orders')).join(value)\n",
    "    return predict"
   ]
  },
  {
   "cell_type": "markdown",
   "id": "99d10b5b-67b5-4827-ad43-ffad6aa756ef",
   "metadata": {
    "id": "99d10b5b-67b5-4827-ad43-ffad6aa756ef"
   },
   "source": [
    "## Знакомство с данными"
   ]
  },
  {
   "cell_type": "markdown",
   "id": "f6d33542-62da-400f-bfb4-c3bee3fbf2c4",
   "metadata": {
    "id": "f6d33542-62da-400f-bfb4-c3bee3fbf2c4"
   },
   "source": [
    "Загрузим данные за 2022, 2023 год"
   ]
  },
  {
   "cell_type": "code",
   "execution_count": null,
   "id": "614da796-0d71-44ed-8935-19c1b2580605",
   "metadata": {
    "id": "614da796-0d71-44ed-8935-19c1b2580605"
   },
   "outputs": [],
   "source": [
    "schema = StructType([\n",
    "    StructField(\"Trip ID\", StringType(), nullable=True),\n",
    "    StructField(\"Taxi ID\", StringType(), nullable=True),\n",
    "    StructField(\"Trip Start Timestamp\", StringType(), nullable=True),\n",
    "    StructField(\"Trip End Timestamp\", StringType(), nullable=True),\n",
    "    StructField(\"Trip Seconds\", IntegerType(), nullable=True),\n",
    "    StructField(\"Trip Miles\", FloatType(), nullable=True),\n",
    "    StructField(\"Pickup Census Tract\", StringType(), nullable=True),\n",
    "    StructField(\"Dropoff Census Tract\", StringType(), nullable=True),\n",
    "    StructField(\"Pickup Community Area\", ShortType(), nullable=True),\n",
    "    StructField(\"Dropoff Community Area\", ShortType(), nullable=True),\n",
    "    StructField(\"Fare\", FloatType(), nullable=True),\n",
    "    StructField(\"Tips\", FloatType(), nullable=True),\n",
    "    StructField(\"Tolls\", FloatType(), nullable=True),\n",
    "    StructField(\"Extras\", FloatType(), nullable=True),\n",
    "    StructField(\"Trip Total\", FloatType(), nullable=True),\n",
    "    StructField(\"Payment Type\", StringType(), nullable=True),\n",
    "    StructField(\"Company\", StringType(), nullable=True),\n",
    "    StructField(\"Pickup Centroid Latitude\", DoubleType(), nullable=True),\n",
    "    StructField(\"Pickup Centroid Longitude\", DoubleType(), nullable=True),\n",
    "    StructField(\"Pickup Centroid Location\", StringType(), nullable=True),\n",
    "    StructField(\"Dropoff Centroid Latitude\", DoubleType(), nullable=True),\n",
    "    StructField(\"Dropoff Centroid Longitude\", DoubleType(), nullable=True),\n",
    "    StructField(\"Dropoff Centroid  Location\", StringType(), nullable=True)]\n",
    ")"
   ]
  },
  {
   "cell_type": "code",
   "execution_count": null,
   "id": "077ad0c9-4f3f-40d5-a627-fa5f111970e3",
   "metadata": {
    "id": "077ad0c9-4f3f-40d5-a627-fa5f111970e3",
    "outputId": "441a5b8f-589b-4ee3-8e8b-4b5c30caa385"
   },
   "outputs": [
    {
     "data": {
      "text/plain": [
       "DataFrame[Trip ID: string, Taxi ID: string, Trip Start Timestamp: string, Trip End Timestamp: string, Trip Seconds: int, Trip Miles: double, Pickup Census Tract: bigint, Dropoff Census Tract: bigint, Pickup Community Area: int, Dropoff Community Area: int, Fare: double, Tips: double, Tolls: double, Extras: double, Trip Total: double, Payment Type: string, Company: string, Pickup Centroid Latitude: double, Pickup Centroid Longitude: double, Pickup Centroid Location: string, Dropoff Centroid Latitude: double, Dropoff Centroid Longitude: double, Dropoff Centroid  Location: string]"
      ]
     },
     "execution_count": 9,
     "metadata": {},
     "output_type": "execute_result"
    }
   ],
   "source": [
    "df_22 = spark.read.load('data/Taxi_Trips_-_2022.csv', format='csv', header='true', inferSchema='true')\n",
    "df_23 = spark.read.load('data/Taxi_Trips_-_2023.csv', format='csv', header='true', inferSchema='true')\n",
    "df_22.cache()\n",
    "df_23.cache()"
   ]
  },
  {
   "cell_type": "markdown",
   "id": "513cbd49-9160-453f-8a2b-26ea29d5b93c",
   "metadata": {
    "id": "513cbd49-9160-453f-8a2b-26ea29d5b93c"
   },
   "source": [
    "Выясним размер таблиц."
   ]
  },
  {
   "cell_type": "code",
   "execution_count": null,
   "id": "5ef23042-53e6-4f1b-bf6a-010ff947319a",
   "metadata": {
    "id": "5ef23042-53e6-4f1b-bf6a-010ff947319a",
    "outputId": "1b9fa226-9ab7-44f7-f47e-24b48f89619e"
   },
   "outputs": [
    {
     "data": {
      "text/plain": [
       "(4337597, 23, 6382425, 23)"
      ]
     },
     "execution_count": 10,
     "metadata": {},
     "output_type": "execute_result"
    }
   ],
   "source": [
    "df_23.count(), len(df_23.columns),\\\n",
    "df_22.count(), len(df_22.columns)"
   ]
  },
  {
   "cell_type": "markdown",
   "id": "2284e2e6-bcb0-4c70-9336-78c90b388f7d",
   "metadata": {
    "id": "2284e2e6-bcb0-4c70-9336-78c90b388f7d"
   },
   "source": [
    "Выведем первые 10 строк из каждой таблицы"
   ]
  },
  {
   "cell_type": "code",
   "execution_count": null,
   "id": "17be9ab8-33ef-475b-8eb7-6b6e333cea04",
   "metadata": {
    "id": "17be9ab8-33ef-475b-8eb7-6b6e333cea04",
    "outputId": "d65d6a24-6b92-45fe-e768-fdd235561838"
   },
   "outputs": [
    {
     "name": "stdout",
     "output_type": "stream",
     "text": [
      "+--------------------+--------------------+--------------------+--------------------+------------+----------+-------------------+--------------------+---------------------+----------------------+-----+----+-----+------+----------+------------+----------------+------------------------+-------------------------+------------------------+-------------------------+--------------------------+--------------------------+\n",
      "|             Trip ID|             Taxi ID|Trip Start Timestamp|  Trip End Timestamp|Trip Seconds|Trip Miles|Pickup Census Tract|Dropoff Census Tract|Pickup Community Area|Dropoff Community Area| Fare|Tips|Tolls|Extras|Trip Total|Payment Type|         Company|Pickup Centroid Latitude|Pickup Centroid Longitude|Pickup Centroid Location|Dropoff Centroid Latitude|Dropoff Centroid Longitude|Dropoff Centroid  Location|\n",
      "+--------------------+--------------------+--------------------+--------------------+------------+----------+-------------------+--------------------+---------------------+----------------------+-----+----+-----+------+----------+------------+----------------+------------------------+-------------------------+------------------------+-------------------------+--------------------------+--------------------------+\n",
      "|bcfa19f2539021c05...|368ce5511598af2cc...|01/01/2022 12:00:...|01/01/2022 12:00:...|         152|       0.1|               null|                null|                 null|                  null| 3.75| 0.0|  0.0|   0.0|      3.75|        Cash|Medallion Leasin|                    null|                     null|                    null|                     null|                      null|                      null|\n",
      "|2aba69ff015f9ea8e...|449fa490955275713...|01/01/2022 12:00:...|01/01/2022 12:30:...|        2360|     17.44|               null|                null|                 null|                     8|47.75| 0.0|  0.0|   5.0|     52.75|        Cash|       Flash Cab|                    null|                     null|                    null|             41.899602111|             -87.633308037|      POINT (-87.633308...|\n",
      "|54d812a0b88f8f970...|f98ae5e71fdda8806...|01/01/2022 12:00:...|01/01/2022 12:00:...|         536|      4.83|               null|                null|                   28|                    22|14.75| 0.0|  0.0|   0.0|     14.75|        Cash|      Globe Taxi|            41.874005383|             -87.66351755|    POINT (-87.663517...|              41.92276062|             -87.699155343|      POINT (-87.699155...|\n",
      "+--------------------+--------------------+--------------------+--------------------+------------+----------+-------------------+--------------------+---------------------+----------------------+-----+----+-----+------+----------+------------+----------------+------------------------+-------------------------+------------------------+-------------------------+--------------------------+--------------------------+\n",
      "only showing top 3 rows\n",
      "\n"
     ]
    }
   ],
   "source": [
    "df_22.show(3)"
   ]
  },
  {
   "cell_type": "code",
   "execution_count": null,
   "id": "cd1efcd9-15b0-4622-8a71-add80c62d723",
   "metadata": {
    "id": "cd1efcd9-15b0-4622-8a71-add80c62d723",
    "outputId": "c8c9018b-0efb-4f46-9e46-5e45aeecb651"
   },
   "outputs": [
    {
     "name": "stdout",
     "output_type": "stream",
     "text": [
      "+--------------------+--------------------+--------------------+--------------------+------------+----------+-------------------+--------------------+---------------------+----------------------+-----+----+-----+------+----------+------------+--------------------+------------------------+-------------------------+------------------------+-------------------------+--------------------------+--------------------------+\n",
      "|             Trip ID|             Taxi ID|Trip Start Timestamp|  Trip End Timestamp|Trip Seconds|Trip Miles|Pickup Census Tract|Dropoff Census Tract|Pickup Community Area|Dropoff Community Area| Fare|Tips|Tolls|Extras|Trip Total|Payment Type|             Company|Pickup Centroid Latitude|Pickup Centroid Longitude|Pickup Centroid Location|Dropoff Centroid Latitude|Dropoff Centroid Longitude|Dropoff Centroid  Location|\n",
      "+--------------------+--------------------+--------------------+--------------------+------------+----------+-------------------+--------------------+---------------------+----------------------+-----+----+-----+------+----------+------------+--------------------+------------------------+-------------------------+------------------------+-------------------------+--------------------------+--------------------------+\n",
      "|0fca59218b1168827...|e2c349c7cbb608d55...|01/01/2023 12:00:...|01/01/2023 12:15:...|        1037|      4.82|               null|                null|                    6|                    32|15.75|3.25|  0.0|   0.0|      19.5| Credit Card|Taxicab Insurance...|            41.944226601|            -87.655998182|    POINT (-87.655998...|             41.878865584|             -87.625192142|      POINT (-87.625192...|\n",
      "|1e539d6e7501164c6...|4ab7a7510c1ebcc9b...|01/01/2023 12:00:...|01/01/2023 12:15:...|        1341|     16.63|               null|                null|                   76|                     8| 41.5| 5.0|  0.0|   6.0|      53.0| Credit Card|            Sun Taxi|            41.980264315|            -87.913624596|    POINT (-87.913624...|             41.899602111|             -87.633308037|      POINT (-87.633308...|\n",
      "|2b3c5200439d51f62...|8c76eb82f069c0731...|01/01/2023 12:00:...|01/01/2023 12:15:...|         844|      3.84|               null|                null|                   24|                     8|16.14|4.03|  0.0|   0.0|     20.17|      Mobile|            Sun Taxi|            41.901206994|            -87.676355989|    POINT (-87.676355...|             41.899602111|             -87.633308037|      POINT (-87.633308...|\n",
      "+--------------------+--------------------+--------------------+--------------------+------------+----------+-------------------+--------------------+---------------------+----------------------+-----+----+-----+------+----------+------------+--------------------+------------------------+-------------------------+------------------------+-------------------------+--------------------------+--------------------------+\n",
      "only showing top 3 rows\n",
      "\n"
     ]
    }
   ],
   "source": [
    "df_23.show(3)"
   ]
  },
  {
   "cell_type": "markdown",
   "id": "ac608262-c9ea-495b-a35a-f4d8a90c857f",
   "metadata": {
    "id": "ac608262-c9ea-495b-a35a-f4d8a90c857f"
   },
   "source": [
    "Посмотрим содержимое первой строки"
   ]
  },
  {
   "cell_type": "code",
   "execution_count": null,
   "id": "79b1e1e0-472f-43e2-b742-d31f91166d95",
   "metadata": {
    "id": "79b1e1e0-472f-43e2-b742-d31f91166d95",
    "outputId": "3bd27059-3b83-46fe-8f74-365c0b396d03"
   },
   "outputs": [
    {
     "data": {
      "text/plain": [
       "[Row(Trip ID='faf85ccdbaedbcee8431bc4070ae2401230e85eb', Taxi ID='c8c3f1713dadc77d30d959755c933092b402d0c3cef08e5b1594d1e36d00c0ca62b39a2d038a3695b7cf8f3dbecc12c239175f04807cf0c2a1d077fd447deea3', Trip Start Timestamp='09/01/2023 12:00:00 AM', Trip End Timestamp='09/01/2023 12:15:00 AM', Trip Seconds=1389, Trip Miles=13.69, Pickup Census Tract=None, Dropoff Census Tract=None, Pickup Community Area=76, Dropoff Community Area=6, Fare=35.25, Tips=0.0, Tolls=0.0, Extras=5.0, Trip Total=40.25, Payment Type='Cash', Company='Medallion Leasin', Pickup Centroid Latitude=41.980264315, Pickup Centroid Longitude=-87.913624596, Pickup Centroid Location='POINT (-87.913624596 41.9802643146)', Dropoff Centroid Latitude=41.944226601, Dropoff Centroid Longitude=-87.655998182, Dropoff Centroid  Location='POINT (-87.6559981815 41.9442266014)')]"
      ]
     },
     "execution_count": 13,
     "metadata": {},
     "output_type": "execute_result"
    }
   ],
   "source": [
    "df_23.tail(1)"
   ]
  },
  {
   "cell_type": "code",
   "execution_count": null,
   "id": "d2a75783-6da0-438a-8518-bdaf5f0cca8c",
   "metadata": {
    "id": "d2a75783-6da0-438a-8518-bdaf5f0cca8c",
    "outputId": "59486341-242a-41bf-c4b4-721c70dfb637"
   },
   "outputs": [
    {
     "name": "stdout",
     "output_type": "stream",
     "text": [
      "-RECORD 0------------------------------------------------------------------------------------------------------------------------------------------------------\n",
      " Trip ID                    | 0fca59218b11688279d795c03c4d16f851f13fa0                                                                                         \n",
      " Taxi ID                    | e2c349c7cbb608d552aa0b5814031943f13641ef9e50d86361d598aa3277fc35fabc76bd437f793774e6deaa6f2a0f29b8a87b0cf22b5a27b6c10f6f5ed614ae \n",
      " Trip Start Timestamp       | 01/01/2023 12:00:00 AM                                                                                                           \n",
      " Trip End Timestamp         | 01/01/2023 12:15:00 AM                                                                                                           \n",
      " Trip Seconds               | 1037                                                                                                                             \n",
      " Trip Miles                 | 4.82                                                                                                                             \n",
      " Pickup Census Tract        | null                                                                                                                             \n",
      " Dropoff Census Tract       | null                                                                                                                             \n",
      " Pickup Community Area      | 6                                                                                                                                \n",
      " Dropoff Community Area     | 32                                                                                                                               \n",
      " Fare                       | 15.75                                                                                                                            \n",
      " Tips                       | 3.25                                                                                                                             \n",
      " Tolls                      | 0.0                                                                                                                              \n",
      " Extras                     | 0.0                                                                                                                              \n",
      " Trip Total                 | 19.5                                                                                                                             \n",
      " Payment Type               | Credit Card                                                                                                                      \n",
      " Company                    | Taxicab Insurance Agency Llc                                                                                                     \n",
      " Pickup Centroid Latitude   | 41.944226601                                                                                                                     \n",
      " Pickup Centroid Longitude  | -87.655998182                                                                                                                    \n",
      " Pickup Centroid Location   | POINT (-87.6559981815 41.9442266014)                                                                                             \n",
      " Dropoff Centroid Latitude  | 41.878865584                                                                                                                     \n",
      " Dropoff Centroid Longitude | -87.625192142                                                                                                                    \n",
      " Dropoff Centroid  Location | POINT (-87.6251921424 41.8788655841)                                                                                             \n",
      "only showing top 1 row\n",
      "\n"
     ]
    }
   ],
   "source": [
    "df_23.show(1, vertical=True, truncate=False)"
   ]
  },
  {
   "cell_type": "markdown",
   "id": "ce19bbfb-a062-4905-9aee-ed018c5eeaee",
   "metadata": {
    "id": "ce19bbfb-a062-4905-9aee-ed018c5eeaee"
   },
   "source": [
    "Посмотрим схему таблиц"
   ]
  },
  {
   "cell_type": "code",
   "execution_count": null,
   "id": "bfdfb1c1-c235-452e-9fb5-feee3f521959",
   "metadata": {
    "id": "bfdfb1c1-c235-452e-9fb5-feee3f521959",
    "outputId": "935e676a-df52-48da-8fac-3a4fa5d640ed"
   },
   "outputs": [
    {
     "name": "stdout",
     "output_type": "stream",
     "text": [
      "root\n",
      " |-- Trip ID: string (nullable = true)\n",
      " |-- Taxi ID: string (nullable = true)\n",
      " |-- Trip Start Timestamp: string (nullable = true)\n",
      " |-- Trip End Timestamp: string (nullable = true)\n",
      " |-- Trip Seconds: integer (nullable = true)\n",
      " |-- Trip Miles: double (nullable = true)\n",
      " |-- Pickup Census Tract: long (nullable = true)\n",
      " |-- Dropoff Census Tract: long (nullable = true)\n",
      " |-- Pickup Community Area: integer (nullable = true)\n",
      " |-- Dropoff Community Area: integer (nullable = true)\n",
      " |-- Fare: double (nullable = true)\n",
      " |-- Tips: double (nullable = true)\n",
      " |-- Tolls: double (nullable = true)\n",
      " |-- Extras: double (nullable = true)\n",
      " |-- Trip Total: double (nullable = true)\n",
      " |-- Payment Type: string (nullable = true)\n",
      " |-- Company: string (nullable = true)\n",
      " |-- Pickup Centroid Latitude: double (nullable = true)\n",
      " |-- Pickup Centroid Longitude: double (nullable = true)\n",
      " |-- Pickup Centroid Location: string (nullable = true)\n",
      " |-- Dropoff Centroid Latitude: double (nullable = true)\n",
      " |-- Dropoff Centroid Longitude: double (nullable = true)\n",
      " |-- Dropoff Centroid  Location: string (nullable = true)\n",
      "\n",
      "root\n",
      " |-- Trip ID: string (nullable = true)\n",
      " |-- Taxi ID: string (nullable = true)\n",
      " |-- Trip Start Timestamp: string (nullable = true)\n",
      " |-- Trip End Timestamp: string (nullable = true)\n",
      " |-- Trip Seconds: integer (nullable = true)\n",
      " |-- Trip Miles: double (nullable = true)\n",
      " |-- Pickup Census Tract: long (nullable = true)\n",
      " |-- Dropoff Census Tract: long (nullable = true)\n",
      " |-- Pickup Community Area: integer (nullable = true)\n",
      " |-- Dropoff Community Area: integer (nullable = true)\n",
      " |-- Fare: double (nullable = true)\n",
      " |-- Tips: double (nullable = true)\n",
      " |-- Tolls: double (nullable = true)\n",
      " |-- Extras: double (nullable = true)\n",
      " |-- Trip Total: double (nullable = true)\n",
      " |-- Payment Type: string (nullable = true)\n",
      " |-- Company: string (nullable = true)\n",
      " |-- Pickup Centroid Latitude: double (nullable = true)\n",
      " |-- Pickup Centroid Longitude: double (nullable = true)\n",
      " |-- Pickup Centroid Location: string (nullable = true)\n",
      " |-- Dropoff Centroid Latitude: double (nullable = true)\n",
      " |-- Dropoff Centroid Longitude: double (nullable = true)\n",
      " |-- Dropoff Centroid  Location: string (nullable = true)\n",
      "\n"
     ]
    },
    {
     "data": {
      "text/plain": [
       "(None, None)"
      ]
     },
     "execution_count": 15,
     "metadata": {},
     "output_type": "execute_result"
    }
   ],
   "source": [
    "df_22.printSchema(), df_23.printSchema()"
   ]
  },
  {
   "cell_type": "code",
   "execution_count": null,
   "id": "da7c4521-1fd1-4d1f-84dc-0fd74809bff2",
   "metadata": {
    "id": "da7c4521-1fd1-4d1f-84dc-0fd74809bff2",
    "outputId": "709a1533-f598-42fa-8154-088e5971c7b5"
   },
   "outputs": [
    {
     "name": "stdout",
     "output_type": "stream",
     "text": [
      "-RECORD 0-----------------------------\n",
      " summary                    | count   \n",
      " Trip ID                    | 6382425 \n",
      " Taxi ID                    | 6382425 \n",
      " Trip Start Timestamp       | 6382425 \n",
      " Trip End Timestamp         | 6382213 \n",
      " Trip Seconds               | 6380960 \n",
      " Trip Miles                 | 6382369 \n",
      " Pickup Census Tract        | 2623831 \n",
      " Dropoff Census Tract       | 2675331 \n",
      " Pickup Community Area      | 5868572 \n",
      " Dropoff Community Area     | 5748741 \n",
      " Fare                       | 6378889 \n",
      " Tips                       | 6378889 \n",
      " Tolls                      | 6378889 \n",
      " Extras                     | 6378889 \n",
      " Trip Total                 | 6378889 \n",
      " Payment Type               | 6382425 \n",
      " Company                    | 6382425 \n",
      " Pickup Centroid Latitude   | 5870874 \n",
      " Pickup Centroid Longitude  | 5870874 \n",
      " Pickup Centroid Location   | 5870874 \n",
      " Dropoff Centroid Latitude  | 5784494 \n",
      " Dropoff Centroid Longitude | 5784494 \n",
      " Dropoff Centroid  Location | 5784494 \n",
      "\n"
     ]
    }
   ],
   "source": [
    "df_22.summary('count').show(vertical=True, truncate=False)"
   ]
  },
  {
   "cell_type": "code",
   "execution_count": null,
   "id": "b7c8d77f-481d-45d0-aba7-1b6f7581b7c8",
   "metadata": {
    "id": "b7c8d77f-481d-45d0-aba7-1b6f7581b7c8",
    "outputId": "34a16735-1f7e-4d2d-9c9c-b1a945b30432"
   },
   "outputs": [
    {
     "name": "stdout",
     "output_type": "stream",
     "text": [
      "-RECORD 0-----------------------------\n",
      " summary                    | count   \n",
      " Trip ID                    | 4337597 \n",
      " Taxi ID                    | 4337597 \n",
      " Trip Start Timestamp       | 4337597 \n",
      " Trip End Timestamp         | 4337547 \n",
      " Trip Seconds               | 4336779 \n",
      " Trip Miles                 | 4337583 \n",
      " Pickup Census Tract        | 1898381 \n",
      " Dropoff Census Tract       | 1857706 \n",
      " Pickup Community Area      | 4153507 \n",
      " Dropoff Community Area     | 3919814 \n",
      " Fare                       | 4330804 \n",
      " Tips                       | 4330804 \n",
      " Tolls                      | 4330804 \n",
      " Extras                     | 4330804 \n",
      " Trip Total                 | 4330804 \n",
      " Payment Type               | 4337597 \n",
      " Company                    | 4337597 \n",
      " Pickup Centroid Latitude   | 4155101 \n",
      " Pickup Centroid Longitude  | 4155101 \n",
      " Pickup Centroid Location   | 4155101 \n",
      " Dropoff Centroid Latitude  | 3946266 \n",
      " Dropoff Centroid Longitude | 3946266 \n",
      " Dropoff Centroid  Location | 3946266 \n",
      "\n"
     ]
    }
   ],
   "source": [
    "df_23.summary('count').show(vertical=True, truncate=False)"
   ]
  },
  {
   "cell_type": "markdown",
   "id": "7fac785a-119a-45e9-b056-13623605a1bb",
   "metadata": {
    "id": "7fac785a-119a-45e9-b056-13623605a1bb"
   },
   "source": [
    "## Исследовательский анализ данных"
   ]
  },
  {
   "cell_type": "markdown",
   "id": "5a110005-6587-4a6c-8502-c2e0e97dc470",
   "metadata": {
    "id": "5a110005-6587-4a6c-8502-c2e0e97dc470"
   },
   "source": [
    "### Заполним некоторые пропуски. Ненужны столбцы удалим."
   ]
  },
  {
   "cell_type": "markdown",
   "id": "0b7ffcca-d145-4cda-b134-5cdacd874dfb",
   "metadata": {
    "id": "0b7ffcca-d145-4cda-b134-5cdacd874dfb"
   },
   "source": [
    "В таблицах есть записи, в которых поездка на момент выгрузки отчёта вероятнее всего не была завершена. Этих записей очень мало, поэтому избавися от них."
   ]
  },
  {
   "cell_type": "code",
   "execution_count": null,
   "id": "c8a8357e-fef1-4f07-a7eb-166c06adcb51",
   "metadata": {
    "id": "c8a8357e-fef1-4f07-a7eb-166c06adcb51"
   },
   "outputs": [],
   "source": [
    "df_22 = df_22.filter(df_22['Trip End Timestamp'].isNotNull())\n",
    "df_23 = df_23.filter(df_23['Trip End Timestamp'].isNotNull())"
   ]
  },
  {
   "cell_type": "markdown",
   "id": "3759645b-b0e5-4437-9c49-26ce441522ff",
   "metadata": {
    "id": "3759645b-b0e5-4437-9c49-26ce441522ff"
   },
   "source": [
    "Известно, что пропуски в столбцах с номерами районов могут иметь пропуски в связи с тем, что такси может выезжать или отправляться в пригород.<br>\n",
    "Для столбца \"начало заказа\" удалим все пропуски, так как модель предсказания будет работать только внутри Чикаго."
   ]
  },
  {
   "cell_type": "markdown",
   "id": "d00b253c-1c43-4cf4-8716-e44c499c62da",
   "metadata": {
    "id": "d00b253c-1c43-4cf4-8716-e44c499c62da"
   },
   "source": [
    "Найдём пропуски в колонке района заказа такси. Если геоданные заказа присутствуют, то строки оставляем. Если процент пропусков небольшой, тогда удаляем строки с пропусками."
   ]
  },
  {
   "cell_type": "code",
   "execution_count": null,
   "id": "da108856-af9b-4f9d-b720-13d8c7ad0c17",
   "metadata": {
    "id": "da108856-af9b-4f9d-b720-13d8c7ad0c17",
    "outputId": "e8981958-944d-4c0a-ba3c-a550f67d65ec"
   },
   "outputs": [
    {
     "data": {
      "text/plain": [
       "(8.049700002177929, 4.243711941334584)"
      ]
     },
     "execution_count": 19,
     "metadata": {},
     "output_type": "execute_result"
    }
   ],
   "source": [
    "df_22.filter(df_22['Pickup Community Area'].isNull())\\\n",
    "     .count()*100/df_22.count(), \\\n",
    "df_23.filter(df_23['Pickup Community Area'].isNull())\\\n",
    "     .count()*100/df_23.count()"
   ]
  },
  {
   "cell_type": "markdown",
   "id": "bb5446a7-e481-441d-8f12-13f182453178",
   "metadata": {
    "id": "bb5446a7-e481-441d-8f12-13f182453178"
   },
   "source": [
    "8% пропусков для 2022 года и 4.4% для 2023 года. Удаляем пропуски.<br>\n",
    "Для столбца с местом прибытия пропуски заполним нулями (0 район - пригород)."
   ]
  },
  {
   "cell_type": "code",
   "execution_count": null,
   "id": "4df865e8-2f33-4cca-856a-05ef9f9cbd32",
   "metadata": {
    "id": "4df865e8-2f33-4cca-856a-05ef9f9cbd32"
   },
   "outputs": [],
   "source": [
    "df_22 = df_22.filter(df_22['Pickup Community Area'].isNotNull())\n",
    "df_23 = df_23.filter(df_23['Pickup Community Area'].isNotNull())\n",
    "df_22 = df_22.fillna(value=0, subset=['Dropoff Community Area'])\n",
    "df_23 = df_23.fillna(value=0, subset=['Dropoff Community Area'])"
   ]
  },
  {
   "cell_type": "markdown",
   "id": "49cc71e2-59c8-42a2-895a-b468c8cdea2e",
   "metadata": {
    "id": "49cc71e2-59c8-42a2-895a-b468c8cdea2e"
   },
   "source": [
    "Избавимся от столбцов Pickup Census Tract, Dropoff Census Tract и от столбов с геоданными."
   ]
  },
  {
   "cell_type": "code",
   "execution_count": null,
   "id": "746f1c85-2b10-4743-9362-d2473a69cf84",
   "metadata": {
    "id": "746f1c85-2b10-4743-9362-d2473a69cf84",
    "outputId": "cbc3b264-b12b-4a99-d956-f55b65c01943"
   },
   "outputs": [
    {
     "data": {
      "text/plain": [
       "DataFrame[Trip ID: string, Taxi ID: string, Trip Start Timestamp: string, Trip End Timestamp: string, Trip Seconds: int, Trip Miles: double, Pickup Community Area: int, Dropoff Community Area: int, Fare: double, Tips: double, Tolls: double, Extras: double, Trip Total: double, Payment Type: string, Company: string]"
      ]
     },
     "execution_count": 21,
     "metadata": {},
     "output_type": "execute_result"
    }
   ],
   "source": [
    "cols_to_drop = ['Pickup Census Tract',\n",
    "               'Dropoff Census Tract',\n",
    "               'Pickup Centroid Latitude',\n",
    "               'Pickup Centroid Longitude',\n",
    "               'Pickup Centroid Location',\n",
    "               'Dropoff Centroid Latitude',\n",
    "               'Dropoff Centroid Longitude',\n",
    "               'Dropoff Centroid  Location']\n",
    "\n",
    "df_22 = df_22.drop(*cols_to_drop)\n",
    "df_23 = df_23.drop(*cols_to_drop)\n",
    "df_22.cache()\n",
    "df_23.cache()"
   ]
  },
  {
   "cell_type": "markdown",
   "id": "aa66b180-adf6-48b1-aa8e-c4af905c2f87",
   "metadata": {
    "id": "aa66b180-adf6-48b1-aa8e-c4af905c2f87"
   },
   "source": [
    "## Общий анализ данных по городу"
   ]
  },
  {
   "cell_type": "markdown",
   "id": "ec75a4f3-c468-4cfd-95d9-d7e173b1ee1c",
   "metadata": {
    "id": "ec75a4f3-c468-4cfd-95d9-d7e173b1ee1c"
   },
   "source": [
    "Узнаем, сколько районов в Чикаго (без учёта пропусков)."
   ]
  },
  {
   "cell_type": "code",
   "execution_count": null,
   "id": "465a8874-00c1-4bc9-b6f3-4755aff2f5a1",
   "metadata": {
    "id": "465a8874-00c1-4bc9-b6f3-4755aff2f5a1",
    "outputId": "0c5892a6-79c7-411f-d75b-7469cbede345"
   },
   "outputs": [
    {
     "data": {
      "text/plain": [
       "77"
      ]
     },
     "execution_count": 22,
     "metadata": {},
     "output_type": "execute_result"
    }
   ],
   "source": [
    "df_22.select('Pickup Community Area').distinct().count()"
   ]
  },
  {
   "cell_type": "markdown",
   "id": "75ddcff7-29e4-4f6c-a61b-ee6ca9d64497",
   "metadata": {
    "id": "75ddcff7-29e4-4f6c-a61b-ee6ca9d64497"
   },
   "source": [
    "Посмотрим сколько таксопарков работают в городе и далее избавимся от данного столбца."
   ]
  },
  {
   "cell_type": "code",
   "execution_count": null,
   "id": "c8b70c10-8ee9-43b0-b771-669c2d4d1cf5",
   "metadata": {
    "id": "c8b70c10-8ee9-43b0-b771-669c2d4d1cf5",
    "outputId": "bc954025-20ac-4b87-d3ba-69781f07ffb7"
   },
   "outputs": [
    {
     "data": {
      "text/plain": [
       "36"
      ]
     },
     "execution_count": 23,
     "metadata": {},
     "output_type": "execute_result"
    }
   ],
   "source": [
    "count_company = df_22.select('Company').distinct().count()\n",
    "df_22 = df_22.drop('Company')\n",
    "df_23 = df_23.drop('Company')\n",
    "count_company\n"
   ]
  },
  {
   "cell_type": "markdown",
   "id": "227fc3a2-f404-41d9-a950-33214bb96d30",
   "metadata": {
    "id": "227fc3a2-f404-41d9-a950-33214bb96d30"
   },
   "source": [
    "Посмотрим на распределение заказовпо районам"
   ]
  },
  {
   "cell_type": "code",
   "execution_count": null,
   "id": "8f5d5adf-4d09-4dcf-ad9d-f9a22e6db94f",
   "metadata": {
    "id": "8f5d5adf-4d09-4dcf-ad9d-f9a22e6db94f",
    "outputId": "e896c6fa-fa4f-44df-f969-1090280f67e1"
   },
   "outputs": [
    {
     "data": {
      "image/png": "[encoded data removed]",
      "text/plain": [
       "<Figure size 1600x500 with 1 Axes>"
      ]
     },
     "metadata": {},
     "output_type": "display_data"
    },
    {
     "data": {
      "image/png": "[encoded data removed]",
      "text/plain": [
       "<Figure size 1600x500 with 1 Axes>"
      ]
     },
     "metadata": {},
     "output_type": "display_data"
    }
   ],
   "source": [
    "(df_22.groupBy(\"Pickup Community Area\")\n",
    "      .count()\n",
    "      .toPandas()\n",
    "      .set_index('Pickup Community Area')\n",
    "      .sort_index()\n",
    "      .plot(kind='bar',\n",
    "            legend=False,\n",
    "            figsize=(16,5),\n",
    "            title='Количество заказов за 2022 год по районам Чикаго',\n",
    "            xlabel='Номер района',\n",
    "            ylabel='Количество заказов'));\n",
    "\n",
    "(df_23.groupBy(\"Pickup Community Area\")\n",
    "      .count()\n",
    "      .toPandas()\n",
    "      .set_index('Pickup Community Area')\n",
    "      .sort_index()\n",
    "      .plot(kind='bar',\n",
    "            figsize=(16,5),\n",
    "            title='Количество заказов за 2023 год по районам Чикаго',\n",
    "         xlabel='Номер района', ylabel='Количество заказов')\n",
    ");"
   ]
  },
  {
   "cell_type": "markdown",
   "id": "e1dacbc7-9b15-4b45-917c-97edcd4c8f61",
   "metadata": {
    "id": "e1dacbc7-9b15-4b45-917c-97edcd4c8f61"
   },
   "source": [
    "Выделим Топ10 самых востребованных в такси районов и сохраним"
   ]
  },
  {
   "cell_type": "code",
   "execution_count": null,
   "id": "7095088d-4b59-42cb-898b-4b5abb50e980",
   "metadata": {
    "id": "7095088d-4b59-42cb-898b-4b5abb50e980",
    "outputId": "ed68622a-0786-4e06-ee45-6f76e25c36f8"
   },
   "outputs": [
    {
     "name": "stdout",
     "output_type": "stream",
     "text": [
      "Топ10 районов по заказам за 22год\n",
      "+---------------------+-------+\n",
      "|Pickup Community Area|  count|\n",
      "+---------------------+-------+\n",
      "|                    8|1482195|\n",
      "|                   32|1031002|\n",
      "|                   76| 989879|\n",
      "|                   28| 531270|\n",
      "|                   33| 229643|\n",
      "|                    6| 229347|\n",
      "|                   56| 183445|\n",
      "|                    7| 150635|\n",
      "|                    3| 100678|\n",
      "|                   77|  76036|\n",
      "+---------------------+-------+\n",
      "only showing top 10 rows\n",
      "\n",
      "Топ10 районов по заказам за 23год\n",
      "+---------------------+------+\n",
      "|Pickup Community Area| count|\n",
      "+---------------------+------+\n",
      "|                    8|939996|\n",
      "|                   76|862048|\n",
      "|                   32|702603|\n",
      "|                   28|394604|\n",
      "|                   33|161161|\n",
      "|                   56|153437|\n",
      "|                    6|151978|\n",
      "|                    7| 92285|\n",
      "|                    3| 66633|\n",
      "|                   77| 50840|\n",
      "+---------------------+------+\n",
      "only showing top 10 rows\n",
      "\n"
     ]
    },
    {
     "data": {
      "text/plain": [
       "[8, 76, 32, 28, 33, 56, 6, 7, 3, 77]"
      ]
     },
     "execution_count": 25,
     "metadata": {},
     "output_type": "execute_result"
    }
   ],
   "source": [
    "print('Топ10 районов по заказам за 22год')\n",
    "area10_22 = (df_22.groupBy(\"Pickup Community Area\")\n",
    "                  .agg(count('Trip ID').alias('count'))\n",
    "                  .sort('count', ascending=False)\n",
    ")\n",
    "area10_22.show(10)\n",
    "\n",
    "print('Топ10 районов по заказам за 23год')\n",
    "area10_23 = (df_23.groupBy(\"Pickup Community Area\")\n",
    "                  .agg(count('Trip ID').alias('count'))\n",
    "                  .sort('count', ascending=False)\n",
    ")\n",
    "\n",
    "area10_23.show(10)\n",
    "area10 = (area10_23.limit(10).fillna(0)\n",
    "                   .select(col('Pickup Community Area').alias('area'))\\\n",
    "                   .collect()\n",
    ")\n",
    "top10_area = [value.area for value in area10]\n",
    "top10_area"
   ]
  },
  {
   "cell_type": "markdown",
   "id": "bd8a5e8d-c6c8-49db-bcb0-229d5419a22b",
   "metadata": {
    "id": "bd8a5e8d-c6c8-49db-bcb0-229d5419a22b"
   },
   "source": [
    "Сохраним список топ районов по заказам"
   ]
  },
  {
   "cell_type": "code",
   "execution_count": null,
   "id": "5abbe019-e843-480b-beed-b0693052bcd1",
   "metadata": {
    "id": "5abbe019-e843-480b-beed-b0693052bcd1",
    "outputId": "bb78e2f2-4e2b-4494-e0bd-e00bcc03edfa"
   },
   "outputs": [
    {
     "data": {
      "text/plain": [
       "[8, 76, 32, 28, 33, 56, 6, 7, 3, 77]"
      ]
     },
     "execution_count": 26,
     "metadata": {},
     "output_type": "execute_result"
    }
   ],
   "source": [
    "area10 = df_23.groupBy(\"Pickup Community Area\")\\\n",
    "                  .agg(count('Trip ID').alias('count'))\\\n",
    "                  .sort('count', ascending=False)\\\n",
    "                  .limit(10)\\\n",
    "                  .select(col('Pickup Community Area').alias('area'))\\\n",
    "                  .collect()\n",
    "\n",
    "top10_area = [value.area for value in area10]\n",
    "top10_area"
   ]
  },
  {
   "cell_type": "markdown",
   "id": "13ae1897-a0d8-4d8e-9d5e-314e6e4b7fd2",
   "metadata": {
    "id": "13ae1897-a0d8-4d8e-9d5e-314e6e4b7fd2"
   },
   "source": [
    "Посмотрим в каких районах самые большие срединие чеки за такси."
   ]
  },
  {
   "cell_type": "code",
   "execution_count": null,
   "id": "f4eb4669-8dbe-4aeb-9253-dc463b431042",
   "metadata": {
    "id": "f4eb4669-8dbe-4aeb-9253-dc463b431042",
    "outputId": "a64bdcff-6446-46ba-de27-f3b4a086a3c6"
   },
   "outputs": [
    {
     "data": {
      "image/png": "[encoded data removed]",
      "text/plain": [
       "<Figure size 1400x500 with 1 Axes>"
      ]
     },
     "metadata": {},
     "output_type": "display_data"
    },
    {
     "data": {
      "image/png": "[encoded data removed]",
      "text/plain": [
       "<Figure size 1400x500 with 1 Axes>"
      ]
     },
     "metadata": {},
     "output_type": "display_data"
    }
   ],
   "source": [
    "pan_22 = (df_22['Trip Total', 'Pickup Community Area']\n",
    "             .groupBy(\"Pickup Community Area\")\n",
    "             .agg({'Trip Total': 'median'})\n",
    "             .toPandas()\n",
    "             .set_index('Pickup Community Area')\n",
    "             .sort_index())\n",
    "ax = pan_22.plot(kind='bar',\n",
    "                 legend=False,\n",
    "                 figsize=(14,5),\n",
    "                 title='Средняя стоимость поездки по районам Чикаго за 2022год',\n",
    "                 xlabel='Номер района',\n",
    "                 ylabel='Стоимость поездки')\n",
    "for i in range(10):\n",
    "    ax.patches[pan_22.index.get_indexer(top10_area)[i]].set_facecolor('xkcd:salmon')\n",
    "\n",
    "pan_23 = (df_23['Trip Total', 'Pickup Community Area']\n",
    "             .groupBy(\"Pickup Community Area\")\n",
    "             .agg({'Trip Total': 'median'})\n",
    "             .toPandas()\n",
    "             .set_index('Pickup Community Area')\n",
    "             .sort_index())\n",
    "ax = pan_23.plot(kind='bar',\n",
    "                 legend=False,\n",
    "                 figsize=(14,5),\n",
    "                 title='Средняя стоимость поездки по районам Чикаго за 2023год',\n",
    "                 xlabel='Номер района',\n",
    "                 ylabel='Стоимость поездки')\n",
    "for i in range(10):\n",
    "    ax.patches[pan_23.index.get_indexer(top10_area)[i]].set_facecolor('xkcd:salmon')"
   ]
  },
  {
   "cell_type": "markdown",
   "id": "0a151839-2efc-4051-a1d5-deaf171d4f96",
   "metadata": {
    "id": "0a151839-2efc-4051-a1d5-deaf171d4f96"
   },
   "source": [
    "Изучим среднюю длительность поездки по районам."
   ]
  },
  {
   "cell_type": "code",
   "execution_count": null,
   "id": "03c65ff1-cd03-4496-86a1-fa6763740236",
   "metadata": {
    "id": "03c65ff1-cd03-4496-86a1-fa6763740236",
    "outputId": "cb1e3f87-5b62-4ccd-c629-ba1852b58c1d"
   },
   "outputs": [
    {
     "data": {
      "image/png": "[encoded data removed]",
      "text/plain": [
       "<Figure size 1400x500 with 1 Axes>"
      ]
     },
     "metadata": {},
     "output_type": "display_data"
    },
    {
     "data": {
      "image/png": "[encoded data removed]",
      "text/plain": [
       "<Figure size 1400x500 with 1 Axes>"
      ]
     },
     "metadata": {},
     "output_type": "display_data"
    }
   ],
   "source": [
    "pan_22 = (df_22['Trip Seconds', 'Pickup Community Area']\n",
    "             .groupBy(\"Pickup Community Area\")\n",
    "             .agg({'Trip Seconds': 'median'})\n",
    "             .toPandas()\n",
    "             .set_index('Pickup Community Area')\n",
    "             .sort_index())\n",
    "ax = pan_22.plot(kind='bar',\n",
    "                 legend=False,\n",
    "                 figsize=(14,5),\n",
    "                 title='Средняя длительность поездки по районам Чикаго за 2022год',\n",
    "                 xlabel='Номер района',\n",
    "                 ylabel='Длительность поездки (в сек.)')\n",
    "for i in range(10):\n",
    "    ax.patches[pan_22.index.get_indexer(top10_area)[i]].set_facecolor('xkcd:salmon')\n",
    "\n",
    "pan_23 = (df_23['Trip Seconds', 'Pickup Community Area']\n",
    "             .groupBy(\"Pickup Community Area\")\n",
    "             .agg({'Trip Seconds': 'median'})\n",
    "             .toPandas()\n",
    "             .set_index('Pickup Community Area')\n",
    "             .sort_index())\n",
    "ax = pan_23.plot(kind='bar',\n",
    "                 legend=False,\n",
    "                 figsize=(14,5),\n",
    "                 title='Средняя длительность поездки по районам Чикаго за 2023год',\n",
    "                 xlabel='Номер района',\n",
    "                 ylabel='Длительность поездки (в сек.)')\n",
    "for i in range(10):\n",
    "    ax.patches[pan_23.index.get_indexer(top10_area)[i]].set_facecolor('xkcd:salmon')"
   ]
  },
  {
   "cell_type": "markdown",
   "id": "f12e5fb1-2a87-4c39-8455-2d5b94018c83",
   "metadata": {
    "id": "f12e5fb1-2a87-4c39-8455-2d5b94018c83"
   },
   "source": [
    "Изучим среднюю дальность поездки по районам."
   ]
  },
  {
   "cell_type": "code",
   "execution_count": null,
   "id": "d3e1cb6e-26ed-4079-bcfb-50990a036e1e",
   "metadata": {
    "id": "d3e1cb6e-26ed-4079-bcfb-50990a036e1e",
    "outputId": "b0d62350-452d-42c3-db8f-5313f043deb7"
   },
   "outputs": [
    {
     "data": {
      "image/png": "[encoded data removed]",
      "text/plain": [
       "<Figure size 1400x500 with 1 Axes>"
      ]
     },
     "metadata": {},
     "output_type": "display_data"
    },
    {
     "data": {
      "image/png": "[encoded data removed]",
      "text/plain": [
       "<Figure size 1400x500 with 1 Axes>"
      ]
     },
     "metadata": {},
     "output_type": "display_data"
    }
   ],
   "source": [
    "pan_22 = (df_22['Trip Miles', 'Pickup Community Area']\n",
    "             .groupBy(\"Pickup Community Area\")\n",
    "             .agg({'Trip Miles': 'median'})\n",
    "             .toPandas()\n",
    "             .set_index('Pickup Community Area')\n",
    "             .sort_index())\n",
    "ax = pan_22.plot(kind='bar',\n",
    "                 legend=False,\n",
    "                 figsize=(14,5),\n",
    "                 title='Средняя дальность поездки по районам Чикаго за 2022год',\n",
    "                 xlabel='Номер района',\n",
    "                 ylabel='Дальность поездки (в милях)')\n",
    "for i in range(10):\n",
    "    ax.patches[pan_22.index.get_indexer(top10_area)[i]].set_facecolor('xkcd:salmon')\n",
    "\n",
    "pan_23 = (df_23['Trip Miles', 'Pickup Community Area']\n",
    "             .groupBy(\"Pickup Community Area\")\n",
    "             .agg({'Trip Miles': 'median'})\n",
    "             .toPandas()\n",
    "             .set_index('Pickup Community Area')\n",
    "             .sort_index())\n",
    "ax = pan_23.plot(kind='bar',\n",
    "                 legend=False,\n",
    "                 figsize=(14,5),\n",
    "                 title='Средняя дальность поездки по районам Чикаго за 2023год',\n",
    "                 xlabel='Номер района',\n",
    "                 ylabel='Дальность поездки (в милях)')\n",
    "for i in range(10):\n",
    "    ax.patches[pan_23.index.get_indexer(top10_area)[i]].set_facecolor('xkcd:salmon')"
   ]
  },
  {
   "cell_type": "markdown",
   "id": "c8001323-0deb-4768-8465-dfe623def742",
   "metadata": {
    "id": "c8001323-0deb-4768-8465-dfe623def742"
   },
   "source": [
    "Рассмотрим какой способ оплаты предпочитают жители Чикаго."
   ]
  },
  {
   "cell_type": "code",
   "execution_count": null,
   "id": "c0fd51c9-4bfc-492b-97f1-53fc9310f57f",
   "metadata": {
    "id": "c0fd51c9-4bfc-492b-97f1-53fc9310f57f",
    "outputId": "178520ec-c110-4c51-d07b-a84de76d1f0d"
   },
   "outputs": [
    {
     "data": {
      "image/png": "[encoded data removed]",
      "text/plain": [
       "<Figure size 600x600 with 1 Axes>"
      ]
     },
     "metadata": {},
     "output_type": "display_data"
    },
    {
     "data": {
      "image/png": "[encoded data removed]",
      "text/plain": [
       "<Figure size 600x600 with 1 Axes>"
      ]
     },
     "metadata": {},
     "output_type": "display_data"
    }
   ],
   "source": [
    "df_22['Trip ID', 'Payment Type'].groupBy(\"Payment Type\")\\\n",
    "                                .agg({'Trip ID': 'count'})\\\n",
    "                                .orderBy(col('count(Trip ID)').desc())\\\n",
    "                                .toPandas()\\\n",
    "                                .set_index('Payment Type')\\\n",
    "                                .plot(kind='pie',\n",
    "                                      y='count(Trip ID)',\n",
    "                                      ylabel='',\n",
    "                                      xlabel='',\n",
    "                                      autopct='%1.0f%%',\n",
    "                                      title='Соотношение способов оплаты заказов такси 2022',\n",
    "                                      figsize=(6,6)),\\\n",
    "df_23['Trip ID', 'Payment Type'].groupBy(\"Payment Type\")\\\n",
    "                                .agg({'Trip ID': 'count'})\\\n",
    "                                .orderBy(col('count(Trip ID)').desc())\\\n",
    "                                .toPandas()\\\n",
    "                                .set_index('Payment Type')\\\n",
    "                                .plot(kind='pie',\n",
    "                                      y='count(Trip ID)',\n",
    "                                      ylabel='',\n",
    "                                      xlabel='',\n",
    "                                      autopct='%1.0f%%',\n",
    "                                      title='Соотношение способов оплаты заказов такси 2023',\n",
    "                                      figsize=(6,6));"
   ]
  },
  {
   "cell_type": "markdown",
   "id": "d55ad76e-8bfc-46d1-9422-8b2e381038a8",
   "metadata": {
    "id": "d55ad76e-8bfc-46d1-9422-8b2e381038a8"
   },
   "source": [
    "Вывод:\n",
    "1) На графике распределения количества заказов сильно выделяются 10-13 районов, в которых значительно больше заказов такси, чем в других. За 0.5 года практически не поменялась.\n",
    "2) Район 76 сильно выделяется на фоне остальных большим количеством заказов, длительностью, дальностью поездох и высокой стоимость. Вероятно это крупный жилой район на окраине Чикаго.\n",
    "3) У районов 8 и 32 район наоборот при большом количестве заказов стоимость и дальность поездох ниже остальных.\n",
    "4) В целом картина за 2023 и 2024 год очень похожая по различным показателям.\n",
    "5) Жители Чикаго предпочитаю традиционные методы оплаты банковской картой и наличными. Тем не менее процент безналичных способов оплаты расёт (кредитная карта, мобильный телефон). Это отражает 2023 год."
   ]
  },
  {
   "cell_type": "markdown",
   "id": "c04f0d88-c597-45e6-9697-59935d311f55",
   "metadata": {
    "id": "c04f0d88-c597-45e6-9697-59935d311f55"
   },
   "source": [
    "### Исследуем изменение количества заказов во времени."
   ]
  },
  {
   "cell_type": "markdown",
   "id": "8e8e1356-b81d-450b-8ab3-a5daceb24d00",
   "metadata": {
    "id": "8e8e1356-b81d-450b-8ab3-a5daceb24d00"
   },
   "source": [
    "Уберем ненужные столбцы"
   ]
  },
  {
   "cell_type": "code",
   "execution_count": null,
   "id": "fa6aca6e-91fa-45db-98f0-b6097d9108b2",
   "metadata": {
    "id": "fa6aca6e-91fa-45db-98f0-b6097d9108b2"
   },
   "outputs": [],
   "source": [
    "cols_drop = ['Trip End Timestamp', 'Taxi ID', 'Fare', 'Tips', 'Tolls', 'Extras', 'Payment Type']"
   ]
  },
  {
   "cell_type": "code",
   "execution_count": null,
   "id": "4cd60efe-b5c6-4186-b4a5-8f461616690a",
   "metadata": {
    "id": "4cd60efe-b5c6-4186-b4a5-8f461616690a",
    "outputId": "889e2698-219a-48ef-dd28-aa3dac10b8c1"
   },
   "outputs": [
    {
     "data": {
      "text/plain": [
       "(DataFrame[Trip ID: string, Trip Start Timestamp: string, Trip Seconds: int, Trip Miles: double, Pickup Community Area: int, Dropoff Community Area: int, Trip Total: double],\n",
       " DataFrame[Trip ID: string, Trip Start Timestamp: string, Trip Seconds: int, Trip Miles: double, Pickup Community Area: int, Dropoff Community Area: int, Trip Total: double])"
      ]
     },
     "execution_count": 32,
     "metadata": {},
     "output_type": "execute_result"
    }
   ],
   "source": [
    "df_22 = df_22.drop(*cols_drop)\n",
    "df_23 = df_23.drop(*cols_drop)\n",
    "df_22.cache(), df_23.cache()"
   ]
  },
  {
   "cell_type": "markdown",
   "id": "29e42a10-1a81-4823-87c3-e490aff4d799",
   "metadata": {
    "id": "29e42a10-1a81-4823-87c3-e490aff4d799"
   },
   "source": [
    "Приведём время начала поездки к подходящему типу."
   ]
  },
  {
   "cell_type": "code",
   "execution_count": null,
   "id": "50e5a90d-b41b-465c-8b33-11336eb947e5",
   "metadata": {
    "id": "50e5a90d-b41b-465c-8b33-11336eb947e5"
   },
   "outputs": [],
   "source": [
    "df_22 = df_22.withColumn('DT', (f.date_trunc('hour', to_timestamp(col('Trip Start Timestamp'), 'MM/dd/yyyy hh:mm:ss a')))).cache()\n",
    "df_23 = df_23.withColumn('DT', (f.date_trunc('hour', to_timestamp(col('Trip Start Timestamp'), 'MM/dd/yyyy hh:mm:ss a')))).cache()"
   ]
  },
  {
   "cell_type": "code",
   "execution_count": null,
   "id": "33b9722b-277b-405b-9450-fd4a338e6049",
   "metadata": {
    "id": "33b9722b-277b-405b-9450-fd4a338e6049",
    "outputId": "f5838d8f-6764-4d4e-a92c-8dab7565ce62"
   },
   "outputs": [
    {
     "name": "stdout",
     "output_type": "stream",
     "text": [
      "+-------+-------+--------------------+------------+----------+---------------------+----------------------+----------+\n",
      "|summary|Trip ID|Trip Start Timestamp|Trip Seconds|Trip Miles|Pickup Community Area|Dropoff Community Area|Trip Total|\n",
      "+-------+-------+--------------------+------------+----------+---------------------+----------------------+----------+\n",
      "|  count|4153474|             4153474|     4152790|   4153463|              4153474|               4153474|   4146954|\n",
      "+-------+-------+--------------------+------------+----------+---------------------+----------------------+----------+\n",
      "\n"
     ]
    }
   ],
   "source": [
    "df_23.summary('count').show()"
   ]
  },
  {
   "cell_type": "code",
   "execution_count": null,
   "id": "5b0d4ffd-8afb-4023-b0fd-f138388f6c87",
   "metadata": {
    "id": "5b0d4ffd-8afb-4023-b0fd-f138388f6c87",
    "outputId": "a55b24fb-d84b-49f9-9645-029f1e410434"
   },
   "outputs": [],
   "source": [
    "data_ts = (df_22.groupBy('DT')\\\n",
    "                 .pivot(\"Pickup Community Area\")\\\n",
    "                 .agg({'Trip ID': 'count'})\\\n",
    "                 .orderBy(col('DT')))\\\n",
    "                 .union(df_23.groupBy('DT')\\\n",
    "                             .pivot(\"Pickup Community Area\")\\\n",
    "                             .agg({'Trip ID': 'count'})\\\n",
    "                             .orderBy('DT'))\\\n",
    "                 .fillna(0)\\\n",
    "                 .toPandas()\\\n",
    "                 .set_index('DT')"
   ]
  },
  {
   "cell_type": "markdown",
   "id": "94efd463-0067-4f23-8d3e-cd802933f524",
   "metadata": {
    "id": "94efd463-0067-4f23-8d3e-cd802933f524"
   },
   "source": [
    "Проанализируем изменение количества заказов для самых загруженных районов."
   ]
  },
  {
   "cell_type": "markdown",
   "id": "4002d369-1f61-41c3-aec4-dd746ce13a23",
   "metadata": {
    "id": "4002d369-1f61-41c3-aec4-dd746ce13a23"
   },
   "source": [
    "### Анализ района №3"
   ]
  },
  {
   "cell_type": "markdown",
   "id": "228abe7f-9f4f-476c-a4d2-c739088f91a7",
   "metadata": {
    "id": "228abe7f-9f4f-476c-a4d2-c739088f91a7"
   },
   "source": [
    "#### Изменение среднего значения для разных временных признаков"
   ]
  },
  {
   "cell_type": "code",
   "execution_count": null,
   "id": "68bed69f-1306-4953-bec8-6e3fb9b4411b",
   "metadata": {
    "id": "68bed69f-1306-4953-bec8-6e3fb9b4411b",
    "outputId": "b1ba2d4d-2227-440e-83a8-324f2d17efe4"
   },
   "outputs": [
    {
     "data": {
      "image/png": "[encoded data removed]",
      "text/plain": [
       "<Figure size 1000x500 with 1 Axes>"
      ]
     },
     "metadata": {},
     "output_type": "display_data"
    },
    {
     "data": {
      "image/png": "[encoded data removed]",
      "text/plain": [
       "<Figure size 1000x500 with 1 Axes>"
      ]
     },
     "metadata": {},
     "output_type": "display_data"
    },
    {
     "data": {
      "image/png": "[encoded data removed]",
      "text/plain": [
       "<Figure size 1000x500 with 1 Axes>"
      ]
     },
     "metadata": {},
     "output_type": "display_data"
    },
    {
     "data": {
      "image/png": "[encoded data removed]",
      "text/plain": [
       "<Figure size 1000x500 with 1 Axes>"
      ]
     },
     "metadata": {},
     "output_type": "display_data"
    }
   ],
   "source": [
    "area_num = '3'\n",
    "color = list(np.random.choice(range(1,257), size=3)/256)\n",
    "time_bars(data_ts, area_num, color)"
   ]
  },
  {
   "cell_type": "markdown",
   "id": "513eb374-55f2-4687-866f-bee9bb6923e7",
   "metadata": {
    "id": "513eb374-55f2-4687-866f-bee9bb6923e7"
   },
   "source": [
    "#### Анализ ряда на стационарность"
   ]
  },
  {
   "cell_type": "code",
   "execution_count": null,
   "id": "fa89d2dc-0088-4844-8dcd-7d6cf2896d6b",
   "metadata": {
    "id": "fa89d2dc-0088-4844-8dcd-7d6cf2896d6b",
    "outputId": "db6ffae6-3126-405e-f425-352715012c19"
   },
   "outputs": [
    {
     "data": {
      "image/png": "[encoded data removed]",
      "text/plain": [
       "<Figure size 1600x700 with 1 Axes>"
      ]
     },
     "metadata": {},
     "output_type": "display_data"
    }
   ],
   "source": [
    "stationarity_plot(data_ts, area_num)"
   ]
  },
  {
   "cell_type": "markdown",
   "id": "f01e8cbe-7811-4ee8-94cc-bdbb08832cb2",
   "metadata": {
    "id": "f01e8cbe-7811-4ee8-94cc-bdbb08832cb2"
   },
   "source": [
    "Ряд выглядит стационарным. Продевём дополнительный тест."
   ]
  },
  {
   "cell_type": "markdown",
   "id": "7cd760cb-4eb5-4f4b-bb66-7d1ab3bb8f21",
   "metadata": {
    "id": "7cd760cb-4eb5-4f4b-bb66-7d1ab3bb8f21"
   },
   "source": [
    "#### Тест Дики - Фуллера на стационарность"
   ]
  },
  {
   "cell_type": "code",
   "execution_count": null,
   "id": "e09ec9a5-91d0-44db-b678-7e43c8508053",
   "metadata": {
    "id": "e09ec9a5-91d0-44db-b678-7e43c8508053",
    "outputId": "e78018a1-5969-481a-b1f2-ea11b4bd09a5"
   },
   "outputs": [
    {
     "name": "stdout",
     "output_type": "stream",
     "text": [
      "P-значение: 0.000000\n",
      "При уровне значимости 0.05: Нулевая гипотеза отвергнута – Временной ряд стационарен\n",
      "При уровне значимости 0.01: Нулевая гипотеза отвергнута – Временной ряд стационарен\n"
     ]
    }
   ],
   "source": [
    "result = adfuller(data_ts[area_num])\n",
    "\n",
    "print('P-значение: %f' % result[1])\n",
    "\n",
    "alpha_1 = 0.05\n",
    "alpha_2 = 0.01\n",
    "a1 = 'При уровне значимости ' + str(alpha_1)\n",
    "a2 = 'При уровне значимости ' + str(alpha_2)\n",
    "\n",
    "if (result[1] < alpha_1):\n",
    "    print (f'{a1}: Нулевая гипотеза отвергнута – Временной ряд стационарен')\n",
    "else:\n",
    "    print (f'{a1}: Нулевая гипотеза не отвергнута – Временной ряд не стационарен')\n",
    "\n",
    "if (result[1] < alpha_2):\n",
    "    print (f'{a2}: Нулевая гипотеза отвергнута – Временной ряд стационарен')\n",
    "else:\n",
    "    print (f'{a2}: Нулевая гипотеза не отвергнута – Временной ряд не стационарен')\n",
    "\n"
   ]
  },
  {
   "cell_type": "markdown",
   "id": "8800db53-2750-4539-ba1c-970af6f53c34",
   "metadata": {
    "id": "8800db53-2750-4539-ba1c-970af6f53c34"
   },
   "source": [
    "Вывод Р3:\n",
    "1) Обнаружена сезонность по часам в течение дня. С 1 до 5 утра услушами такси практически не пользуются. Самое активное время с 8 до 18.\n",
    "2) Обнаружена созонность по дням недели. В пятницу больше всего заказов, а в воскресенье меньше всего.\n",
    "4) В марте и декабре заказов больше всего, а в январе и июле меньше.\n",
    "5) Временной ряд стационарный."
   ]
  },
  {
   "cell_type": "markdown",
   "id": "6ceb8a49-70c1-436d-b488-31c4cdab7068",
   "metadata": {
    "id": "6ceb8a49-70c1-436d-b488-31c4cdab7068"
   },
   "source": [
    "### Анализ района №6"
   ]
  },
  {
   "cell_type": "markdown",
   "id": "73a0c299-b416-4c18-9a57-f472f8ff496c",
   "metadata": {
    "id": "73a0c299-b416-4c18-9a57-f472f8ff496c"
   },
   "source": [
    "#### Изменение среднего значения для разных временных признаков"
   ]
  },
  {
   "cell_type": "code",
   "execution_count": null,
   "id": "9c90c285-f72c-4ab7-8588-3eb20437d8ce",
   "metadata": {
    "id": "9c90c285-f72c-4ab7-8588-3eb20437d8ce",
    "outputId": "bf766d48-4136-4f79-a9af-bf4a823724af"
   },
   "outputs": [
    {
     "data": {
      "image/png": "[encoded data removed]",
      "text/plain": [
       "<Figure size 1000x500 with 1 Axes>"
      ]
     },
     "metadata": {},
     "output_type": "display_data"
    }
   ],
   "source": [
    "area_num = '6'\n",
    "color = list(np.random.choice(range(1,257), size=3)/256)\n",
    "time_bars(data_ts, area_num, color)"
   ]
  },
  {
   "cell_type": "markdown",
   "id": "fa8ac922-9a46-49e1-9d10-2f1f49c7731a",
   "metadata": {
    "id": "fa8ac922-9a46-49e1-9d10-2f1f49c7731a"
   },
   "source": [
    "#### Анализ ряда на стационарность"
   ]
  },
  {
   "cell_type": "code",
   "execution_count": null,
   "id": "823cceab-d96c-4279-b853-c6f918549a81",
   "metadata": {
    "id": "823cceab-d96c-4279-b853-c6f918549a81"
   },
   "outputs": [],
   "source": [
    "data_ts['rolling_mean'] = data_ts[area_num].shift().rolling(5).mean()\n",
    "data_ts['std'] = data_ts[area_num].rolling(5).std()\n",
    "data_ts[[area_num, 'rolling_mean', 'std']].dropna().plot(figsize=(16,7));\n",
    "plt.title('Изменение количества заказов, скользящего среднего и стандартного отклонения')\n",
    "plt.ylabel('Количество заказов')\n",
    "plt.xlabel('Временная шкала')\n",
    "plt.show()\n",
    "data_ts.drop(columns=['rolling_mean', 'std'], inplace=True)"
   ]
  },
  {
   "cell_type": "markdown",
   "id": "14e5b50f-d07b-4e4b-8d17-0c6cd5a7db9e",
   "metadata": {
    "id": "14e5b50f-d07b-4e4b-8d17-0c6cd5a7db9e"
   },
   "source": [
    "#### Тест Дики - Фуллера на стационарность"
   ]
  },
  {
   "cell_type": "code",
   "execution_count": null,
   "id": "adefc517-6c1c-41ac-9675-d8fe6bcd746a",
   "metadata": {
    "id": "adefc517-6c1c-41ac-9675-d8fe6bcd746a"
   },
   "outputs": [],
   "source": [
    "result = adfuller(data_ts[area_num])\n",
    "\n",
    "print('P-значение: %f' % result[1])\n",
    "\n",
    "alpha_1 = 0.05\n",
    "alpha_2 = 0.01\n",
    "a1 = 'При уровне значимости ' + str(alpha_1)\n",
    "a2 = 'При уровне значимости ' + str(alpha_2)\n",
    "\n",
    "if (result[1] < alpha_1):\n",
    "    print (f'{a1}: Нулевая гипотеза отвергнута – Временной ряд стационарен')\n",
    "else:\n",
    "    print (f'{a1}: Нулевая гипотеза не отвергнута – Временной ряд не стационарен')\n",
    "\n",
    "if (result[1] < alpha_2):\n",
    "    print (f'{a2}: Нулевая гипотеза отвергнута – Временной ряд стационарен')\n",
    "else:\n",
    "    print (f'{a2}: Нулевая гипотеза не отвергнута – Временной ряд не стационарен')\n",
    "\n"
   ]
  },
  {
   "cell_type": "markdown",
   "id": "64189bcf-c979-4b06-a264-0df31cf9b8e2",
   "metadata": {
    "id": "64189bcf-c979-4b06-a264-0df31cf9b8e2"
   },
   "source": [
    "Вывод Р6:\n",
    "1) Обнаружена сезонность по часам в течение дня. С 0 до 6 утра услушами такси практически не пользуются. Самое активное время с 7 до 19.\n",
    "2) Обнаружена созонность по дням недели. В пятницу и субботу больше всего заказов.\n",
    "4) В январе и феврале меньше всего заказов.\n",
    "5) Временной ряд стационарный."
   ]
  },
  {
   "cell_type": "markdown",
   "id": "18cbf10a-1c76-4e1d-a7f4-5f806ed686ec",
   "metadata": {
    "id": "18cbf10a-1c76-4e1d-a7f4-5f806ed686ec"
   },
   "source": [
    "### Анализ района №7"
   ]
  },
  {
   "cell_type": "markdown",
   "id": "3717b36e-dd43-4835-aaab-94d1953df4aa",
   "metadata": {
    "id": "3717b36e-dd43-4835-aaab-94d1953df4aa"
   },
   "source": [
    "#### Изменение среднего значения для разных временных признаков"
   ]
  },
  {
   "cell_type": "code",
   "execution_count": null,
   "id": "f0882db4-6fdd-4956-9dd9-0450e89815f0",
   "metadata": {
    "id": "f0882db4-6fdd-4956-9dd9-0450e89815f0"
   },
   "outputs": [],
   "source": [
    "area_num = '7'\n",
    "color = list(np.random.choice(range(1,257), size=3)/256)\n",
    "time_bars(data_ts, area_num, color)"
   ]
  },
  {
   "cell_type": "markdown",
   "id": "7b8b8d88-b7e1-4ecf-b1f1-1d3ae4f5ff03",
   "metadata": {
    "id": "7b8b8d88-b7e1-4ecf-b1f1-1d3ae4f5ff03"
   },
   "source": [
    "#### Анализ ряда на стационарность"
   ]
  },
  {
   "cell_type": "code",
   "execution_count": null,
   "id": "9aeb6343-b0f1-4a04-af55-ce653a9fef79",
   "metadata": {
    "id": "9aeb6343-b0f1-4a04-af55-ce653a9fef79"
   },
   "outputs": [],
   "source": [
    "stationarity_plot(data_ts, area_num)"
   ]
  },
  {
   "cell_type": "markdown",
   "id": "4f7e92fc-8729-4d50-abdc-f44c1e1a4a1e",
   "metadata": {
    "id": "4f7e92fc-8729-4d50-abdc-f44c1e1a4a1e"
   },
   "source": [
    "#### Тест Дики - Фуллера на стационарность"
   ]
  },
  {
   "cell_type": "code",
   "execution_count": null,
   "id": "991b2401-24ff-4ccc-928b-458c5bf8f896",
   "metadata": {
    "id": "991b2401-24ff-4ccc-928b-458c5bf8f896"
   },
   "outputs": [],
   "source": [
    "result = adfuller(data_ts[area_num])\n",
    "\n",
    "print('P-значение: %f' % result[1])\n",
    "\n",
    "alpha_1 = 0.05\n",
    "alpha_2 = 0.01\n",
    "a1 = 'При уровне значимости ' + str(alpha_1)\n",
    "a2 = 'При уровне значимости ' + str(alpha_2)\n",
    "\n",
    "if (result[1] < alpha_1):\n",
    "    print (f'{a1}: Нулевая гипотеза отвергнута – Временной ряд стационарен')\n",
    "else:\n",
    "    print (f'{a1}: Нулевая гипотеза не отвергнута – Временной ряд не стационарен')\n",
    "\n",
    "if (result[1] < alpha_2):\n",
    "    print (f'{a2}: Нулевая гипотеза отвергнута – Временной ряд стационарен')\n",
    "else:\n",
    "    print (f'{a2}: Нулевая гипотеза не отвергнута – Временной ряд не стационарен')\n",
    "\n"
   ]
  },
  {
   "cell_type": "markdown",
   "id": "de753c31-ef04-4b9a-aa56-91808c276bb7",
   "metadata": {
    "id": "de753c31-ef04-4b9a-aa56-91808c276bb7"
   },
   "source": [
    "Вывод Р7:\n",
    "1) Обнаружена сезонность по часам в течение дня. С 0 до 6 утра услушами такси практически не пользуются. Самое активное время с 17 до 19.\n",
    "2) Обнаружена созонность по дням недели. В пятницу и субботу больше всего заказов.\n",
    "4) В январе меньше всего заказов.\n",
    "5) Временной ряд стационарный."
   ]
  },
  {
   "cell_type": "markdown",
   "id": "29c4cc50-68a6-4cce-bead-20cb25a97dd6",
   "metadata": {
    "id": "29c4cc50-68a6-4cce-bead-20cb25a97dd6"
   },
   "source": [
    "### Анализ района №8"
   ]
  },
  {
   "cell_type": "markdown",
   "id": "5d638c78-b16c-4010-a56c-0cb92862e16c",
   "metadata": {
    "id": "5d638c78-b16c-4010-a56c-0cb92862e16c"
   },
   "source": [
    "#### Изменение среднего значения для разных временных признаков"
   ]
  },
  {
   "cell_type": "code",
   "execution_count": null,
   "id": "90cab549-9986-4506-b9b2-be102cba1bee",
   "metadata": {
    "id": "90cab549-9986-4506-b9b2-be102cba1bee"
   },
   "outputs": [],
   "source": [
    "area_num = '8'\n",
    "color = list(np.random.choice(range(1,257), size=3)/256)\n",
    "time_bars(data_ts, area_num, color)"
   ]
  },
  {
   "cell_type": "markdown",
   "id": "78032ddf-d6d6-4048-90fb-d327ed9dc063",
   "metadata": {
    "id": "78032ddf-d6d6-4048-90fb-d327ed9dc063"
   },
   "source": [
    "#### Анализ ряда на стационарность"
   ]
  },
  {
   "cell_type": "code",
   "execution_count": null,
   "id": "8fbb1df7-d44e-4238-ae41-956cfe319696",
   "metadata": {
    "id": "8fbb1df7-d44e-4238-ae41-956cfe319696"
   },
   "outputs": [],
   "source": [
    "stationarity_plot(data_ts, area_num)"
   ]
  },
  {
   "cell_type": "markdown",
   "id": "32f6fe4e-1dc9-452b-a87b-1fa2dc696ea5",
   "metadata": {
    "id": "32f6fe4e-1dc9-452b-a87b-1fa2dc696ea5"
   },
   "source": [
    "#### Тест Дики - Фуллера на стационарность"
   ]
  },
  {
   "cell_type": "code",
   "execution_count": null,
   "id": "82b2e6d2-c5b3-4f40-8f56-97c684691f98",
   "metadata": {
    "id": "82b2e6d2-c5b3-4f40-8f56-97c684691f98"
   },
   "outputs": [],
   "source": [
    "result = adfuller(data_ts[area_num])\n",
    "\n",
    "print('P-значение: %f' % result[1])\n",
    "\n",
    "alpha_1 = 0.05\n",
    "alpha_2 = 0.01\n",
    "a1 = 'При уровне значимости ' + str(alpha_1)\n",
    "a2 = 'При уровне значимости ' + str(alpha_2)\n",
    "\n",
    "if (result[1] < alpha_1):\n",
    "    print (f'{a1}: Нулевая гипотеза отвергнута – Временной ряд стационарен')\n",
    "else:\n",
    "    print (f'{a1}: Нулевая гипотеза не отвергнута – Временной ряд не стационарен')\n",
    "\n",
    "if (result[1] < alpha_2):\n",
    "    print (f'{a2}: Нулевая гипотеза отвергнута – Временной ряд стационарен')\n",
    "else:\n",
    "    print (f'{a2}: Нулевая гипотеза не отвергнута – Временной ряд не стационарен')\n",
    "\n"
   ]
  },
  {
   "cell_type": "markdown",
   "id": "04c24584-5233-4ed3-b5f0-465b84eb026c",
   "metadata": {
    "id": "04c24584-5233-4ed3-b5f0-465b84eb026c"
   },
   "source": [
    "Вывод Р8:\n",
    "1) Обнаружена сезонность по часам в течение дня. С 0 до 7 утра услушами такси практически не пользуются. Самое активное время с 16 до 19.\n",
    "2) Обнаружена созонность по дням недели. В воскресенье меньше всего заказов.\n",
    "4) В январе и феврале меньше всего заказов.\n",
    "5) Временной ряд стационарный."
   ]
  },
  {
   "cell_type": "markdown",
   "id": "34fb779d-325b-4f82-b8a0-21bcdbc4f94c",
   "metadata": {
    "id": "34fb779d-325b-4f82-b8a0-21bcdbc4f94c"
   },
   "source": [
    "### Анализ района №28"
   ]
  },
  {
   "cell_type": "markdown",
   "id": "ba9e936a-366f-4eee-86b0-61deff46f68a",
   "metadata": {
    "id": "ba9e936a-366f-4eee-86b0-61deff46f68a"
   },
   "source": [
    "#### Изменение среднего значения для разных временных признаков"
   ]
  },
  {
   "cell_type": "code",
   "execution_count": null,
   "id": "db69100b-7f71-49aa-ae9d-2a374ea382da",
   "metadata": {
    "id": "db69100b-7f71-49aa-ae9d-2a374ea382da"
   },
   "outputs": [],
   "source": [
    "area_num = '28'\n",
    "color = list(np.random.choice(range(1,257), size=3)/256)\n",
    "time_bars(data_ts, area_num, color)"
   ]
  },
  {
   "cell_type": "markdown",
   "id": "e91c5d1e-6d9e-4475-8d34-f185fc2d424e",
   "metadata": {
    "id": "e91c5d1e-6d9e-4475-8d34-f185fc2d424e"
   },
   "source": [
    "#### Анализ ряда на стационарность"
   ]
  },
  {
   "cell_type": "code",
   "execution_count": null,
   "id": "ce9efcb0-f06f-4263-9fc9-adb14b2c793a",
   "metadata": {
    "id": "ce9efcb0-f06f-4263-9fc9-adb14b2c793a"
   },
   "outputs": [],
   "source": [
    "stationarity_plot(data_ts, area_num)"
   ]
  },
  {
   "cell_type": "markdown",
   "id": "aaed91b6-9759-49ce-ae46-e3280601bb5e",
   "metadata": {
    "id": "aaed91b6-9759-49ce-ae46-e3280601bb5e"
   },
   "source": [
    "#### Тест Дики - Фуллера на стационарность"
   ]
  },
  {
   "cell_type": "code",
   "execution_count": null,
   "id": "4cb172bc-3d8f-4c4e-bd69-c713163f7576",
   "metadata": {
    "id": "4cb172bc-3d8f-4c4e-bd69-c713163f7576"
   },
   "outputs": [],
   "source": [
    "result = adfuller(data_ts[area_num])\n",
    "\n",
    "print('P-значение: %f' % result[1])\n",
    "\n",
    "alpha_1 = 0.05\n",
    "alpha_2 = 0.01\n",
    "a1 = 'При уровне значимости ' + str(alpha_1)\n",
    "a2 = 'При уровне значимости ' + str(alpha_2)\n",
    "\n",
    "if (result[1] < alpha_1):\n",
    "    print (f'{a1}: Нулевая гипотеза отвергнута – Временной ряд стационарен')\n",
    "else:\n",
    "    print (f'{a1}: Нулевая гипотеза не отвергнута – Временной ряд не стационарен')\n",
    "\n",
    "if (result[1] < alpha_2):\n",
    "    print (f'{a2}: Нулевая гипотеза отвергнута – Временной ряд стационарен')\n",
    "else:\n",
    "    print (f'{a2}: Нулевая гипотеза не отвергнута – Временной ряд не стационарен')\n",
    "\n"
   ]
  },
  {
   "cell_type": "markdown",
   "id": "632154f6-b4d5-4089-8502-e2b52edd041f",
   "metadata": {
    "id": "632154f6-b4d5-4089-8502-e2b52edd041f"
   },
   "source": [
    "Вывод Р28:\n",
    "1) Обнаружена сезонность по часам в течение дня. С 0 до 7 утра услушами такси практически не пользуются. Самое активное время с 8 до 10.\n",
    "2) Обнаружена созонность по дням недели. В субботу и воскресенье больше всего заказов.\n",
    "4) В январе и феврале меньше всего заказов.\n",
    "5) Временной ряд стационарный."
   ]
  },
  {
   "cell_type": "markdown",
   "id": "b376dfdb-88a0-4fb5-9155-51461744990b",
   "metadata": {
    "id": "b376dfdb-88a0-4fb5-9155-51461744990b"
   },
   "source": [
    "### Анализ района №32"
   ]
  },
  {
   "cell_type": "markdown",
   "id": "b7190d69-9bc9-484f-b374-c9f53c921929",
   "metadata": {
    "id": "b7190d69-9bc9-484f-b374-c9f53c921929"
   },
   "source": [
    "#### Изменение среднего значения для разных временных признаков"
   ]
  },
  {
   "cell_type": "code",
   "execution_count": null,
   "id": "503d20d2-ca58-47e2-b0bb-1fadac123940",
   "metadata": {
    "id": "503d20d2-ca58-47e2-b0bb-1fadac123940"
   },
   "outputs": [],
   "source": [
    "area_num = '32'\n",
    "color = list(np.random.choice(range(1,257), size=3)/256)\n",
    "time_bars(data_ts, area_num, color)"
   ]
  },
  {
   "cell_type": "markdown",
   "id": "2f09e617-1180-4bd8-ba92-4757d5740bde",
   "metadata": {
    "id": "2f09e617-1180-4bd8-ba92-4757d5740bde"
   },
   "source": [
    "#### Анализ ряда на стационарность"
   ]
  },
  {
   "cell_type": "code",
   "execution_count": null,
   "id": "bf65ccec-5846-4173-8a69-50757a59cac0",
   "metadata": {
    "id": "bf65ccec-5846-4173-8a69-50757a59cac0"
   },
   "outputs": [],
   "source": [
    "stationarity_plot(data_ts, area_num)"
   ]
  },
  {
   "cell_type": "markdown",
   "id": "d38595cf-576e-492e-9576-da8b2b37d74b",
   "metadata": {
    "id": "d38595cf-576e-492e-9576-da8b2b37d74b"
   },
   "source": [
    "#### Тест Дики - Фуллера на стационарность"
   ]
  },
  {
   "cell_type": "code",
   "execution_count": null,
   "id": "08dcf0b5-4a85-450e-a265-eae04baecf2f",
   "metadata": {
    "id": "08dcf0b5-4a85-450e-a265-eae04baecf2f"
   },
   "outputs": [],
   "source": [
    "result = adfuller(data_ts[area_num])\n",
    "\n",
    "print('P-значение: %f' % result[1])\n",
    "\n",
    "alpha_1 = 0.05\n",
    "alpha_2 = 0.01\n",
    "a1 = 'При уровне значимости ' + str(alpha_1)\n",
    "a2 = 'При уровне значимости ' + str(alpha_2)\n",
    "\n",
    "if (result[1] < alpha_1):\n",
    "    print (f'{a1}: Нулевая гипотеза отвергнута – Временной ряд стационарен')\n",
    "else:\n",
    "    print (f'{a1}: Нулевая гипотеза не отвергнута – Временной ряд не стационарен')\n",
    "\n",
    "if (result[1] < alpha_2):\n",
    "    print (f'{a2}: Нулевая гипотеза отвергнута – Временной ряд стационарен')\n",
    "else:\n",
    "    print (f'{a2}: Нулевая гипотеза не отвергнута – Временной ряд не стационарен')\n",
    "\n"
   ]
  },
  {
   "cell_type": "markdown",
   "id": "72e0d935-91d3-4e22-bcf3-20633770b31d",
   "metadata": {
    "id": "72e0d935-91d3-4e22-bcf3-20633770b31d"
   },
   "source": [
    "Вывод Р32:\n",
    "1) Обнаружена сезонность по часам в течение дня. С 23 до 7 утра услушами такси практически не пользуются. Самое активное время с 16 до 19.\n",
    "2) Обнаружена созонность по дням недели. В субботу и воскресенье менше всего заказов.\n",
    "4) В январе и феврале меньше всего заказов.\n",
    "5) Временной ряд стационарный."
   ]
  },
  {
   "cell_type": "markdown",
   "id": "e7e4340a-e644-4482-8307-12272a59b580",
   "metadata": {
    "id": "e7e4340a-e644-4482-8307-12272a59b580"
   },
   "source": [
    "### Анализ района №33"
   ]
  },
  {
   "cell_type": "markdown",
   "id": "189e4d11-9246-475a-83fe-0474f033dcb7",
   "metadata": {
    "id": "189e4d11-9246-475a-83fe-0474f033dcb7"
   },
   "source": [
    "#### Изменение среднего значения для разных временных признаков"
   ]
  },
  {
   "cell_type": "code",
   "execution_count": null,
   "id": "c61418c0-4d80-45e0-b64c-c4209234d0f8",
   "metadata": {
    "id": "c61418c0-4d80-45e0-b64c-c4209234d0f8"
   },
   "outputs": [],
   "source": [
    "area_num = '33'\n",
    "color = list(np.random.choice(range(1,257), size=3)/256)\n",
    "time_bars(data_ts, area_num, color)"
   ]
  },
  {
   "cell_type": "markdown",
   "id": "871dc53f-ecde-49e3-adf5-7234de5a1e5a",
   "metadata": {
    "id": "871dc53f-ecde-49e3-adf5-7234de5a1e5a"
   },
   "source": [
    "#### Анализ ряда на стационарность"
   ]
  },
  {
   "cell_type": "code",
   "execution_count": null,
   "id": "5922e1fe-2452-4688-9a35-f66e5d87abf7",
   "metadata": {
    "id": "5922e1fe-2452-4688-9a35-f66e5d87abf7"
   },
   "outputs": [],
   "source": [
    "stationarity_plot(data_ts, area_num)"
   ]
  },
  {
   "cell_type": "markdown",
   "id": "882890c8-1eeb-42f2-8a8f-105f2157ff09",
   "metadata": {
    "id": "882890c8-1eeb-42f2-8a8f-105f2157ff09"
   },
   "source": [
    "#### Тест Дики - Фуллера на стационарность"
   ]
  },
  {
   "cell_type": "code",
   "execution_count": null,
   "id": "afa39014-70ee-401b-825b-b2897bd984bf",
   "metadata": {
    "id": "afa39014-70ee-401b-825b-b2897bd984bf"
   },
   "outputs": [],
   "source": [
    "result = adfuller(data_ts[area_num])\n",
    "\n",
    "print('P-значение: %f' % result[1])\n",
    "\n",
    "alpha_1 = 0.05\n",
    "alpha_2 = 0.01\n",
    "a1 = 'При уровне значимости ' + str(alpha_1)\n",
    "a2 = 'При уровне значимости ' + str(alpha_2)\n",
    "\n",
    "if (result[1] < alpha_1):\n",
    "    print (f'{a1}: Нулевая гипотеза отвергнута – Временной ряд стационарен')\n",
    "else:\n",
    "    print (f'{a1}: Нулевая гипотеза не отвергнута – Временной ряд не стационарен')\n",
    "\n",
    "if (result[1] < alpha_2):\n",
    "    print (f'{a2}: Нулевая гипотеза отвергнута – Временной ряд стационарен')\n",
    "else:\n",
    "    print (f'{a2}: Нулевая гипотеза не отвергнута – Временной ряд не стационарен')\n",
    "\n"
   ]
  },
  {
   "cell_type": "markdown",
   "id": "41e6c19d-bab3-40d3-9e09-d0a7572a1fea",
   "metadata": {
    "id": "41e6c19d-bab3-40d3-9e09-d0a7572a1fea"
   },
   "source": [
    "Вывод Р33:\n",
    "1) Обнаружена сезонность по часам в течение дня. С 22 до 7 утра услушами такси практически не пользуются. Самое активное время с 13 до 19.\n",
    "2) Обнаружена созонность по дням недели. В воскресенье меньше всего заказов.\n",
    "4) С декабря по февраль и в августе меньше всего заказов.\n",
    "5) Временной ряд стационарный."
   ]
  },
  {
   "cell_type": "markdown",
   "id": "af5e5ebd-6564-4980-8df5-15472d551dd2",
   "metadata": {
    "id": "af5e5ebd-6564-4980-8df5-15472d551dd2"
   },
   "source": [
    "### Анализ района №56"
   ]
  },
  {
   "cell_type": "markdown",
   "id": "6ba7212b-7315-4ca1-980d-226435ed6b07",
   "metadata": {
    "id": "6ba7212b-7315-4ca1-980d-226435ed6b07"
   },
   "source": [
    "#### Изменение среднего значения для разных временных признаков"
   ]
  },
  {
   "cell_type": "code",
   "execution_count": null,
   "id": "409ac8cc-6734-4887-b3f4-f8a5ab29d9b5",
   "metadata": {
    "id": "409ac8cc-6734-4887-b3f4-f8a5ab29d9b5"
   },
   "outputs": [],
   "source": [
    "area_num = '56'\n",
    "color = list(np.random.choice(range(1,257), size=3)/256)\n",
    "time_bars(data_ts, area_num, color)"
   ]
  },
  {
   "cell_type": "markdown",
   "id": "ab07546f-fc02-4f3c-b3d9-82d72bfe9a0a",
   "metadata": {
    "id": "ab07546f-fc02-4f3c-b3d9-82d72bfe9a0a"
   },
   "source": [
    "#### Анализ ряда на стационарность"
   ]
  },
  {
   "cell_type": "code",
   "execution_count": null,
   "id": "d78be255-0752-4e17-b5d7-7eb1a7c8dd27",
   "metadata": {
    "id": "d78be255-0752-4e17-b5d7-7eb1a7c8dd27"
   },
   "outputs": [],
   "source": [
    "stationarity_plot(data_ts, area_num)"
   ]
  },
  {
   "cell_type": "markdown",
   "id": "9ffa71a4-cf92-4cd3-98b9-b3b4271f4ed2",
   "metadata": {
    "id": "9ffa71a4-cf92-4cd3-98b9-b3b4271f4ed2"
   },
   "source": [
    "#### Тест Дики - Фуллера на стационарность"
   ]
  },
  {
   "cell_type": "code",
   "execution_count": null,
   "id": "d1ffa56a-c59f-47d0-aab9-b52bd546d1ef",
   "metadata": {
    "id": "d1ffa56a-c59f-47d0-aab9-b52bd546d1ef"
   },
   "outputs": [],
   "source": [
    "result = adfuller(data_ts[area_num])\n",
    "\n",
    "print('P-значение: %f' % result[1])\n",
    "\n",
    "alpha_1 = 0.05\n",
    "alpha_2 = 0.01\n",
    "a1 = 'При уровне значимости ' + str(alpha_1)\n",
    "a2 = 'При уровне значимости ' + str(alpha_2)\n",
    "\n",
    "if (result[1] < alpha_1):\n",
    "    print (f'{a1}: Нулевая гипотеза отвергнута – Временной ряд стационарен')\n",
    "else:\n",
    "    print (f'{a1}: Нулевая гипотеза не отвергнута – Временной ряд не стационарен')\n",
    "\n",
    "if (result[1] < alpha_2):\n",
    "    print (f'{a2}: Нулевая гипотеза отвергнута – Временной ряд стационарен')\n",
    "else:\n",
    "    print (f'{a2}: Нулевая гипотеза не отвергнута – Временной ряд не стационарен')\n",
    "\n"
   ]
  },
  {
   "cell_type": "markdown",
   "id": "9cf289dd-794f-4e27-b21c-7d1e4294a39c",
   "metadata": {
    "id": "9cf289dd-794f-4e27-b21c-7d1e4294a39c"
   },
   "source": [
    "Вывод Р56:\n",
    "1) Обнаружена сезонность по часам в течение дня. С 3 до 7 утра услушами такси практически не пользуются. Самое активное время с 12 до 0.\n",
    "2) Обнаружена созонность по дням недели. В субботу меньше всего заказов.\n",
    "4) С декабря по февраль меньше всего заказов.\n",
    "5) Временной ряд стационарный."
   ]
  },
  {
   "cell_type": "markdown",
   "id": "ef441986-286f-4db6-8b09-aa987b3e6387",
   "metadata": {
    "id": "ef441986-286f-4db6-8b09-aa987b3e6387"
   },
   "source": [
    "### Анализ района №76\n"
   ]
  },
  {
   "cell_type": "markdown",
   "id": "7600af79-6c3d-4e30-977d-91f87b22a778",
   "metadata": {
    "id": "7600af79-6c3d-4e30-977d-91f87b22a778"
   },
   "source": [
    "#### Изменение среднего значения для разных временных признаков"
   ]
  },
  {
   "cell_type": "code",
   "execution_count": null,
   "id": "db8c7950-34d1-40b7-aee8-b25beaa0408b",
   "metadata": {
    "id": "db8c7950-34d1-40b7-aee8-b25beaa0408b"
   },
   "outputs": [],
   "source": [
    "area_num = '76'\n",
    "color = list(np.random.choice(range(1,257), size=3)/256)\n",
    "time_bars(data_ts, area_num, color)"
   ]
  },
  {
   "cell_type": "markdown",
   "id": "4e9fcac1-5441-4ad7-83e5-09b1c587fdd1",
   "metadata": {
    "id": "4e9fcac1-5441-4ad7-83e5-09b1c587fdd1"
   },
   "source": [
    "#### Анализ ряда на стационарность"
   ]
  },
  {
   "cell_type": "code",
   "execution_count": null,
   "id": "78dc34eb-919c-4861-9524-6f7744671c29",
   "metadata": {
    "id": "78dc34eb-919c-4861-9524-6f7744671c29"
   },
   "outputs": [],
   "source": [
    "stationarity_plot(data_ts, area_num)"
   ]
  },
  {
   "cell_type": "markdown",
   "id": "888192c7-eda6-4146-aac2-b2e03edbf0e7",
   "metadata": {
    "id": "888192c7-eda6-4146-aac2-b2e03edbf0e7"
   },
   "source": [
    "#### Тест Дики - Фуллера на стационарность"
   ]
  },
  {
   "cell_type": "code",
   "execution_count": null,
   "id": "b7504a06-cedb-4fc6-8180-219d63b8ae27",
   "metadata": {
    "id": "b7504a06-cedb-4fc6-8180-219d63b8ae27"
   },
   "outputs": [],
   "source": [
    "result = adfuller(data_ts[area_num])\n",
    "\n",
    "print('P-значение: %f' % result[1])\n",
    "\n",
    "alpha_1 = 0.05\n",
    "alpha_2 = 0.01\n",
    "a1 = 'При уровне значимости ' + str(alpha_1)\n",
    "a2 = 'При уровне значимости ' + str(alpha_2)\n",
    "\n",
    "if (result[1] < alpha_1):\n",
    "    print (f'{a1}: Нулевая гипотеза отвергнута – Временной ряд стационарен')\n",
    "else:\n",
    "    print (f'{a1}: Нулевая гипотеза не отвергнута – Временной ряд не стационарен')\n",
    "\n",
    "if (result[1] < alpha_2):\n",
    "    print (f'{a2}: Нулевая гипотеза отвергнута – Временной ряд стационарен')\n",
    "else:\n",
    "    print (f'{a2}: Нулевая гипотеза не отвергнута – Временной ряд не стационарен')\n",
    "\n"
   ]
  },
  {
   "cell_type": "markdown",
   "id": "3902e7cf-3d45-4326-b443-89ab7a842f03",
   "metadata": {
    "id": "3902e7cf-3d45-4326-b443-89ab7a842f03"
   },
   "source": [
    "Вывод Р76:\n",
    "1) Обнаружена сезонность по часам в течение дня. С 2 до 8 утра услушами такси практически не пользуются. Самое активное время с 19 до 21.\n",
    "2) Обнаружена созонность по дням недели. В субботу меньше всего заказов.\n",
    "3) С декабря по февраль меньше всего заказов.\n",
    "4) Временной ряд стационарный."
   ]
  },
  {
   "cell_type": "markdown",
   "id": "4b4a094c-ba11-4ec3-816c-5d138d495c12",
   "metadata": {
    "id": "4b4a094c-ba11-4ec3-816c-5d138d495c12"
   },
   "source": [
    "### Анализ района №77\n"
   ]
  },
  {
   "cell_type": "markdown",
   "id": "6f6a7fe6-657a-4622-99dc-d4a7950667d2",
   "metadata": {
    "id": "6f6a7fe6-657a-4622-99dc-d4a7950667d2"
   },
   "source": [
    "#### Изменение среднего значения для разных временных признаков"
   ]
  },
  {
   "cell_type": "code",
   "execution_count": null,
   "id": "53a0465c-8f32-4976-8d18-a843ced6df19",
   "metadata": {
    "id": "53a0465c-8f32-4976-8d18-a843ced6df19"
   },
   "outputs": [],
   "source": [
    "area_num = '77'\n",
    "color = list(np.random.choice(range(1,257), size=3)/256)\n",
    "time_bars(data_ts, area_num, color)"
   ]
  },
  {
   "cell_type": "markdown",
   "id": "7d76229e-ccb6-449e-a6a6-b3728d190964",
   "metadata": {
    "id": "7d76229e-ccb6-449e-a6a6-b3728d190964"
   },
   "source": [
    "#### Анализ ряда на стационарность"
   ]
  },
  {
   "cell_type": "code",
   "execution_count": null,
   "id": "51417404-5b99-4de4-8045-dc922424bd7c",
   "metadata": {
    "id": "51417404-5b99-4de4-8045-dc922424bd7c"
   },
   "outputs": [],
   "source": [
    "stationarity_plot(data_ts, area_num)"
   ]
  },
  {
   "cell_type": "markdown",
   "id": "4ada8e73-8b27-4bfb-a9b4-7acea99d1b60",
   "metadata": {
    "id": "4ada8e73-8b27-4bfb-a9b4-7acea99d1b60"
   },
   "source": [
    "#### Тест Дики - Фуллера на стационарность"
   ]
  },
  {
   "cell_type": "code",
   "execution_count": null,
   "id": "c2cee2d4-9c93-4ac5-a7b1-85a77d9b470c",
   "metadata": {
    "id": "c2cee2d4-9c93-4ac5-a7b1-85a77d9b470c",
    "outputId": "b6cd56cf-2949-4fa8-b21f-b0915b0dde6c"
   },
   "outputs": [],
   "source": [
    "result = adfuller(data_ts[area_num])\n",
    "\n",
    "print('P-значение: %f' % result[1])\n",
    "\n",
    "alpha_1 = 0.05\n",
    "alpha_2 = 0.01\n",
    "a1 = 'При уровне значимости ' + str(alpha_1)\n",
    "a2 = 'При уровне значимости ' + str(alpha_2)\n",
    "\n",
    "if (result[1] < alpha_1):\n",
    "    print (f'{a1}: Нулевая гипотеза отвергнута – Временной ряд стационарен')\n",
    "else:\n",
    "    print (f'{a1}: Нулевая гипотеза не отвергнута – Временной ряд не стационарен')\n",
    "\n",
    "if (result[1] < alpha_2):\n",
    "    print (f'{a2}: Нулевая гипотеза отвергнута – Временной ряд стационарен')\n",
    "else:\n",
    "    print (f'{a2}: Нулевая гипотеза не отвергнута – Временной ряд не стационарен')\n",
    "\n"
   ]
  },
  {
   "cell_type": "markdown",
   "id": "8c496219-8f38-4f95-9563-746a1791e980",
   "metadata": {
    "id": "8c496219-8f38-4f95-9563-746a1791e980"
   },
   "source": [
    "Вывод Р77:\n",
    "1) Обнаружена сезонность по часам в течение дня. С 0 до 6 утра услушами такси практически не пользуются. Самое активное время с 8 до 16.\n",
    "2) Обнаружена созонность по дням недели. В воскресенье меньше всего заказов.\n",
    "3) Временной ряд стационарный."
   ]
  },
  {
   "cell_type": "markdown",
   "id": "cfc6b91f-393e-40c9-a396-f7e315264e91",
   "metadata": {
    "id": "cfc6b91f-393e-40c9-a396-f7e315264e91"
   },
   "source": [
    "<b>Изучив 10 самых востребованных в такси районов можно сказать, что каждый из них имеет суточную сезонность и достаточно сильно отличаются. Для каждого района стоит выбирать отдельную модель машинного обучения. <br>Тем не менее у каждого района количество заказов довольно стабильное с течением времени, что подтверждают результаты теста Дики Фкллера.</b>"
   ]
  },
  {
   "cell_type": "markdown",
   "id": "62d1e2ea-88e6-4af3-9c5e-6fa2a76ad707",
   "metadata": {
    "id": "62d1e2ea-88e6-4af3-9c5e-6fa2a76ad707"
   },
   "source": [
    "## Обучение и тестирование моделей машинного обучения."
   ]
  },
  {
   "cell_type": "markdown",
   "id": "d954e947-4802-4dc9-b7a5-054f1281d6e8",
   "metadata": {
    "id": "d954e947-4802-4dc9-b7a5-054f1281d6e8"
   },
   "source": [
    "Для оценки моделей машинного обучения будем использовать метрики MAE и MDAPE (аналог MAPE). Основной будет - MAE."
   ]
  },
  {
   "cell_type": "markdown",
   "id": "82308a5c-b149-4ef8-a6d8-1d25a788b666",
   "metadata": {
    "id": "82308a5c-b149-4ef8-a6d8-1d25a788b666"
   },
   "source": [
    "Перезагрузим спарк, чтобы освободить память после анализа данных и загрузим данные по новой."
   ]
  },
  {
   "cell_type": "code",
   "execution_count": null,
   "id": "41e9286e-b70e-4f42-9386-ab93b0953586",
   "metadata": {
    "id": "41e9286e-b70e-4f42-9386-ab93b0953586"
   },
   "outputs": [],
   "source": [
    "spark.stop()"
   ]
  },
  {
   "cell_type": "code",
   "execution_count": null,
   "id": "59820e1c-bbd9-46e6-a9f5-8e54172447fc",
   "metadata": {
    "id": "59820e1c-bbd9-46e6-a9f5-8e54172447fc"
   },
   "outputs": [],
   "source": [
    "\n",
    "SPARK_MASTER_IP = '172.19.0.2'\n",
    "spark = (SparkSession.builder.appName(\"pyspark-taxi-forecasting\")\n",
    "                     .master(f\"spark://{SPARK_MASTER_IP}:7077\")\n",
    "                     .config(\"spark.executor.cores\", 1)\n",
    "                     .config(\"spark.task.cpus\", 1)\n",
    "                   # .config(\"spark.jars.packages\", \"ai.catboost:catboost-spark_3.4_2.12:2.12\")\n",
    "                     .getOrCreate())"
   ]
  },
  {
   "cell_type": "code",
   "execution_count": null,
   "id": "1f1ffab4-2aaa-40e1-84ef-b7579384b0a4",
   "metadata": {
    "id": "1f1ffab4-2aaa-40e1-84ef-b7579384b0a4"
   },
   "outputs": [],
   "source": [
    "schema = StructType([\n",
    "    StructField(\"Trip ID\", StringType(), nullable=True),\n",
    "    StructField(\"Taxi ID\", StringType(), nullable=True),\n",
    "    StructField(\"Trip Start Timestamp\", StringType(), nullable=True),\n",
    "    StructField(\"Trip End Timestamp\", StringType(), nullable=True),\n",
    "    StructField(\"Trip Seconds\", IntegerType(), nullable=True),\n",
    "    StructField(\"Trip Miles\", FloatType(), nullable=True),\n",
    "    StructField(\"Pickup Census Tract\", StringType(), nullable=True),\n",
    "    StructField(\"Dropoff Census Tract\", StringType(), nullable=True),\n",
    "    StructField(\"Pickup Community Area\", ShortType(), nullable=True),\n",
    "    StructField(\"Dropoff Community Area\", ShortType(), nullable=True),\n",
    "    StructField(\"Fare\", FloatType(), nullable=True),\n",
    "    StructField(\"Tips\", FloatType(), nullable=True),\n",
    "    StructField(\"Tolls\", FloatType(), nullable=True),\n",
    "    StructField(\"Extras\", FloatType(), nullable=True),\n",
    "    StructField(\"Trip Total\", FloatType(), nullable=True),\n",
    "    StructField(\"Payment Type\", StringType(), nullable=True),\n",
    "    StructField(\"Company\", StringType(), nullable=True),\n",
    "    StructField(\"Pickup Centroid Latitude\", DoubleType(), nullable=True),\n",
    "    StructField(\"Pickup Centroid Longitude\", DoubleType(), nullable=True),\n",
    "    StructField(\"Pickup Centroid Location\", StringType(), nullable=True),\n",
    "    StructField(\"Dropoff Centroid Latitude\", DoubleType(), nullable=True),\n",
    "    StructField(\"Dropoff Centroid Longitude\", DoubleType(), nullable=True),\n",
    "    StructField(\"Dropoff Centroid  Location\", StringType(), nullable=True)]\n",
    ")"
   ]
  },
  {
   "cell_type": "markdown",
   "id": "e6c26783-a8be-43e0-bc63-a9405c67e377",
   "metadata": {
    "id": "e6c26783-a8be-43e0-bc63-a9405c67e377"
   },
   "source": [
    "Выберем последние 100 дней и на них будем обучать тестовые модели по всему Чикаго."
   ]
  },
  {
   "cell_type": "code",
   "execution_count": null,
   "id": "7101f804-62a0-496b-966d-3b78adf8133d",
   "metadata": {
    "id": "7101f804-62a0-496b-966d-3b78adf8133d",
    "outputId": "bb369526-9dad-4745-bf30-f94502ceaeeb"
   },
   "outputs": [
    {
     "name": "stdout",
     "output_type": "stream",
     "text": [
      "+--------------------+------+-----+---+---------+----+\n",
      "|Trip Start Timestamp|orders|month|day|dayofweek|hour|\n",
      "+--------------------+------+-----+---+---------+----+\n",
      "| 2023-05-24 01:00:00|   151|    5| 24|        4|   1|\n",
      "| 2023-05-24 02:00:00|    73|    5| 24|        4|   2|\n",
      "| 2023-05-24 03:00:00|    77|    5| 24|        4|   3|\n",
      "| 2023-05-24 04:00:00|   130|    5| 24|        4|   4|\n",
      "| 2023-05-24 05:00:00|   260|    5| 24|        4|   5|\n",
      "+--------------------+------+-----+---+---------+----+\n",
      "only showing top 5 rows\n",
      "\n",
      "\n",
      "=== Время выполнения: 0 seconds ===\n"
     ]
    }
   ],
   "source": [
    "start_time = time.time()\n",
    "\n",
    "df_ts = (spark.read.load('data/Taxi_Trips_-_2023.csv', format='csv', header='true', inferSchema='true', schema=schema)\n",
    "              .withColumn('Trip Start Timestamp', (f.date_trunc('hour', to_timestamp(col('Trip Start Timestamp'), 'MM/dd/yyyy hh:mm:ss a'))))\n",
    "              .withColumn('Trip End Timestamp', (f.date_trunc('hour', to_timestamp(col('Trip Start Timestamp'), 'MM/dd/yyyy hh:mm:ss a'))))\n",
    "              .fillna(value=0, subset=['Pickup Community Area', 'Dropoff Community Area'])\\\n",
    "              .groupby('Trip Start Timestamp')\n",
    "              .agg(count('Trip ID').alias('orders'))\n",
    "              .orderBy(desc('Trip Start Timestamp')).limit(2400).orderBy(col('Trip Start Timestamp'))\n",
    "              .fillna(value=0)\n",
    "              .withColumn('month', month('Trip Start Timestamp'))\n",
    "              .withColumn('day', dayofmonth('Trip Start Timestamp'))\n",
    "              .withColumn('dayofweek', dayofweek('Trip Start Timestamp'))\n",
    "              .withColumn('hour', hour('Trip Start Timestamp'))\n",
    "        )\n",
    "\n",
    "df_ts.cache()\n",
    "df_ts.show(5)\n",
    "print(f'\\n=== Время выполнения: {int(time.time() - start_time)} seconds ===')"
   ]
  },
  {
   "cell_type": "markdown",
   "id": "65e4718a-36b7-4ad3-af45-26eff0c7a8b3",
   "metadata": {
    "id": "65e4718a-36b7-4ad3-af45-26eff0c7a8b3"
   },
   "source": [
    "### Обучение моделей на базовых временных признаках для Чикаго"
   ]
  },
  {
   "cell_type": "markdown",
   "id": "1f0e618d-f894-40f8-9371-af9dfb51c2c8",
   "metadata": {
    "id": "1f0e618d-f894-40f8-9371-af9dfb51c2c8"
   },
   "source": [
    "#### Модель линейной регрессии с выделенными временными признаками для всего Чикаго."
   ]
  },
  {
   "cell_type": "markdown",
   "id": "288b6e24-d8bd-49c0-8179-2ac76f69c278",
   "metadata": {
    "id": "288b6e24-d8bd-49c0-8179-2ac76f69c278"
   },
   "source": [
    "Выделим 80% под тренировочную выборку и 20 под валидационную."
   ]
  },
  {
   "cell_type": "code",
   "execution_count": null,
   "id": "78afe7d6-8b01-4f68-a8bd-cfc6b05a8c66",
   "metadata": {
    "id": "78afe7d6-8b01-4f68-a8bd-cfc6b05a8c66"
   },
   "outputs": [],
   "source": [
    "data_train, data_test = ts_split(df_ts, .8)"
   ]
  },
  {
   "cell_type": "markdown",
   "id": "568140b3-a2fe-47df-baf0-66c0980cba2b",
   "metadata": {
    "id": "568140b3-a2fe-47df-baf0-66c0980cba2b"
   },
   "source": [
    "Подготовим Pipeline для линейной регрессии."
   ]
  },
  {
   "cell_type": "code",
   "execution_count": null,
   "id": "c6a44098-1927-4ecf-8194-65e67280ff67",
   "metadata": {
    "id": "c6a44098-1927-4ecf-8194-65e67280ff67"
   },
   "outputs": [],
   "source": [
    "lr = LinearRegression(featuresCol='features',\n",
    "                      labelCol='orders',\n",
    "                      predictionCol='pred_orders',\n",
    "            )\n",
    "pipeline_lr_cat = make_pipe(lr)"
   ]
  },
  {
   "cell_type": "markdown",
   "id": "0edc0f6e-7059-446c-84da-276888e63ccb",
   "metadata": {
    "id": "0edc0f6e-7059-446c-84da-276888e63ccb"
   },
   "source": [
    "Обучим линейную модель предсказания количества всех заказов в Чикаго и оценим качество модели."
   ]
  },
  {
   "cell_type": "code",
   "execution_count": null,
   "id": "b47bb92a-753e-446f-95a8-d4131833e94f",
   "metadata": {
    "id": "b47bb92a-753e-446f-95a8-d4131833e94f",
    "outputId": "e0ec3c7e-4e08-40ac-9da9-2fcf838570b8"
   },
   "outputs": [
    {
     "name": "stdout",
     "output_type": "stream",
     "text": [
      "Для линейной модели (Чикаго) метрики (MAE, MDAPE):\n",
      "(120.47, 0.165)\n",
      "\n",
      "=== Время выполнения: 3 seconds ===\n"
     ]
    }
   ],
   "source": [
    "start_time = time.time()\n",
    "\n",
    "model_lr = pipeline_lr_cat.fit(data_train)\n",
    "predictions = model_lr.transform(data_test)\n",
    "print(f'Для линейной модели (Чикаго) метрики (MAE, MDAPE):\\n{mae_mdape(predictions)}')\n",
    "print(f'\\n=== Время выполнения: {int(time.time() - start_time)} seconds ===')"
   ]
  },
  {
   "cell_type": "markdown",
   "id": "d5ae0e7f-c7cf-4859-b6b8-ed77d3d12831",
   "metadata": {
    "id": "d5ae0e7f-c7cf-4859-b6b8-ed77d3d12831"
   },
   "source": [
    "#### Модель градиентного бустинга GBT Regressor"
   ]
  },
  {
   "cell_type": "code",
   "execution_count": null,
   "id": "df8a6af2-1eca-4a59-88de-068330b98339",
   "metadata": {
    "id": "df8a6af2-1eca-4a59-88de-068330b98339",
    "outputId": "d91e3cf8-2fea-405e-95ae-982f24f1c993"
   },
   "outputs": [
    {
     "name": "stdout",
     "output_type": "stream",
     "text": [
      "Для модели градиентного бустинга (Чикаго) метрики (MAE, MDAPE):\n",
      "(98.96, 0.132)\n",
      "\n",
      "=== Время выполнения: 12 seconds ===\n"
     ]
    }
   ],
   "source": [
    "start_time = time.time()\n",
    "\n",
    "gbtr = GBTRegressor(featuresCol='features',\n",
    "                           labelCol='orders',\n",
    "                           predictionCol='pred_orders')\n",
    "pipeline_gbtr_cat = make_pipe(gbtr)\n",
    "model_gbtr = pipeline_gbtr_cat.fit(data_train)\n",
    "predictions = model_gbtr.transform(data_test)\n",
    "print(f'Для модели градиентного бустинга (Чикаго) метрики (MAE, MDAPE):\\n{mae_mdape(predictions)}')\n",
    "\n",
    "print(f'\\n=== Время выполнения: {int(time.time() - start_time)} seconds ===')"
   ]
  },
  {
   "cell_type": "markdown",
   "id": "9a7df6f7-6739-4804-89fa-64a7a494001e",
   "metadata": {
    "id": "9a7df6f7-6739-4804-89fa-64a7a494001e"
   },
   "source": [
    "С базовыми признаками модель градиентного бустинга показывает себя лучше по обеим метрикам."
   ]
  },
  {
   "cell_type": "markdown",
   "id": "d38b171f-2264-4cd2-b60c-8d7d1505d6ff",
   "metadata": {
    "id": "d38b171f-2264-4cd2-b60c-8d7d1505d6ff"
   },
   "source": [
    "### Обучение моделей с лагами и скользящим средним для Чикаго"
   ]
  },
  {
   "cell_type": "markdown",
   "id": "79b13ac6-10f8-4fb6-968d-de678562885a",
   "metadata": {
    "id": "79b13ac6-10f8-4fb6-968d-de678562885a"
   },
   "source": [
    "#### Модель линейной регрессии."
   ]
  },
  {
   "cell_type": "markdown",
   "id": "57ebc5fe-c7ce-4891-803d-fe1a203a7275",
   "metadata": {
    "id": "57ebc5fe-c7ce-4891-803d-fe1a203a7275"
   },
   "source": [
    "Добавим лаги и скользящее среднее."
   ]
  },
  {
   "cell_type": "code",
   "execution_count": null,
   "id": "c45c0e5b-e302-4b4d-8bcd-314f27c6f31a",
   "metadata": {
    "id": "c45c0e5b-e302-4b4d-8bcd-314f27c6f31a"
   },
   "outputs": [],
   "source": [
    "df_ts_lag, num_columns = lag_avg(df_ts)"
   ]
  },
  {
   "cell_type": "markdown",
   "id": "e87faca2-a7f8-4854-8c64-2831abab4442",
   "metadata": {
    "id": "e87faca2-a7f8-4854-8c64-2831abab4442"
   },
   "source": [
    "Выделим 80% под тренировочную выборку и 20 под валидационную."
   ]
  },
  {
   "cell_type": "code",
   "execution_count": null,
   "id": "9b986b91-71b0-4e84-a4ba-3e9be1f6b8c4",
   "metadata": {
    "id": "9b986b91-71b0-4e84-a4ba-3e9be1f6b8c4"
   },
   "outputs": [],
   "source": [
    "data_train, data_test = ts_split(df_ts_lag, .8)"
   ]
  },
  {
   "cell_type": "code",
   "execution_count": null,
   "id": "c82380ed-93ac-4c88-a13b-f552e2639fa9",
   "metadata": {
    "id": "c82380ed-93ac-4c88-a13b-f552e2639fa9",
    "outputId": "a7a7cc1a-cf84-470e-bf0a-f3352665d764"
   },
   "outputs": [
    {
     "name": "stdout",
     "output_type": "stream",
     "text": [
      "Для линейной модели c лагами и скользящим средним (Чикаго) метрики (MAE, MDAPE):\n",
      "(56.48, 0.072)\n",
      "\n",
      "=== Время выполнения: 2 seconds ===\n"
     ]
    }
   ],
   "source": [
    "start_time = time.time()\n",
    "\n",
    "pipeline_lag_lr = make_pipe(lr, num_cols=num_columns)\n",
    "model_lr = pipeline_lag_lr.fit(data_train)\n",
    "predictions = (model_lr.transform(data_test))\n",
    "print(f'Для линейной модели c лагами и скользящим средним (Чикаго) метрики (MAE, MDAPE):\\n{mae_mdape(predictions)}')\n",
    "\n",
    "print(f'\\n=== Время выполнения: {int(time.time() - start_time)} seconds ===')"
   ]
  },
  {
   "cell_type": "markdown",
   "id": "d571ce1a-227f-400a-937a-f86444132605",
   "metadata": {
    "id": "d571ce1a-227f-400a-937a-f86444132605"
   },
   "source": [
    "#### Модель GBT Regression"
   ]
  },
  {
   "cell_type": "code",
   "execution_count": null,
   "id": "85bdbc44-0c95-43db-a3f0-90fa161fdc61",
   "metadata": {
    "id": "85bdbc44-0c95-43db-a3f0-90fa161fdc61",
    "outputId": "2d80e0c2-c9fe-4adc-d54e-a09a86ad609e"
   },
   "outputs": [
    {
     "name": "stdout",
     "output_type": "stream",
     "text": [
      "Для модели градиентного бустинга с лагами и скользящим средним (Чикаго) метрики (MAE, MDAPE):\n",
      "(58.55, 0.079)\n",
      "\n",
      "=== Время выполнения: 11 seconds ===\n"
     ]
    }
   ],
   "source": [
    "start_time = time.time()\n",
    "\n",
    "pipeline_lag_gbtr = make_pipe(gbtr, num_cols=num_columns)\n",
    "model_gbtr = pipeline_lag_gbtr.fit(data_train)\n",
    "predictions = (model_gbtr.transform(data_test))\n",
    "print(f'Для модели градиентного бустинга с лагами и скользящим средним (Чикаго) метрики (MAE, MDAPE):\\n{mae_mdape(predictions)}')\n",
    "\n",
    "print(f'\\n=== Время выполнения: {int(time.time() - start_time)} seconds ===')"
   ]
  },
  {
   "cell_type": "markdown",
   "id": "7539054c-396f-48e0-becb-edbd4a539cf4",
   "metadata": {
    "id": "7539054c-396f-48e0-becb-edbd4a539cf4"
   },
   "source": [
    "Модель линейной регрессии показала себя лучше с фиксированным количеством лагов и окном скользящего среднего."
   ]
  },
  {
   "cell_type": "markdown",
   "id": "a3e5c19f-c36f-4129-9f39-aaa364defdff",
   "metadata": {
    "id": "a3e5c19f-c36f-4129-9f39-aaa364defdff"
   },
   "source": [
    "#### Подбор количества лагов и окно скользящего среднего"
   ]
  },
  {
   "cell_type": "markdown",
   "id": "379dfdb5-3e2e-4848-ba09-ad1639189990",
   "metadata": {
    "id": "379dfdb5-3e2e-4848-ba09-ad1639189990"
   },
   "source": [
    "Улучшим показатели моделей за счёт подбора оптимального количества лагов и окна скользящего среднего."
   ]
  },
  {
   "cell_type": "code",
   "execution_count": null,
   "id": "782474c7-8d05-4578-8897-ddad0f34369c",
   "metadata": {
    "id": "782474c7-8d05-4578-8897-ddad0f34369c",
    "outputId": "fb4cc5c0-6c6e-480f-ace7-c26fd77265f1"
   },
   "outputs": [
    {
     "name": "stdout",
     "output_type": "stream",
     "text": [
      "Lags - 5  Roll - 3\n",
      "Линейная регрессия (MAE, MDAPE): (56.37, 0.074)\n",
      "GBTR (MAE, MDAPE): (58.47, 0.081)\n",
      "\n",
      "Lags - 5  Roll - 5\n",
      "Линейная регрессия (MAE, MDAPE): (56.38, 0.074)\n",
      "GBTR (MAE, MDAPE): (58.56, 0.079)\n",
      "\n",
      "Lags - 5  Roll - 7\n",
      "Линейная регрессия (MAE, MDAPE): (56.56, 0.076)\n",
      "GBTR (MAE, MDAPE): (58.75, 0.074)\n",
      "\n",
      "Lags - 5  Roll - 9\n",
      "Линейная регрессия (MAE, MDAPE): (56.63, 0.073)\n",
      "GBTR (MAE, MDAPE): (55.71, 0.078)\n",
      "\n",
      "Lags - 7  Roll - 3\n",
      "Линейная регрессия (MAE, MDAPE): (56.54, 0.075)\n",
      "GBTR (MAE, MDAPE): (58.05, 0.079)\n",
      "\n",
      "Lags - 7  Roll - 5\n",
      "Линейная регрессия (MAE, MDAPE): (56.54, 0.076)\n",
      "GBTR (MAE, MDAPE): (58.89, 0.083)\n",
      "\n",
      "Lags - 7  Roll - 7\n",
      "Линейная регрессия (MAE, MDAPE): (56.53, 0.076)\n",
      "GBTR (MAE, MDAPE): (59.93, 0.081)\n",
      "\n",
      "Lags - 7  Roll - 9\n",
      "Линейная регрессия (MAE, MDAPE): (56.51, 0.074)\n",
      "GBTR (MAE, MDAPE): (57.38, 0.083)\n",
      "\n",
      "Lags - 9  Roll - 3\n",
      "Линейная регрессия (MAE, MDAPE): (56.45, 0.072)\n",
      "GBTR (MAE, MDAPE): (55.51, 0.07)\n",
      "\n",
      "Lags - 9  Roll - 5\n",
      "Линейная регрессия (MAE, MDAPE): (56.46, 0.073)\n",
      "GBTR (MAE, MDAPE): (56.86, 0.073)\n",
      "\n",
      "Lags - 9  Roll - 7\n",
      "Линейная регрессия (MAE, MDAPE): (56.46, 0.073)\n",
      "GBTR (MAE, MDAPE): (56.07, 0.072)\n",
      "\n",
      "Lags - 9  Roll - 9\n",
      "Линейная регрессия (MAE, MDAPE): (56.46, 0.072)\n",
      "GBTR (MAE, MDAPE): (56.37, 0.076)\n",
      "\n",
      "Lags - 11  Roll - 3\n",
      "Линейная регрессия (MAE, MDAPE): (56.25, 0.072)\n",
      "GBTR (MAE, MDAPE): (55.83, 0.072)\n",
      "\n",
      "Lags - 11  Roll - 5\n",
      "Линейная регрессия (MAE, MDAPE): (56.23, 0.072)\n",
      "GBTR (MAE, MDAPE): (56.4, 0.075)\n",
      "\n",
      "Lags - 11  Roll - 7\n",
      "Линейная регрессия (MAE, MDAPE): (56.24, 0.072)\n",
      "GBTR (MAE, MDAPE): (55.96, 0.074)\n",
      "\n",
      "Lags - 11  Roll - 9\n",
      "Линейная регрессия (MAE, MDAPE): (56.22, 0.072)\n",
      "GBTR (MAE, MDAPE): (55.69, 0.075)\n",
      "\n",
      "--- Время выполнения: 222 seconds ---\n"
     ]
    }
   ],
   "source": [
    "start_time = time.time()\n",
    "for i_ in [ 5, 7, 9, 11]:\n",
    "    for j_ in [3, 5, 7, 9]:\n",
    "        df_ts_lag, num_columns = lag_avg(df_ts, lags=i_, roll=j_)\n",
    "        data_train, data_test = ts_split(df_ts_lag, .8)\n",
    "\n",
    "        pipeline_lag_lr = make_pipe(lr, num_cols=num_columns)\n",
    "        pipeline_lag_gbtr = make_pipe(gbtr, num_cols=num_columns)\n",
    "        print('Lags -', i_, ' Roll -', j_)\n",
    "\n",
    "        model_lr = pipeline_lag_lr.fit(data_train)\n",
    "        predictions = (model_lr.transform(data_test))\n",
    "        print(f'Линейная регрессия (MAE, MDAPE): {mae_mdape(predictions)}')\n",
    "\n",
    "        model_gbtr = pipeline_lag_gbtr.fit(data_train)\n",
    "        predictions = model_gbtr.transform(data_test)\n",
    "        print(f'GBTR (MAE, MDAPE): {mae_mdape(predictions)}\\n')\n",
    "\n",
    "print(\"--- Время выполнения: %s seconds ---\" % int(time.time() - start_time))"
   ]
  },
  {
   "cell_type": "markdown",
   "id": "c75904b8-6a07-4f92-bedb-026d9b8a7f31",
   "metadata": {
    "id": "c75904b8-6a07-4f92-bedb-026d9b8a7f31"
   },
   "source": [
    "Самый лучший результат показала модель GBTR при 9 лагах и окне скользящего среднего - 3 (GBTR: 55.51, 0.07).<br>\n",
    "Модель линейной регрессии при таких значениях показала себя лучше, чем при первоначальных значениях лагов и окна среднего."
   ]
  },
  {
   "cell_type": "markdown",
   "id": "bdb26674-1452-4ccc-97ca-90b98238ffe2",
   "metadata": {
    "id": "bdb26674-1452-4ccc-97ca-90b98238ffe2"
   },
   "source": [
    "#### Замена столбца 'hour' на синусоидку и косинусоиду с периодом 24 часа."
   ]
  },
  {
   "cell_type": "markdown",
   "id": "95a9145d-181e-4a14-8fac-1acfb3d550f4",
   "metadata": {
    "id": "95a9145d-181e-4a14-8fac-1acfb3d550f4"
   },
   "source": [
    "Данное преобравание возможно благодаря тому, что каждые сутки динамика изменения количества заказов повторяется."
   ]
  },
  {
   "cell_type": "code",
   "execution_count": null,
   "id": "8201e035-07c1-4ddb-b062-5d37d6a07e8f",
   "metadata": {
    "id": "8201e035-07c1-4ddb-b062-5d37d6a07e8f",
    "outputId": "7855b449-d820-4c29-ebae-58c03c04877a"
   },
   "outputs": [
    {
     "name": "stdout",
     "output_type": "stream",
     "text": [
      "Линейная регрессия (MAE, MDAPE): (63.81, 0.081)\n",
      "GBTR (MAE, MDAPE): (53.58, 0.072)\n",
      "\n",
      "=== Время выполнения: 13 seconds ===\n"
     ]
    }
   ],
   "source": [
    "start_time = time.time()\n",
    "\n",
    "df_ts_lag, num_columns = lag_avg(df_ts, lags=9, roll=3)\n",
    "df_ts_lag = df_ts_lag.withColumn('hour_cos', 2*np.pi*col('hour')/24)\\\n",
    "                     .withColumn('hour_sin', sin(col('hour_cos')))\\\n",
    "                     .withColumn('hour_cos', cos(col('hour_cos')))\n",
    "data_train, data_test = ts_split(df_ts_lag, .8)\n",
    "num_columns.extend(['hour_sin', 'hour_cos'])\n",
    "\n",
    "pipeline_lag_lr = make_pipe(lr,\n",
    "                            cat_cols=['month', 'day', 'dayofweek'],\n",
    "                            num_cols=num_columns)\n",
    "pipeline_lag_gbtr = make_pipe(gbtr,\n",
    "                              cat_cols=['month', 'day', 'dayofweek'],\n",
    "                              num_cols=num_columns)\n",
    "\n",
    "model_lr = pipeline_lag_lr.fit(data_train)\n",
    "predictions = (model_lr.transform(data_test))\n",
    "print(f'Линейная регрессия (MAE, MDAPE): {mae_mdape(predictions)}')\n",
    "\n",
    "model_gbtr = pipeline_lag_gbtr.fit(data_train)\n",
    "predictions = model_gbtr.transform(data_test)\n",
    "print(f'GBTR (MAE, MDAPE): {mae_mdape(predictions)}\\n')\n",
    "\n",
    "print(\"=== Время выполнения: %s seconds ===\" % int(time.time() - start_time))"
   ]
  },
  {
   "cell_type": "markdown",
   "id": "bfc0f515-5c90-4037-a6b4-3a91ffd5a60c",
   "metadata": {
    "id": "bfc0f515-5c90-4037-a6b4-3a91ffd5a60c"
   },
   "source": [
    "При данном преобразовании (GBTR) качество лучшей модели улучшилось, но метрики для линейной модели ухудшились. <br>Данное преобразование будем использовать только для градиентного бустинга."
   ]
  },
  {
   "cell_type": "markdown",
   "id": "c9040c89-5f06-4224-9370-a2b4b6eae55a",
   "metadata": {
    "id": "c9040c89-5f06-4224-9370-a2b4b6eae55a"
   },
   "source": [
    "#### Подбор гиперпараметров для модели градиентного бустинга"
   ]
  },
  {
   "cell_type": "code",
   "execution_count": null,
   "id": "c31b952c-d066-4cda-8d8e-35707bf108ad",
   "metadata": {
    "id": "c31b952c-d066-4cda-8d8e-35707bf108ad",
    "outputId": "d0f3d9f1-42d7-4f6f-ee64-3aa28a0222ca"
   },
   "outputs": [
    {
     "name": "stdout",
     "output_type": "stream",
     "text": [
      "Step 1: MAE - 92.87, MDAPE - 0.126\n",
      "=== Время обучения: 3 seconds ===\n",
      "Step 2: MAE - 83.63, MDAPE - 0.116\n",
      "=== Время обучения: 3 seconds ===\n",
      "Step 3: MAE - 60.94, MDAPE - 0.083\n",
      "=== Время обучения: 4 seconds ===\n",
      "Step 4: MAE - 58.93, MDAPE - 0.082\n",
      "=== Время обучения: 4 seconds ===\n",
      "Step 5: MAE - 55.88, MDAPE - 0.073\n",
      "=== Время обучения: 5 seconds ===\n",
      "Step 6: MAE - 52.99, MDAPE - 0.07\n",
      "=== Время обучения: 5 seconds ===\n",
      "Step 7: MAE - 83.5, MDAPE - 0.115\n",
      "=== Время обучения: 17 seconds ===\n",
      "Step 8: MAE - 53.6, MDAPE - 0.073\n",
      "=== Время обучения: 17 seconds ===\n",
      "Step 9: MAE - 58.14, MDAPE - 0.079\n",
      "=== Время обучения: 27 seconds ===\n",
      "Step 10: MAE - 50.91, MDAPE - 0.071\n",
      "=== Время обучения: 26 seconds ===\n",
      "Step 11: MAE - 52.59, MDAPE - 0.068\n",
      "=== Время обучения: 41 seconds ===\n",
      "Step 12: MAE - 49.91, MDAPE - 0.071\n",
      "=== Время обучения: 40 seconds ===\n",
      "Step 13: MAE - 71.44, MDAPE - 0.094\n",
      "=== Время обучения: 52 seconds ===\n",
      "Step 14: MAE - 47.49, MDAPE - 0.062\n",
      "=== Время обучения: 52 seconds ===\n",
      "Step 15: MAE - 54.81, MDAPE - 0.074\n",
      "=== Время обучения: 94 seconds ===\n",
      "Step 16: MAE - 50.53, MDAPE - 0.068\n",
      "=== Время обучения: 93 seconds ===\n",
      "Step 17: MAE - 50.81, MDAPE - 0.068\n",
      "=== Время обучения: 166 seconds ===\n",
      "Step 18: MAE - 50.87, MDAPE - 0.069\n",
      "=== Время обучения: 157 seconds ===\n",
      "Лучшая модель по Чикаго: MAE - 47.49, MDAPE - 0.062 (Max Depth: 3, Max Iter: 150, Step Size: 0.1)\n"
     ]
    }
   ],
   "source": [
    "best_mae=10000\n",
    "best_mdape = 1\n",
    "iterator=0\n",
    "for maxIter in [5,50,150]:\n",
    "    for maxDepth in [3,5,7]:\n",
    "        for stepSize in [0.01,0.1]:\n",
    "            start_time = time.time()\n",
    "            iterator+=1\n",
    "            df_ts_lag, num_columns = lag_avg(df_ts, lags=9, roll=3)\n",
    "            df_ts_lag = df_ts_lag.withColumn('hour_cos', 2*np.pi*col('hour')/24)\\\n",
    "                                 .withColumn('hour_sin', sin(col('hour_cos')))\\\n",
    "                                 .withColumn('hour_cos', cos(col('hour_cos')))\n",
    "            cat_cols=['month', 'day', 'dayofweek']\n",
    "\n",
    "            data_train, data_test = ts_split(df_ts_lag, .8)\n",
    "            num_columns.extend(['hour_sin', 'hour_cos'])\n",
    "\n",
    "            gbtr = GBTRegressor(featuresCol='features',\n",
    "                                labelCol='orders',\n",
    "                                predictionCol='pred_orders',\n",
    "                                maxIter=maxIter,\n",
    "                                maxDepth=maxDepth,\n",
    "                                stepSize=stepSize)\n",
    "            pipeline_lag_gbtr = make_pipe(gbtr, cat_cols=cat_cols, num_cols=num_columns)\n",
    "            model_gbtr = pipeline_lag_gbtr.fit(data_train)\n",
    "            predictions = (model_gbtr.transform(data_test))\n",
    "            result = mae_mdape(predictions)\n",
    "            print(f'Step {iterator}: MAE - {result[0]}, MDAPE - {result[1]}')\n",
    "            if result[0] < best_mae:\n",
    "                best_mae = result[0]\n",
    "                best_mdape = result[1]\n",
    "                bestm_txt = 'MAE - '+str(best_mae)+', MDAPE - '+str(best_mdape)\n",
    "                message = 'Max Depth: '+str(maxDepth)+', Max Iter: '+str(maxIter)+', Step Size: '+str(stepSize)\n",
    "            print(\"=== Время обучения: %s seconds ===\" % int(time.time() - start_time))\n",
    "print(f'Лучшая модель по Чикаго: {bestm_txt} ({message})')\n"
   ]
  },
  {
   "cell_type": "markdown",
   "id": "26986949-0b90-42c6-a806-27f3f7aed2e3",
   "metadata": {
    "id": "26986949-0b90-42c6-a806-27f3f7aed2e3"
   },
   "source": [
    "Лучшая модель по Чикаго: MAE - 47.49, MDAPE - 0.062 (Max Depth: 3, Max Iter: 150, Step Size: 0.1). <br>Подбор гиперпараметров позволил улучшить качество предсказаний."
   ]
  },
  {
   "cell_type": "markdown",
   "id": "6c0e4166-5d30-4142-92e6-ef1e10a1616b",
   "metadata": {
    "id": "6c0e4166-5d30-4142-92e6-ef1e10a1616b"
   },
   "source": [
    "### Обучение моделей предсказаний по районам"
   ]
  },
  {
   "cell_type": "code",
   "execution_count": null,
   "id": "1a282773-d0e1-4d71-9f35-92bc9af959a5",
   "metadata": {
    "id": "1a282773-d0e1-4d71-9f35-92bc9af959a5",
    "outputId": "ad211e06-7517-43a4-8a70-cfa53ac9ae94"
   },
   "outputs": [
    {
     "name": "stdout",
     "output_type": "stream",
     "text": [
      "=== Время выполнения: 27 seconds ===\n"
     ]
    }
   ],
   "source": [
    "start_time = time.time()\n",
    "# Загрузка и оБъединение фреймов, ресемпл по часу, группировка по времени и районам, сортировка, заполнение нулями\n",
    "df_ts_area_full = (spark.read.load('data/Taxi_Trips_-_2022.csv', format='csv', header='true', inferSchema='true', schema=schema)\n",
    "                   .union(spark.read.load('data/Taxi_Trips_-_2023.csv', format='csv', header='true', inferSchema='true', schema=schema))\n",
    "                   .withColumn('Trip Start Timestamp', (f.date_trunc('hour', to_timestamp(col('Trip Start Timestamp'), 'MM/dd/yyyy hh:mm:ss a'))))\n",
    "                   .withColumn('Trip End Timestamp', (f.date_trunc('hour', to_timestamp(col('Trip Start Timestamp'), 'MM/dd/yyyy hh:mm:ss a'))))\n",
    "                   .fillna(value=0, subset=['Pickup Community Area', 'Dropoff Community Area'])\n",
    "                   .groupby('Trip Start Timestamp')\n",
    "                   .pivot('Pickup Community Area')\n",
    "                   .agg(count('Trip ID'))\n",
    "                   .orderBy(desc('Trip Start Timestamp')).limit(2400)\n",
    "                   .orderBy(col('Trip Start Timestamp'))\n",
    "                   .fillna(value=0)\n",
    "                   .withColumn('month', month('Trip Start Timestamp'))\n",
    "                   .withColumn('day', dayofmonth('Trip Start Timestamp'))\n",
    "                   .withColumn('dayofweek', dayofweek('Trip Start Timestamp'))\n",
    "                   .withColumn('hour', hour('Trip Start Timestamp'))\n",
    "                   .withColumn('hour_cos', 2*np.pi*col('hour')/24)\n",
    "                   .withColumn('hour_sin', sin(col('hour_cos')))\n",
    "                   .withColumn('hour_cos', cos(col('hour_cos')))\n",
    ")\n",
    "\n",
    "df_ts_area_full.cache()\n",
    "print(\"=== Время выполнения: %s seconds ===\" % int(time.time() - start_time))"
   ]
  },
  {
   "cell_type": "raw",
   "id": "b02c2e36-078f-447e-826f-514b897e8b44",
   "metadata": {
    "id": "b02c2e36-078f-447e-826f-514b897e8b44"
   },
   "source": [
    "area='6'\n",
    "df_ts_area_full.select([area, \"Trip Start Timestamp\"]).join(df_price_area.select(['price_'+area, 'Trip Start Timestamp']), on=\"Trip Start Timestamp\", how='left').show(5)"
   ]
  },
  {
   "cell_type": "markdown",
   "id": "df68e7f7-fe36-40f1-9c6a-abc0bed1d661",
   "metadata": {
    "id": "df68e7f7-fe36-40f1-9c6a-abc0bed1d661"
   },
   "source": [
    "### Протестируем модели на 3 самых загруженных районах."
   ]
  },
  {
   "cell_type": "code",
   "execution_count": null,
   "id": "95e1ee5d-5479-4276-979c-ab6b18d1a88e",
   "metadata": {
    "id": "95e1ee5d-5479-4276-979c-ab6b18d1a88e"
   },
   "outputs": [],
   "source": [
    "if not 'top10_area' in globals():\n",
    "    top10_area = [8, 76, 32, 28, 33, 56, 6, 7, 3, 77]"
   ]
  },
  {
   "cell_type": "code",
   "execution_count": null,
   "id": "91e74c65-bb2a-46cb-bf64-cb047606e00b",
   "metadata": {
    "id": "91e74c65-bb2a-46cb-bf64-cb047606e00b",
    "outputId": "a2eb7b45-d426-4b18-c0e1-eaef70dbff0c"
   },
   "outputs": [
    {
     "name": "stdout",
     "output_type": "stream",
     "text": [
      "Для района №8:\n",
      "LR (MAE, MDAPE): (18.3, 0.105)\n",
      "GBTR MAE, MDAPE): (15.85, 0.096)\n",
      "--- Время обучения: 59 seconds ---\n",
      "Для района №76:\n",
      "LR (MAE, MDAPE): (21.72, 0.142)\n",
      "GBTR MAE, MDAPE): (20.22, 0.13)\n",
      "--- Время обучения: 60 seconds ---\n",
      "Для района №32:\n",
      "LR (MAE, MDAPE): (17.33, 0.157)\n",
      "GBTR MAE, MDAPE): (15.22, 0.142)\n",
      "--- Время обучения: 62 seconds ---\n"
     ]
    }
   ],
   "source": [
    "#перебор районов\n",
    "gbtr = GBTRegressor(featuresCol='features',\n",
    "                        labelCol='orders',\n",
    "                        predictionCol='pred_orders',\n",
    "                        maxIter=150,\n",
    "                        maxDepth=3,\n",
    "                        stepSize=0.1)\n",
    "\n",
    "for area in top10_area[:3]:\n",
    "    start_time = time.time()\n",
    "    cols = [\"Trip Start Timestamp\", str(area), 'month', 'day', 'dayofweek', 'hour', 'hour_sin', 'hour_cos']\n",
    "    df_ts_area = df_ts_area_full.select(cols).withColumn('orders', col(str(area)))\n",
    "    df_ts_area, num_columns = lag_avg(df_ts_area, lags=9, roll=3)\n",
    "    data_train, data_valid, data_test = ts_split(df_ts_area, .8, val=True)\n",
    "\n",
    "    print(f'Для района №{area}:')\n",
    "    pipeline_lag_lr = make_pipe(lr, num_cols=num_columns)\n",
    "    model_lr = pipeline_lag_lr.fit(data_train)\n",
    "    predictions = (model_lr.transform(data_valid))\n",
    "    print(f'LR (MAE, MDAPE): {mae_mdape(predictions)}')\n",
    "\n",
    "    num_columns.extend(['hour_sin', 'hour_cos'])\n",
    "    pipeline_lag_gbtr = make_pipe(gbtr,\n",
    "                              cat_cols=['month', 'day', 'dayofweek'],\n",
    "                              num_cols=num_columns)\n",
    "    model_gbtr = pipeline_lag_gbtr.fit(data_train)\n",
    "    predictions = (model_gbtr.transform(data_valid))\n",
    "    print(f'GBTR MAE, MDAPE): {mae_mdape(predictions)}')\n",
    "    print(f\"--- Время обучения: {int(time.time() - start_time)} seconds ---\" )\n",
    "\n"
   ]
  },
  {
   "cell_type": "markdown",
   "id": "240fae7f-b8f4-409b-b489-911f384c0386",
   "metadata": {
    "id": "240fae7f-b8f4-409b-b489-911f384c0386"
   },
   "source": [
    "### Создание моделей для всех районов"
   ]
  },
  {
   "cell_type": "markdown",
   "id": "c1f585cc-5682-4c77-91d2-8c003dc4b745",
   "metadata": {
    "id": "c1f585cc-5682-4c77-91d2-8c003dc4b745"
   },
   "source": [
    "Для обучения моделей используем данные за весь имеющийся период."
   ]
  },
  {
   "cell_type": "code",
   "execution_count": null,
   "id": "5e1554d9-970e-4948-b751-ee6a63a6f220",
   "metadata": {
    "id": "5e1554d9-970e-4948-b751-ee6a63a6f220",
    "outputId": "7e0366e9-0c82-41cc-94d3-4f7f7ff96190"
   },
   "outputs": [
    {
     "name": "stdout",
     "output_type": "stream",
     "text": [
      "=== Время выполнения: 9 seconds ===\n"
     ]
    }
   ],
   "source": [
    "start_time = time.time()\n",
    "\n",
    "df_ts_area_full = (spark.read.load('data/Taxi_Trips_-_2022.csv', format='csv', header='true', inferSchema='true', schema=schema)\n",
    "                   .union(spark.read.load('data/Taxi_Trips_-_2023.csv', format='csv', header='true', inferSchema='true', schema=schema))\n",
    "                   .withColumn('Trip Start Timestamp', (f.date_trunc('hour', to_timestamp(col('Trip Start Timestamp'), 'MM/dd/yyyy hh:mm:ss a'))))\n",
    "                   .withColumn('Trip End Timestamp', (f.date_trunc('hour', to_timestamp(col('Trip Start Timestamp'), 'MM/dd/yyyy hh:mm:ss a'))))\n",
    "                   .fillna(value=0, subset=['Pickup Community Area', 'Dropoff Community Area'])\n",
    "                   .groupby('Trip Start Timestamp')\n",
    "                   .pivot('Pickup Community Area')\n",
    "                   .agg(count('Trip ID'))\n",
    "                   .orderBy(col('Trip Start Timestamp'))\n",
    "                   .fillna(value=0)\n",
    "                   .withColumn('month', month('Trip Start Timestamp'))\n",
    "                   .withColumn('day', dayofmonth('Trip Start Timestamp'))\n",
    "                   .withColumn('dayofweek', dayofweek('Trip Start Timestamp'))\n",
    "                   .withColumn('hour', hour('Trip Start Timestamp'))\n",
    "                   .withColumn('hour_cos', 2*np.pi*col('hour')/24)\n",
    "                   .withColumn('hour_sin', sin(col('hour_cos')))\n",
    "                   .withColumn('hour_cos', cos(col('hour_cos')))\n",
    ")\n",
    "\n",
    "df_ts_area_full.cache()\n",
    "print(\"=== Время выполнения: %s seconds ===\" % int(time.time() - start_time))"
   ]
  },
  {
   "cell_type": "code",
   "execution_count": null,
   "id": "87aca265-b120-45ae-b25f-56065ef63d7e",
   "metadata": {
    "id": "87aca265-b120-45ae-b25f-56065ef63d7e",
    "outputId": "1f3084bf-f89d-4c9c-95cd-10c2fd092b01"
   },
   "outputs": [
    {
     "name": "stdout",
     "output_type": "stream",
     "text": [
      "Для района №1:\n",
      "LR (MAE, MDAPE): (1.56, 0.333)\n",
      "* GBTR (MAE, MDAPE): (1.52, 0.333)\n",
      "--- Время обучения: 75 seconds ---\n",
      "Для района №2:\n",
      "LR (MAE, MDAPE): (1.89, 0.333)\n",
      "* GBTR (MAE, MDAPE): (1.81, 0.25)\n",
      "--- Время обучения: 75 seconds ---\n",
      "Для района №3:\n",
      "LR (MAE, MDAPE): (2.99, 0.259)\n",
      "* GBTR (MAE, MDAPE): (2.86, 0.25)\n",
      "--- Время обучения: 75 seconds ---\n",
      "Для района №4:\n",
      "LR (MAE, MDAPE): (1.37, 0.375)\n",
      "* GBTR (MAE, MDAPE): (1.34, 0.333)\n",
      "--- Время обучения: 74 seconds ---\n",
      "Для района №5:\n",
      "LR (MAE, MDAPE): (1.17, 0.5)\n",
      "* GBTR (MAE, MDAPE): (1.14, 0.429)\n",
      "--- Время обучения: 74 seconds ---\n",
      "Для района №6:\n",
      "LR (MAE, MDAPE): (7.4, 0.242)\n",
      "* GBTR (MAE, MDAPE): (6.48, 0.2)\n",
      "--- Время обучения: 74 seconds ---\n",
      "Для района №7:\n",
      "LR (MAE, MDAPE): (4.77, 0.276)\n",
      "* GBTR (MAE, MDAPE): (4.23, 0.242)\n",
      "--- Время обучения: 75 seconds ---\n",
      "Для района №8:\n",
      "LR (MAE, MDAPE): (19.63, 0.112)\n",
      "* GBTR (MAE, MDAPE): (17.39, 0.099)\n",
      "--- Время обучения: 74 seconds ---\n",
      "Для района №9:\n",
      "LR (MAE, MDAPE): (0.17, 1.0)\n",
      "* GBTR (MAE, MDAPE): (0.17, 1.0)\n",
      "--- Время обучения: 75 seconds ---\n",
      "Для района №10:\n",
      "LR (MAE, MDAPE): (0.98, 0.5)\n",
      "* GBTR (MAE, MDAPE): (0.98, 0.5)\n",
      "--- Время обучения: 75 seconds ---\n",
      "Для района №11:\n",
      "LR (MAE, MDAPE): (0.78, 0.333)\n",
      "* GBTR (MAE, MDAPE): (0.78, 0.333)\n",
      "--- Время обучения: 74 seconds ---\n",
      "Для района №12:\n",
      "* LR (MAE, MDAPE): (0.65, 0.333)\n",
      "GBTR (MAE, MDAPE): (0.66, 0.417)\n",
      "--- Время обучения: 75 seconds ---\n",
      "Для района №13:\n",
      "LR (MAE, MDAPE): (0.72, 0.4)\n",
      "* GBTR (MAE, MDAPE): (0.72, 0.5)\n",
      "--- Время обучения: 75 seconds ---\n",
      "Для района №14:\n",
      "LR (MAE, MDAPE): (0.95, 0.5)\n",
      "* GBTR (MAE, MDAPE): (0.93, 0.5)\n",
      "--- Время обучения: 75 seconds ---\n",
      "Для района №15:\n",
      "LR (MAE, MDAPE): (0.9, 0.5)\n",
      "* GBTR (MAE, MDAPE): (0.87, 0.5)\n",
      "--- Время обучения: 75 seconds ---\n",
      "Для района №16:\n",
      "LR (MAE, MDAPE): (1.67, 0.458)\n",
      "* GBTR (MAE, MDAPE): (1.56, 0.375)\n",
      "--- Время обучения: 74 seconds ---\n",
      "Для района №17:\n",
      "LR (MAE, MDAPE): (0.28, 1.0)\n",
      "* GBTR (MAE, MDAPE): (0.28, 1.0)\n",
      "--- Время обучения: 74 seconds ---\n",
      "Для района №18:\n",
      "LR (MAE, MDAPE): (0.06, 1.0)\n",
      "* GBTR (MAE, MDAPE): (0.06, 1.0)\n",
      "--- Время обучения: 75 seconds ---\n",
      "Для района №19:\n",
      "LR (MAE, MDAPE): (0.5, 0.5)\n",
      "* GBTR (MAE, MDAPE): (0.5, 0.5)\n",
      "--- Время обучения: 75 seconds ---\n",
      "Для района №20:\n",
      "LR (MAE, MDAPE): (0.13, 1.0)\n",
      "* GBTR (MAE, MDAPE): (0.13, 1.0)\n",
      "--- Время обучения: 75 seconds ---\n",
      "Для района №21:\n",
      "LR (MAE, MDAPE): (1.0, 0.5)\n",
      "* GBTR (MAE, MDAPE): (0.99, 0.5)\n",
      "--- Время обучения: 75 seconds ---\n",
      "Для района №22:\n",
      "LR (MAE, MDAPE): (1.68, 0.4)\n",
      "* GBTR (MAE, MDAPE): (1.63, 0.375)\n",
      "--- Время обучения: 75 seconds ---\n",
      "Для района №23:\n",
      "LR (MAE, MDAPE): (0.51, 0.5)\n",
      "* GBTR (MAE, MDAPE): (0.5, 0.5)\n",
      "--- Время обучения: 75 seconds ---\n",
      "Для района №24:\n",
      "LR (MAE, MDAPE): (3.03, 0.333)\n",
      "* GBTR (MAE, MDAPE): (2.77, 0.308)\n",
      "--- Время обучения: 76 seconds ---\n",
      "Для района №25:\n",
      "LR (MAE, MDAPE): (0.91, 0.5)\n",
      "* GBTR (MAE, MDAPE): (0.89, 0.5)\n",
      "--- Время обучения: 74 seconds ---\n",
      "Для района №26:\n",
      "LR (MAE, MDAPE): (0.31, 1.0)\n",
      "* GBTR (MAE, MDAPE): (0.29, 1.0)\n",
      "--- Время обучения: 75 seconds ---\n",
      "Для района №27:\n",
      "* LR (MAE, MDAPE): (0.46, 0.5)\n",
      "GBTR (MAE, MDAPE): (0.48, 0.5)\n",
      "--- Время обучения: 75 seconds ---\n",
      "Для района №28:\n",
      "LR (MAE, MDAPE): (13.46, 0.196)\n",
      "* GBTR (MAE, MDAPE): (9.44, 0.145)\n",
      "--- Время обучения: 74 seconds ---\n",
      "Для района №29:\n",
      "LR (MAE, MDAPE): (0.49, 0.5)\n",
      "* GBTR (MAE, MDAPE): (0.49, 0.5)\n",
      "--- Время обучения: 75 seconds ---\n",
      "Для района №30:\n",
      "LR (MAE, MDAPE): (0.37, 0.5)\n",
      "* GBTR (MAE, MDAPE): (0.37, 0.667)\n",
      "--- Время обучения: 75 seconds ---\n",
      "Для района №31:\n",
      "LR (MAE, MDAPE): (0.81, 0.5)\n",
      "* GBTR (MAE, MDAPE): (0.79, 0.5)\n",
      "--- Время обучения: 75 seconds ---\n",
      "Для района №32:\n",
      "LR (MAE, MDAPE): (17.69, 0.15)\n",
      "* GBTR (MAE, MDAPE): (14.7, 0.122)\n",
      "--- Время обучения: 75 seconds ---\n",
      "Для района №33:\n",
      "LR (MAE, MDAPE): (7.09, 0.266)\n",
      "* GBTR (MAE, MDAPE): (6.59, 0.234)\n",
      "--- Время обучения: 75 seconds ---\n",
      "Для района №34:\n",
      "LR (MAE, MDAPE): (1.12, 0.5)\n",
      "* GBTR (MAE, MDAPE): (1.12, 0.5)\n",
      "--- Время обучения: 75 seconds ---\n",
      "Для района №35:\n",
      "LR (MAE, MDAPE): (1.51, 0.333)\n",
      "* GBTR (MAE, MDAPE): (1.45, 0.333)\n",
      "--- Время обучения: 74 seconds ---\n",
      "Для района №36:\n",
      "LR (MAE, MDAPE): (0.8, 0.5)\n",
      "* GBTR (MAE, MDAPE): (0.8, 0.5)\n",
      "--- Время обучения: 75 seconds ---\n",
      "Для района №37:\n",
      "* LR (MAE, MDAPE): (0.82, 0.5)\n",
      "GBTR (MAE, MDAPE): (0.83, 0.5)\n",
      "--- Время обучения: 75 seconds ---\n",
      "Для района №38:\n",
      "LR (MAE, MDAPE): (1.4, 0.333)\n",
      "* GBTR (MAE, MDAPE): (1.32, 0.333)\n",
      "--- Время обучения: 75 seconds ---\n",
      "Для района №39:\n",
      "LR (MAE, MDAPE): (1.29, 0.369)\n",
      "* GBTR (MAE, MDAPE): (1.23, 0.4)\n",
      "--- Время обучения: 75 seconds ---\n",
      "Для района №40:\n",
      "* LR (MAE, MDAPE): (0.59, 0.5)\n",
      "GBTR (MAE, MDAPE): (0.6, 0.5)\n",
      "--- Время обучения: 76 seconds ---\n",
      "Для района №41:\n",
      "LR (MAE, MDAPE): (1.84, 0.273)\n",
      "* GBTR (MAE, MDAPE): (1.73, 0.25)\n",
      "--- Время обучения: 75 seconds ---\n",
      "Для района №42:\n",
      "LR (MAE, MDAPE): (0.98, 0.429)\n",
      "* GBTR (MAE, MDAPE): (0.97, 0.4)\n",
      "--- Время обучения: 75 seconds ---\n",
      "Для района №43:\n",
      "LR (MAE, MDAPE): (1.47, 0.375)\n",
      "* GBTR (MAE, MDAPE): (1.41, 0.333)\n",
      "--- Время обучения: 75 seconds ---\n",
      "Для района №44:\n",
      "LR (MAE, MDAPE): (1.38, 0.4)\n",
      "* GBTR (MAE, MDAPE): (1.38, 0.364)\n",
      "--- Время обучения: 75 seconds ---\n",
      "Для района №45:\n",
      "LR (MAE, MDAPE): (0.46, 0.5)\n",
      "* GBTR (MAE, MDAPE): (0.46, 0.5)\n",
      "--- Время обучения: 74 seconds ---\n",
      "Для района №46:\n",
      "LR (MAE, MDAPE): (0.76, 0.5)\n",
      "* GBTR (MAE, MDAPE): (0.76, 0.5)\n",
      "--- Время обучения: 75 seconds ---\n",
      "Для района №47:\n",
      "LR (MAE, MDAPE): (0.22, 1.0)\n",
      "* GBTR (MAE, MDAPE): (0.21, 1.0)\n",
      "--- Время обучения: 75 seconds ---\n",
      "Для района №48:\n",
      "LR (MAE, MDAPE): (0.6, 0.5)\n",
      "* GBTR (MAE, MDAPE): (0.6, 0.5)\n",
      "--- Время обучения: 75 seconds ---\n",
      "Для района №49:\n",
      "* LR (MAE, MDAPE): (1.01, 0.5)\n",
      "GBTR (MAE, MDAPE): (1.02, 0.5)\n",
      "--- Время обучения: 75 seconds ---\n",
      "Для района №50:\n",
      "* LR (MAE, MDAPE): (0.68, 0.5)\n",
      "GBTR (MAE, MDAPE): (0.7, 0.5)\n",
      "--- Время обучения: 75 seconds ---\n",
      "Для района №51:\n",
      "* LR (MAE, MDAPE): (0.73, 0.5)\n",
      "GBTR (MAE, MDAPE): (0.74, 0.5)\n",
      "--- Время обучения: 74 seconds ---\n",
      "Для района №52:\n",
      "* LR (MAE, MDAPE): (0.39, 0.667)\n",
      "GBTR (MAE, MDAPE): (0.4, 0.667)\n",
      "--- Время обучения: 75 seconds ---\n",
      "Для района №53:\n",
      "LR (MAE, MDAPE): (0.91, 0.5)\n",
      "* GBTR (MAE, MDAPE): (0.91, 0.5)\n",
      "--- Время обучения: 75 seconds ---\n",
      "Для района №54:\n",
      "* LR (MAE, MDAPE): (0.52, 0.5)\n",
      "GBTR (MAE, MDAPE): (0.53, 0.5)\n",
      "--- Время обучения: 75 seconds ---\n",
      "Для района №55:\n",
      "LR (MAE, MDAPE): (0.44, 0.0)\n",
      "* GBTR (MAE, MDAPE): (0.44, 0.0)\n",
      "--- Время обучения: 74 seconds ---\n",
      "Для района №56:\n",
      "LR (MAE, MDAPE): (6.9, 0.224)\n",
      "* GBTR (MAE, MDAPE): (6.72, 0.222)\n",
      "--- Время обучения: 74 seconds ---\n",
      "Для района №57:\n",
      "* LR (MAE, MDAPE): (0.18, 1.0)\n",
      "GBTR (MAE, MDAPE): (0.19, 1.0)\n",
      "--- Время обучения: 75 seconds ---\n",
      "Для района №58:\n",
      "* LR (MAE, MDAPE): (0.33, 0.5)\n",
      "GBTR (MAE, MDAPE): (0.35, 0.5)\n",
      "--- Время обучения: 75 seconds ---\n",
      "Для района №59:\n",
      "LR (MAE, MDAPE): (1.28, 0.5)\n",
      "* GBTR (MAE, MDAPE): (0.95, 0.5)\n",
      "--- Время обучения: 75 seconds ---\n",
      "Для района №60:\n",
      "LR (MAE, MDAPE): (0.54, 0.5)\n",
      "* GBTR (MAE, MDAPE): (0.54, 0.5)\n",
      "--- Время обучения: 75 seconds ---\n",
      "Для района №61:\n",
      "LR (MAE, MDAPE): (0.55, 0.5)\n",
      "* GBTR (MAE, MDAPE): (0.55, 0.5)\n",
      "--- Время обучения: 74 seconds ---\n",
      "Для района №62:\n",
      "* LR (MAE, MDAPE): (0.15, 1.0)\n",
      "GBTR (MAE, MDAPE): (0.16, 1.0)\n",
      "--- Время обучения: 74 seconds ---\n",
      "Для района №63:\n",
      "LR (MAE, MDAPE): (0.14, 1.0)\n",
      "* GBTR (MAE, MDAPE): (0.14, 1.0)\n",
      "--- Время обучения: 74 seconds ---\n",
      "Для района №64:\n",
      "LR (MAE, MDAPE): (0.26, 1.0)\n",
      "* GBTR (MAE, MDAPE): (0.26, 1.0)\n",
      "--- Время обучения: 74 seconds ---\n",
      "Для района №65:\n",
      "* LR (MAE, MDAPE): (0.24, 1.0)\n",
      "GBTR (MAE, MDAPE): (0.27, 1.0)\n",
      "--- Время обучения: 74 seconds ---\n",
      "Для района №66:\n",
      "LR (MAE, MDAPE): (0.52, 0.5)\n",
      "* GBTR (MAE, MDAPE): (0.5, 0.5)\n",
      "--- Время обучения: 74 seconds ---\n",
      "Для района №67:\n",
      "LR (MAE, MDAPE): (0.53, 0.5)\n",
      "* GBTR (MAE, MDAPE): (0.53, 0.5)\n",
      "--- Время обучения: 74 seconds ---\n",
      "Для района №68:\n",
      "LR (MAE, MDAPE): (0.95, 0.5)\n",
      "* GBTR (MAE, MDAPE): (0.93, 0.5)\n",
      "--- Время обучения: 76 seconds ---\n",
      "Для района №69:\n",
      "LR (MAE, MDAPE): (1.28, 0.4)\n",
      "* GBTR (MAE, MDAPE): (1.28, 0.333)\n",
      "--- Время обучения: 75 seconds ---\n",
      "Для района №70:\n",
      "LR (MAE, MDAPE): (0.49, 0.5)\n",
      "* GBTR (MAE, MDAPE): (0.49, 0.5)\n",
      "--- Время обучения: 73 seconds ---\n",
      "Для района №71:\n",
      "LR (MAE, MDAPE): (0.76, 0.5)\n",
      "* GBTR (MAE, MDAPE): (0.76, 0.5)\n",
      "--- Время обучения: 75 seconds ---\n",
      "Для района №72:\n",
      "LR (MAE, MDAPE): (0.4, 0.5)\n",
      "* GBTR (MAE, MDAPE): (0.39, 0.5)\n",
      "--- Время обучения: 74 seconds ---\n",
      "Для района №73:\n",
      "* LR (MAE, MDAPE): (0.83, 0.5)\n",
      "GBTR (MAE, MDAPE): (0.84, 0.5)\n",
      "--- Время обучения: 75 seconds ---\n",
      "Для района №74:\n",
      "LR (MAE, MDAPE): (0.1, 1.0)\n",
      "* GBTR (MAE, MDAPE): (0.1, 1.0)\n",
      "--- Время обучения: 76 seconds ---\n",
      "Для района №75:\n",
      "* LR (MAE, MDAPE): (0.78, 0.5)\n",
      "GBTR (MAE, MDAPE): (0.79, 0.5)\n",
      "--- Время обучения: 76 seconds ---\n",
      "Для района №76:\n",
      "LR (MAE, MDAPE): (25.42, 0.146)\n",
      "* GBTR (MAE, MDAPE): (23.12, 0.128)\n",
      "--- Время обучения: 76 seconds ---\n",
      "Для района №77:\n",
      "LR (MAE, MDAPE): (2.41, 0.25)\n",
      "* GBTR (MAE, MDAPE): (2.36, 0.25)\n",
      "--- Время обучения: 77 seconds ---\n"
     ]
    }
   ],
   "source": [
    "gbtr = GBTRegressor(featuresCol='features',\n",
    "                        labelCol='orders',\n",
    "                        predictionCol='pred_orders',\n",
    "                        maxIter=150,\n",
    "                        maxDepth=3,\n",
    "                        stepSize=0.1)\n",
    "\n",
    "for area in range(1,78):\n",
    "    start_time = time.time()\n",
    "    cols = [\"Trip Start Timestamp\", str(area), 'month', 'day', 'dayofweek', 'hour', 'hour_sin', 'hour_cos']\n",
    "    df_ts_area = df_ts_area_full.select(cols).withColumn('orders', col(str(area)))\n",
    "    df_ts_area, num_columns = lag_avg(df_ts_area, lags=9, roll=3)\n",
    "    data_train, data_valid, data_test = ts_split(df_ts_area, .8, val=True)\n",
    "\n",
    "    print(f'Для района №{area}:')\n",
    "    pipeline_lag_lr = make_pipe(lr, num_cols=num_columns)\n",
    "    model_lr = pipeline_lag_lr.fit(data_train)\n",
    "    predictions = (model_lr.transform(data_valid)\n",
    "                           .withColumn('pred_orders', round('pred_orders')))\n",
    "    result_lr = mae_mdape(predictions)\n",
    "\n",
    "    num_columns.extend(['hour_sin', 'hour_cos'])\n",
    "    pipeline_lag_gbtr = make_pipe(gbtr,\n",
    "                              cat_cols=['month', 'day', 'dayofweek'],\n",
    "                              num_cols=num_columns)\n",
    "    model_gbtr = pipeline_lag_gbtr.fit(data_train)\n",
    "    predictions = (model_gbtr.transform(data_valid)\n",
    "                             .withColumn('pred_orders', round('pred_orders')))\n",
    "    result_gbtr = mae_mdape(predictions)\n",
    "    globals()['data_test_'+str(area)] = data_test\n",
    "    if result_lr[0] < result_gbtr[0]:\n",
    "        print(f'* LR (MAE, MDAPE): {result_lr[0], result_lr[1]}')\n",
    "        print(f'GBTR (MAE, MDAPE): {result_gbtr[0], result_gbtr[1]}')\n",
    "        globals()['model_'+str(area)] = model_lr\n",
    "    else:\n",
    "        print(f'LR (MAE, MDAPE): {result_lr[0], result_lr[1]}')\n",
    "        print(f'* GBTR (MAE, MDAPE): {result_gbtr[0], result_gbtr[1]}')\n",
    "        globals()['model_'+str(area)] = model_gbtr\n",
    "\n",
    "    print(f\"--- Время обучения: {int(time.time() - start_time)} seconds ---\" )\n"
   ]
  },
  {
   "cell_type": "markdown",
   "id": "e154b086-714c-48a6-82f9-3d968b57290d",
   "metadata": {
    "id": "e154b086-714c-48a6-82f9-3d968b57290d"
   },
   "source": [
    "Кау видим для большого количества районов погрешность предсказаний довольно высокая, несмотря на то, что абсолютная ошибка низкая. В первую очередь это связано с тем, что количество заказов такси в данных районах очень низкое, что не позволяет модели качественно отрабатывать."
   ]
  },
  {
   "cell_type": "markdown",
   "id": "fc6d8556-0bd5-4dd4-9d9c-5dc4b0e0353a",
   "metadata": {
    "id": "fc6d8556-0bd5-4dd4-9d9c-5dc4b0e0353a"
   },
   "source": [
    "### Проверка лучших моделей"
   ]
  },
  {
   "cell_type": "markdown",
   "id": "d37237e0-be15-4b0a-9b38-fe9790a959df",
   "metadata": {
    "id": "d37237e0-be15-4b0a-9b38-fe9790a959df"
   },
   "source": [
    "Спрогнозируем количество заказов на последний час, а также сравним с константной моделью, которая будет использовать среднее значение для прогноза."
   ]
  },
  {
   "cell_type": "code",
   "execution_count": null,
   "id": "60f4e2b0-7586-49c1-9910-04e3ef906d1a",
   "metadata": {
    "id": "60f4e2b0-7586-49c1-9910-04e3ef906d1a",
    "outputId": "78be95c5-fd4a-401e-9d6f-9f65bba6d64f"
   },
   "outputs": [
    {
     "name": "stdout",
     "output_type": "stream",
     "text": [
      "Для района №1:\n",
      "CONST (MAE, MDAPE): (3.0, 3.0)\n",
      "* MODEL (MAE, MDAPE): (0.46, 0.457)\n",
      "--- Время проверки: 6 seconds ---\n",
      "Для района №2:\n",
      "CONST (MAE, MDAPE): (5.0, 5.0)\n",
      "* MODEL (MAE, MDAPE): (0.61, 0.613)\n",
      "--- Время проверки: 6 seconds ---\n",
      "Для района №3:\n",
      "CONST (MAE, MDAPE): (7.0, 1.4)\n",
      "* MODEL (MAE, MDAPE): (0.12, 0.024)\n",
      "--- Время проверки: 6 seconds ---\n",
      "Для района №4:\n",
      "CONST (MAE, MDAPE): (2.0, 2.0)\n",
      "* MODEL (MAE, MDAPE): (0.07, 0.068)\n",
      "--- Время проверки: 6 seconds ---\n",
      "Для района №5:\n",
      "* CONST (MAE, MDAPE): (0.0, 0.0)\n",
      "MODEL (MAE, MDAPE): (0.76, 0.379)\n",
      "--- Время проверки: 7 seconds ---\n",
      "Для района №6:\n",
      "CONST (MAE, MDAPE): (14.0, 1.167)\n",
      "* MODEL (MAE, MDAPE): (0.1, 0.008)\n",
      "--- Время проверки: 6 seconds ---\n",
      "Для района №7:\n",
      "CONST (MAE, MDAPE): (2.0, 0.133)\n",
      "* MODEL (MAE, MDAPE): (0.06, 0.004)\n",
      "--- Время проверки: 6 seconds ---\n",
      "Для района №8:\n",
      "CONST (MAE, MDAPE): (90.0, 1.233)\n",
      "* MODEL (MAE, MDAPE): (1.32, 0.018)\n",
      "--- Время проверки: 6 seconds ---\n",
      "Для района №9:\n",
      "* CONST (MAE, MDAPE): (0.0, None)\n",
      "MODEL (MAE, MDAPE): (0.31, None)\n",
      "--- Время проверки: 6 seconds ---\n",
      "Для района №10:\n",
      "CONST (MAE, MDAPE): (1.0, 1.0)\n",
      "* MODEL (MAE, MDAPE): (0.11, 0.106)\n",
      "--- Время проверки: 6 seconds ---\n",
      "Для района №11:\n",
      "CONST (MAE, MDAPE): (1.0, None)\n",
      "* MODEL (MAE, MDAPE): (0.82, None)\n",
      "--- Время проверки: 7 seconds ---\n",
      "Для района №12:\n",
      "CONST (MAE, MDAPE): (1.0, None)\n",
      "* MODEL (MAE, MDAPE): (0.44, None)\n",
      "--- Время проверки: 6 seconds ---\n",
      "Для района №13:\n",
      "* CONST (MAE, MDAPE): (1.0, 0.5)\n",
      "MODEL (MAE, MDAPE): (1.73, 0.867)\n",
      "--- Время проверки: 7 seconds ---\n",
      "Для района №14:\n",
      "CONST (MAE, MDAPE): (2.0, None)\n",
      "* MODEL (MAE, MDAPE): (0.51, None)\n",
      "--- Время проверки: 6 seconds ---\n",
      "Для района №15:\n",
      "CONST (MAE, MDAPE): (1.0, None)\n",
      "* MODEL (MAE, MDAPE): (0.18, None)\n",
      "--- Время проверки: 7 seconds ---\n",
      "Для района №16:\n",
      "CONST (MAE, MDAPE): (3.0, None)\n",
      "* MODEL (MAE, MDAPE): (1.37, None)\n",
      "--- Время проверки: 6 seconds ---\n",
      "Для района №17:\n",
      "* CONST (MAE, MDAPE): (0.0, None)\n",
      "MODEL (MAE, MDAPE): (0.16, None)\n",
      "--- Время проверки: 6 seconds ---\n",
      "Для района №18:\n",
      "* CONST (MAE, MDAPE): (0.0, None)\n",
      "MODEL (MAE, MDAPE): (0.02, None)\n",
      "--- Время проверки: 6 seconds ---\n",
      "Для района №19:\n",
      "CONST (MAE, MDAPE): (1.0, None)\n",
      "* MODEL (MAE, MDAPE): (0.53, None)\n",
      "--- Время проверки: 7 seconds ---\n",
      "Для района №20:\n",
      "* CONST (MAE, MDAPE): (0.0, None)\n",
      "MODEL (MAE, MDAPE): (0.13, None)\n",
      "--- Время проверки: 6 seconds ---\n",
      "Для района №21:\n",
      "CONST (MAE, MDAPE): (2.0, None)\n",
      "* MODEL (MAE, MDAPE): (0.83, None)\n",
      "--- Время проверки: 6 seconds ---\n",
      "Для района №22:\n",
      "* CONST (MAE, MDAPE): (2.0, 0.333)\n",
      "MODEL (MAE, MDAPE): (3.97, 0.662)\n",
      "--- Время проверки: 6 seconds ---\n",
      "Для района №23:\n",
      "CONST (MAE, MDAPE): (1.0, None)\n",
      "* MODEL (MAE, MDAPE): (0.06, None)\n",
      "--- Время проверки: 6 seconds ---\n",
      "Для района №24:\n",
      "* CONST (MAE, MDAPE): (0.0, 0.0)\n",
      "MODEL (MAE, MDAPE): (5.84, 0.73)\n",
      "--- Время проверки: 6 seconds ---\n",
      "Для района №25:\n",
      "CONST (MAE, MDAPE): (1.0, None)\n",
      "* MODEL (MAE, MDAPE): (0.9, None)\n",
      "--- Время проверки: 6 seconds ---\n",
      "Для района №26:\n",
      "* CONST (MAE, MDAPE): (0.0, None)\n",
      "MODEL (MAE, MDAPE): (0.06, None)\n",
      "--- Время проверки: 6 seconds ---\n",
      "Для района №27:\n",
      "CONST (MAE, MDAPE): (1.0, None)\n",
      "* MODEL (MAE, MDAPE): (0.28, None)\n",
      "--- Время проверки: 6 seconds ---\n",
      "Для района №28:\n",
      "CONST (MAE, MDAPE): (26.0, 0.722)\n",
      "* MODEL (MAE, MDAPE): (1.72, 0.048)\n",
      "--- Время проверки: 6 seconds ---\n",
      "Для района №29:\n",
      "CONST (MAE, MDAPE): (1.0, None)\n",
      "* MODEL (MAE, MDAPE): (0.21, None)\n",
      "--- Время проверки: 6 seconds ---\n",
      "Для района №30:\n",
      "* CONST (MAE, MDAPE): (0.0, None)\n",
      "MODEL (MAE, MDAPE): (0.23, None)\n",
      "--- Время проверки: 6 seconds ---\n",
      "Для района №31:\n",
      "CONST (MAE, MDAPE): (1.0, 0.5)\n",
      "* MODEL (MAE, MDAPE): (0.91, 0.455)\n",
      "--- Время проверки: 6 seconds ---\n",
      "Для района №32:\n",
      "CONST (MAE, MDAPE): (48.0, 0.706)\n",
      "* MODEL (MAE, MDAPE): (26.01, 0.383)\n",
      "--- Время проверки: 6 seconds ---\n",
      "Для района №33:\n",
      "CONST (MAE, MDAPE): (14.0, 1.167)\n",
      "* MODEL (MAE, MDAPE): (4.04, 0.337)\n",
      "--- Время проверки: 6 seconds ---\n",
      "Для района №34:\n",
      "* CONST (MAE, MDAPE): (0.0, 0.0)\n",
      "MODEL (MAE, MDAPE): (0.08, 0.04)\n",
      "--- Время проверки: 6 seconds ---\n",
      "Для района №35:\n",
      "CONST (MAE, MDAPE): (3.0, 3.0)\n",
      "* MODEL (MAE, MDAPE): (0.33, 0.331)\n",
      "--- Время проверки: 6 seconds ---\n",
      "Для района №36:\n",
      "CONST (MAE, MDAPE): (2.0, None)\n",
      "* MODEL (MAE, MDAPE): (0.35, None)\n",
      "--- Время проверки: 6 seconds ---\n",
      "Для района №37:\n",
      "CONST (MAE, MDAPE): (1.0, 0.5)\n",
      "* MODEL (MAE, MDAPE): (0.94, 0.469)\n",
      "--- Время проверки: 6 seconds ---\n",
      "Для района №38:\n",
      "CONST (MAE, MDAPE): (4.0, None)\n",
      "* MODEL (MAE, MDAPE): (0.37, None)\n",
      "--- Время проверки: 6 seconds ---\n",
      "Для района №39:\n",
      "* CONST (MAE, MDAPE): (1.0, 0.5)\n",
      "MODEL (MAE, MDAPE): (1.47, 0.734)\n",
      "--- Время проверки: 6 seconds ---\n",
      "Для района №40:\n",
      "CONST (MAE, MDAPE): (1.0, None)\n",
      "* MODEL (MAE, MDAPE): (0.48, None)\n",
      "--- Время проверки: 6 seconds ---\n",
      "Для района №41:\n",
      "CONST (MAE, MDAPE): (5.0, None)\n",
      "* MODEL (MAE, MDAPE): (1.42, None)\n",
      "--- Время проверки: 6 seconds ---\n",
      "Для района №42:\n",
      "CONST (MAE, MDAPE): (2.0, None)\n",
      "* MODEL (MAE, MDAPE): (0.26, None)\n",
      "--- Время проверки: 6 seconds ---\n",
      "Для района №43:\n",
      "CONST (MAE, MDAPE): (4.0, None)\n",
      "* MODEL (MAE, MDAPE): (0.92, None)\n",
      "--- Время проверки: 6 seconds ---\n",
      "Для района №44:\n",
      "* CONST (MAE, MDAPE): (0.0, 0.0)\n",
      "MODEL (MAE, MDAPE): (1.8, 0.599)\n",
      "--- Время проверки: 6 seconds ---\n",
      "Для района №45:\n",
      "CONST (MAE, MDAPE): (1.0, None)\n",
      "* MODEL (MAE, MDAPE): (0.16, None)\n",
      "--- Время проверки: 6 seconds ---\n",
      "Для района №46:\n",
      "CONST (MAE, MDAPE): (1.0, None)\n",
      "* MODEL (MAE, MDAPE): (0.25, None)\n",
      "--- Время проверки: 6 seconds ---\n",
      "Для района №47:\n",
      "* CONST (MAE, MDAPE): (0.0, None)\n",
      "MODEL (MAE, MDAPE): (0.01, None)\n",
      "--- Время проверки: 6 seconds ---\n",
      "Для района №48:\n",
      "CONST (MAE, MDAPE): (1.0, None)\n",
      "* MODEL (MAE, MDAPE): (0.15, None)\n",
      "--- Время проверки: 6 seconds ---\n",
      "Для района №49:\n",
      "CONST (MAE, MDAPE): (2.0, None)\n",
      "* MODEL (MAE, MDAPE): (0.83, None)\n",
      "--- Время проверки: 6 seconds ---\n",
      "Для района №50:\n",
      "CONST (MAE, MDAPE): (1.0, None)\n",
      "* MODEL (MAE, MDAPE): (0.92, None)\n",
      "--- Время проверки: 6 seconds ---\n",
      "Для района №51:\n",
      "* CONST (MAE, MDAPE): (0.0, 0.0)\n",
      "MODEL (MAE, MDAPE): (0.52, 0.524)\n",
      "--- Время проверки: 6 seconds ---\n",
      "Для района №52:\n",
      "* CONST (MAE, MDAPE): (0.0, None)\n",
      "MODEL (MAE, MDAPE): (0.25, None)\n",
      "--- Время проверки: 6 seconds ---\n",
      "Для района №53:\n",
      "* CONST (MAE, MDAPE): (1.0, 0.5)\n",
      "MODEL (MAE, MDAPE): (1.36, 0.681)\n",
      "--- Время проверки: 6 seconds ---\n",
      "Для района №54:\n",
      "* CONST (MAE, MDAPE): (0.0, None)\n",
      "MODEL (MAE, MDAPE): (0.19, None)\n",
      "--- Время проверки: 6 seconds ---\n",
      "Для района №55:\n",
      "* CONST (MAE, MDAPE): (0.0, None)\n",
      "MODEL (MAE, MDAPE): (0.15, None)\n",
      "--- Время проверки: 6 seconds ---\n",
      "Для района №56:\n",
      "* CONST (MAE, MDAPE): (3.0, 0.125)\n",
      "MODEL (MAE, MDAPE): (14.27, 0.595)\n",
      "--- Время проверки: 6 seconds ---\n",
      "Для района №57:\n",
      "* CONST (MAE, MDAPE): (0.0, None)\n",
      "MODEL (MAE, MDAPE): (0.14, None)\n",
      "--- Время проверки: 6 seconds ---\n",
      "Для района №58:\n",
      "* CONST (MAE, MDAPE): (0.0, None)\n",
      "MODEL (MAE, MDAPE): (0.21, None)\n",
      "--- Время проверки: 6 seconds ---\n",
      "Для района №59:\n",
      "CONST (MAE, MDAPE): (2.0, None)\n",
      "* MODEL (MAE, MDAPE): (0.26, None)\n",
      "--- Время проверки: 6 seconds ---\n",
      "Для района №60:\n",
      "CONST (MAE, MDAPE): (1.0, None)\n",
      "* MODEL (MAE, MDAPE): (0.31, None)\n",
      "--- Время проверки: 6 seconds ---\n",
      "Для района №61:\n",
      "CONST (MAE, MDAPE): (1.0, None)\n",
      "* MODEL (MAE, MDAPE): (0.18, None)\n",
      "--- Время проверки: 6 seconds ---\n",
      "Для района №62:\n",
      "* CONST (MAE, MDAPE): (0.0, None)\n",
      "MODEL (MAE, MDAPE): (0.13, None)\n",
      "--- Время проверки: 6 seconds ---\n",
      "Для района №63:\n",
      "* CONST (MAE, MDAPE): (0.0, None)\n",
      "MODEL (MAE, MDAPE): (0.02, None)\n",
      "--- Время проверки: 6 seconds ---\n",
      "Для района №64:\n",
      "* CONST (MAE, MDAPE): (0.0, None)\n",
      "MODEL (MAE, MDAPE): (0.07, None)\n",
      "--- Время проверки: 6 seconds ---\n",
      "Для района №65:\n",
      "* CONST (MAE, MDAPE): (0.0, None)\n",
      "MODEL (MAE, MDAPE): (0.11, None)\n",
      "--- Время проверки: 6 seconds ---\n",
      "Для района №66:\n",
      "CONST (MAE, MDAPE): (1.0, None)\n",
      "* MODEL (MAE, MDAPE): (0.19, None)\n",
      "--- Время проверки: 6 seconds ---\n",
      "Для района №67:\n",
      "* CONST (MAE, MDAPE): (0.0, 0.0)\n",
      "MODEL (MAE, MDAPE): (0.89, 0.893)\n",
      "--- Время проверки: 6 seconds ---\n",
      "Для района №68:\n",
      "* CONST (MAE, MDAPE): (1.0, 0.333)\n",
      "MODEL (MAE, MDAPE): (2.49, 0.829)\n",
      "--- Время проверки: 6 seconds ---\n",
      "Для района №69:\n",
      "CONST (MAE, MDAPE): (2.0, 2.0)\n",
      "* MODEL (MAE, MDAPE): (0.09, 0.086)\n",
      "--- Время проверки: 6 seconds ---\n",
      "Для района №70:\n",
      "CONST (MAE, MDAPE): (1.0, None)\n",
      "* MODEL (MAE, MDAPE): (0.22, None)\n",
      "--- Время проверки: 6 seconds ---\n",
      "Для района №71:\n",
      "CONST (MAE, MDAPE): (1.0, None)\n",
      "* MODEL (MAE, MDAPE): (0.22, None)\n",
      "--- Время проверки: 6 seconds ---\n",
      "Для района №72:\n",
      "* CONST (MAE, MDAPE): (0.0, None)\n",
      "MODEL (MAE, MDAPE): (0.1, None)\n",
      "--- Время проверки: 6 seconds ---\n",
      "Для района №73:\n",
      "CONST (MAE, MDAPE): (1.0, None)\n",
      "* MODEL (MAE, MDAPE): (0.26, None)\n",
      "--- Время проверки: 6 seconds ---\n",
      "Для района №74:\n",
      "* CONST (MAE, MDAPE): (0.0, None)\n",
      "MODEL (MAE, MDAPE): (0.04, None)\n",
      "--- Время проверки: 6 seconds ---\n",
      "Для района №75:\n",
      "CONST (MAE, MDAPE): (1.0, None)\n",
      "* MODEL (MAE, MDAPE): (0.34, None)\n",
      "--- Время проверки: 6 seconds ---\n",
      "Для района №76:\n",
      "* CONST (MAE, MDAPE): (2.0, 0.017)\n",
      "MODEL (MAE, MDAPE): (16.42, 0.139)\n",
      "--- Время проверки: 6 seconds ---\n",
      "Для района №77:\n",
      "CONST (MAE, MDAPE): (7.0, 3.5)\n",
      "* MODEL (MAE, MDAPE): (0.74, 0.369)\n",
      "--- Время проверки: 6 seconds ---\n"
     ]
    }
   ],
   "source": [
    "good_area = []\n",
    "bad_area = []\n",
    "for area in range(1,78):\n",
    "    start_time = time.time()\n",
    "    predict_c = const_model (df_ts_area_full, area)\n",
    "    result_const = mae_mdape(predict_c)\n",
    "    model_best = globals()['model_'+str(area)]\n",
    "    predict_best = model_best.transform(globals()['data_test_'+str(area)])\n",
    "    result_best = mae_mdape(predict_best)\n",
    "    print(f'Для района №{area}:')\n",
    "    if result_const[0] < result_best[0]:\n",
    "        bad_area.append(area)\n",
    "        print(f'* CONST (MAE, MDAPE): {result_const[0], result_const[1]}')\n",
    "        print(f'MODEL (MAE, MDAPE): {result_best[0], result_best[1]}')\n",
    "    else:\n",
    "        good_area.append(area)\n",
    "        print(f'CONST (MAE, MDAPE): {result_const[0], result_const[1]}')\n",
    "        print(f'* MODEL (MAE, MDAPE): {result_best[0], result_best[1]}')\n",
    "    print(f\"--- Время проверки: {int(time.time() - start_time)} seconds ---\" )"
   ]
  },
  {
   "cell_type": "markdown",
   "id": "41c14779-c574-4387-b902-4e3a48db81a5",
   "metadata": {
    "id": "41c14779-c574-4387-b902-4e3a48db81a5"
   },
   "source": [
    "Для некоторых районов константная модель сработала даже лучше, но опираться на данный результат не рекомендуется, так как для проверки был выбран лишь один час.\n",
    "Высокая погрешность выбранной модели в некоторых районах связана с малым количеством заказов, либо аномалиями как для 56 района."
   ]
  },
  {
   "cell_type": "markdown",
   "id": "086cfe50-dd2d-4e46-ac28-6c9c197303b6",
   "metadata": {
    "id": "086cfe50-dd2d-4e46-ac28-6c9c197303b6"
   },
   "source": [
    "# Вывод"
   ]
  },
  {
   "cell_type": "markdown",
   "id": "f77cea13-e2b9-4eb2-8a94-b609e906365e",
   "metadata": {
    "id": "f77cea13-e2b9-4eb2-8a94-b609e906365e"
   },
   "source": [
    "Возпользовавшись предоставленными данными о поездках на такси был проведён анализ анализ спроса на такси в 22-23 году в Чикаго.<br> Изучив общую информацию по всему городу, был проведён более подробный анализ самых популярных районов для заказа такси. По каждому из них была выявлена динамика по месяцам, годам и в течение дня. Для каждого из районов была свойственна сезонность, а именно в течение дня каждом из ТОП10 районов был в определённые часы явно выраженный высокий спрос и также в определенный интервал низкий. Также используя тест Дики-Фуллера выяснили, что временные ряды для каждого из ТОП10 районов стационарны, что говорит о стагнации с в течение 22-23 года.\n",
    "Для создания моделей предсказания были выделеные целевые временные признаки (день, месяц, день недели и час). Для обучения применялась модель Линейной регрессии и модель градиентного бустинга (GBT Regressor).\n",
    "Обучение проходило в несколько этапов:\n",
    "1) Модель обучалась на базовых признаках и предсказывала количество заказов по часу пл всему городу Чикаго.. Выбран интервал последних 100 дней (самые актуальные данные).\n",
    "2) Были созданы новые признаки, включающие в себе данные о количестве заказов такси в предыдущие периоды и среднем количестве заказов за последние несколько часов.\n",
    "3) Для модели градиентного бустинга были подобраны оптимальные гиперпараметры и добавлены 2 новых признака, которые отражали периодичность спроса изо дня в день.\n",
    "4) Модели с оптимальными гиперпараметрами были обучены по каждому району по отдельности, выбрана самая лучшая и протестированы. В качестве теста был предсказан спрос на последний час и результаты модели сравнили с константной моделью.<br>\n",
    "\n",
    "Для оценки качества моделей использовались метрики MAE и MDAPE (аналог MAPE, но с использованием медианного значения). Основной метрикой использовалась MAE.\n",
    "По одному предсказанию некорректно было сравнивать выбранные модели с константными, тем не менее данная процедура была проведена и результаты её отражены.\n",
    "\n",
    "\n",
    "    "
   ]
  }
 ],
 "metadata": {
  "colab": {
   "provenance": []
  },
  "kernelspec": {
   "display_name": "Python 3 (ipykernel)",
   "language": "python",
   "name": "python3"
  },
  "language_info": {
   "codemirror_mode": {
    "name": "ipython",
    "version": 3
   },
   "file_extension": ".py",
   "mimetype": "text/x-python",
   "name": "python",
   "nbconvert_exporter": "python",
   "pygments_lexer": "ipython3",
   "version": "3.11.4"
  }
 },
 "nbformat": 4,
 "nbformat_minor": 5
}
